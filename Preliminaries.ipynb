{
 "cells": [
  {
   "cell_type": "markdown",
   "metadata": {},
   "source": [
    "# 2.1.1. Getting Started"
   ]
  },
  {
   "cell_type": "code",
   "execution_count": 1,
   "metadata": {},
   "outputs": [
    {
     "name": "stdout",
     "output_type": "stream",
     "text": [
      "Done by Bohdan Levytskyi  2021-09-26 13:21:12.829693\n"
     ]
    }
   ],
   "source": [
    "import torch\n",
    "from datetime import datetime\n",
    "print(\"Done by Bohdan Levytskyi \", datetime.now())"
   ]
  },
  {
   "cell_type": "code",
   "execution_count": 98,
   "metadata": {},
   "outputs": [
    {
     "name": "stdout",
     "output_type": "stream",
     "text": [
      "Done by Bohdan Levytskyi  2021-09-12 20:25:51.140656\n"
     ]
    },
    {
     "data": {
      "text/plain": [
       "tensor([ 0,  1,  2,  3,  4,  5,  6,  7,  8,  9, 10, 11])"
      ]
     },
     "execution_count": 98,
     "metadata": {},
     "output_type": "execute_result"
    }
   ],
   "source": [
    "print(\"Done by Bohdan Levytskyi \", datetime.now())\n",
    "x = torch.arange(12)\n",
    "x"
   ]
  },
  {
   "cell_type": "code",
   "execution_count": 99,
   "metadata": {},
   "outputs": [
    {
     "name": "stdout",
     "output_type": "stream",
     "text": [
      "Done by Bohdan Levytskyi  2021-09-12 20:25:54.545784\n"
     ]
    },
    {
     "data": {
      "text/plain": [
       "torch.Size([12])"
      ]
     },
     "execution_count": 99,
     "metadata": {},
     "output_type": "execute_result"
    }
   ],
   "source": [
    "print(\"Done by Bohdan Levytskyi \", datetime.now())\n",
    "x.shape"
   ]
  },
  {
   "cell_type": "code",
   "execution_count": 100,
   "metadata": {},
   "outputs": [
    {
     "name": "stdout",
     "output_type": "stream",
     "text": [
      "Done by Bohdan Levytskyi  2021-09-12 20:25:56.950184\n"
     ]
    },
    {
     "data": {
      "text/plain": [
       "12"
      ]
     },
     "execution_count": 100,
     "metadata": {},
     "output_type": "execute_result"
    }
   ],
   "source": [
    "print(\"Done by Bohdan Levytskyi \", datetime.now())\n",
    "x.numel()"
   ]
  },
  {
   "cell_type": "code",
   "execution_count": 101,
   "metadata": {},
   "outputs": [
    {
     "name": "stdout",
     "output_type": "stream",
     "text": [
      "Done by Bohdan Levytskyi  2021-09-12 20:26:00.607079\n"
     ]
    },
    {
     "data": {
      "text/plain": [
       "tensor([[ 0,  1,  2,  3],\n",
       "        [ 4,  5,  6,  7],\n",
       "        [ 8,  9, 10, 11]])"
      ]
     },
     "execution_count": 101,
     "metadata": {},
     "output_type": "execute_result"
    }
   ],
   "source": [
    "print(\"Done by Bohdan Levytskyi \", datetime.now())\n",
    "X = x.reshape(3, 4)\n",
    "X"
   ]
  },
  {
   "cell_type": "code",
   "execution_count": 102,
   "metadata": {},
   "outputs": [
    {
     "name": "stdout",
     "output_type": "stream",
     "text": [
      "Done by Bohdan Levytskyi  2021-09-12 20:26:03.124021\n"
     ]
    },
    {
     "data": {
      "text/plain": [
       "tensor([[[0., 0., 0., 0.],\n",
       "         [0., 0., 0., 0.],\n",
       "         [0., 0., 0., 0.]],\n",
       "\n",
       "        [[0., 0., 0., 0.],\n",
       "         [0., 0., 0., 0.],\n",
       "         [0., 0., 0., 0.]]])"
      ]
     },
     "execution_count": 102,
     "metadata": {},
     "output_type": "execute_result"
    }
   ],
   "source": [
    "print(\"Done by Bohdan Levytskyi \", datetime.now())\n",
    "torch.zeros((2, 3, 4))"
   ]
  },
  {
   "cell_type": "code",
   "execution_count": 103,
   "metadata": {},
   "outputs": [
    {
     "name": "stdout",
     "output_type": "stream",
     "text": [
      "Done by Bohdan Levytskyi  2021-09-12 20:26:05.986397\n"
     ]
    },
    {
     "data": {
      "text/plain": [
       "tensor([[[1., 1., 1., 1.],\n",
       "         [1., 1., 1., 1.],\n",
       "         [1., 1., 1., 1.]],\n",
       "\n",
       "        [[1., 1., 1., 1.],\n",
       "         [1., 1., 1., 1.],\n",
       "         [1., 1., 1., 1.]]])"
      ]
     },
     "execution_count": 103,
     "metadata": {},
     "output_type": "execute_result"
    }
   ],
   "source": [
    "print(\"Done by Bohdan Levytskyi \", datetime.now())\n",
    "torch.ones((2, 3, 4))"
   ]
  },
  {
   "cell_type": "code",
   "execution_count": 104,
   "metadata": {},
   "outputs": [
    {
     "name": "stdout",
     "output_type": "stream",
     "text": [
      "Done by Bohdan Levytskyi  2021-09-12 20:26:10.111250\n"
     ]
    },
    {
     "data": {
      "text/plain": [
       "tensor([[ 1.5965,  1.2157, -0.9149,  0.4245],\n",
       "        [-0.4106, -1.0717,  1.2221,  0.9522],\n",
       "        [-0.2075,  1.7332,  0.4718,  1.3078]])"
      ]
     },
     "execution_count": 104,
     "metadata": {},
     "output_type": "execute_result"
    }
   ],
   "source": [
    "print(\"Done by Bohdan Levytskyi \", datetime.now())\n",
    "torch.randn(3, 4)"
   ]
  },
  {
   "cell_type": "code",
   "execution_count": 105,
   "metadata": {},
   "outputs": [
    {
     "name": "stdout",
     "output_type": "stream",
     "text": [
      "Done by Bohdan Levytskyi  2021-09-12 20:26:15.885056\n"
     ]
    },
    {
     "data": {
      "text/plain": [
       "tensor([[2, 1, 4, 3],\n",
       "        [1, 2, 3, 4],\n",
       "        [4, 3, 2, 1]])"
      ]
     },
     "execution_count": 105,
     "metadata": {},
     "output_type": "execute_result"
    }
   ],
   "source": [
    "print(\"Done by Bohdan Levytskyi \", datetime.now())\n",
    "torch.tensor([[2, 1, 4, 3], [1, 2, 3, 4], [4, 3, 2, 1]])"
   ]
  },
  {
   "cell_type": "markdown",
   "metadata": {},
   "source": [
    "# 2.1.2.1. Operations"
   ]
  },
  {
   "cell_type": "code",
   "execution_count": 106,
   "metadata": {},
   "outputs": [
    {
     "name": "stdout",
     "output_type": "stream",
     "text": [
      "Done by Bohdan Levytskyi  2021-09-12 20:26:18.439109\n"
     ]
    },
    {
     "data": {
      "text/plain": [
       "(tensor([ 3.,  4.,  6., 10.]),\n",
       " tensor([-1.,  0.,  2.,  6.]),\n",
       " tensor([ 2.,  4.,  8., 16.]),\n",
       " tensor([0.5000, 1.0000, 2.0000, 4.0000]),\n",
       " tensor([ 1.,  4., 16., 64.]))"
      ]
     },
     "execution_count": 106,
     "metadata": {},
     "output_type": "execute_result"
    }
   ],
   "source": [
    "print(\"Done by Bohdan Levytskyi \", datetime.now())\n",
    "x = torch.tensor([1.0, 2, 4, 8])\n",
    "y = torch.tensor([2, 2, 2, 2])\n",
    "x + y, x - y, x * y, x / y, x**y  # The ** operator is exponentiation"
   ]
  },
  {
   "cell_type": "code",
   "execution_count": 107,
   "metadata": {},
   "outputs": [
    {
     "name": "stdout",
     "output_type": "stream",
     "text": [
      "Done by Bohdan Levytskyi  2021-09-12 20:26:23.838688\n"
     ]
    },
    {
     "data": {
      "text/plain": [
       "tensor([2.7183e+00, 7.3891e+00, 5.4598e+01, 2.9810e+03])"
      ]
     },
     "execution_count": 107,
     "metadata": {},
     "output_type": "execute_result"
    }
   ],
   "source": [
    "print(\"Done by Bohdan Levytskyi \", datetime.now())\n",
    "torch.exp(x)"
   ]
  },
  {
   "cell_type": "code",
   "execution_count": 108,
   "metadata": {},
   "outputs": [
    {
     "name": "stdout",
     "output_type": "stream",
     "text": [
      "Done by Bohdan Levytskyi  2021-09-12 20:26:26.476371\n"
     ]
    },
    {
     "data": {
      "text/plain": [
       "(tensor([[ 0.,  1.,  2.,  3.],\n",
       "         [ 4.,  5.,  6.,  7.],\n",
       "         [ 8.,  9., 10., 11.],\n",
       "         [ 2.,  1.,  4.,  3.],\n",
       "         [ 1.,  2.,  3.,  4.],\n",
       "         [ 4.,  3.,  2.,  1.]]),\n",
       " tensor([[ 0.,  1.,  2.,  3.,  2.,  1.,  4.,  3.],\n",
       "         [ 4.,  5.,  6.,  7.,  1.,  2.,  3.,  4.],\n",
       "         [ 8.,  9., 10., 11.,  4.,  3.,  2.,  1.]]))"
      ]
     },
     "execution_count": 108,
     "metadata": {},
     "output_type": "execute_result"
    }
   ],
   "source": [
    "print(\"Done by Bohdan Levytskyi \", datetime.now())\n",
    "X = torch.arange(12, dtype=torch.float32).reshape((3, 4))\n",
    "Y = torch.tensor([[2.0, 1, 4, 3], [1, 2, 3, 4], [4, 3, 2, 1]])\n",
    "torch.cat((X, Y), dim=0), torch.cat((X, Y), dim=1)"
   ]
  },
  {
   "cell_type": "code",
   "execution_count": 109,
   "metadata": {},
   "outputs": [
    {
     "name": "stdout",
     "output_type": "stream",
     "text": [
      "Done by Bohdan Levytskyi  2021-09-12 20:26:29.423599\n"
     ]
    },
    {
     "data": {
      "text/plain": [
       "tensor([[False,  True, False,  True],\n",
       "        [False, False, False, False],\n",
       "        [False, False, False, False]])"
      ]
     },
     "execution_count": 109,
     "metadata": {},
     "output_type": "execute_result"
    }
   ],
   "source": [
    "print(\"Done by Bohdan Levytskyi \", datetime.now())\n",
    "X == Y"
   ]
  },
  {
   "cell_type": "code",
   "execution_count": 110,
   "metadata": {},
   "outputs": [
    {
     "name": "stdout",
     "output_type": "stream",
     "text": [
      "Done by Bohdan Levytskyi  2021-09-12 20:26:32.804136\n"
     ]
    },
    {
     "data": {
      "text/plain": [
       "tensor(66.)"
      ]
     },
     "execution_count": 110,
     "metadata": {},
     "output_type": "execute_result"
    }
   ],
   "source": [
    "print(\"Done by Bohdan Levytskyi \", datetime.now())\n",
    "X.sum()"
   ]
  },
  {
   "cell_type": "markdown",
   "metadata": {},
   "source": [
    "# 2.1.3. Broadcasting Mechanism"
   ]
  },
  {
   "cell_type": "code",
   "execution_count": 111,
   "metadata": {},
   "outputs": [
    {
     "name": "stdout",
     "output_type": "stream",
     "text": [
      "Done by Bohdan Levytskyi  2021-09-12 20:26:36.181185\n"
     ]
    },
    {
     "data": {
      "text/plain": [
       "(tensor([[0],\n",
       "         [1],\n",
       "         [2]]),\n",
       " tensor([[0, 1]]))"
      ]
     },
     "execution_count": 111,
     "metadata": {},
     "output_type": "execute_result"
    }
   ],
   "source": [
    "print(\"Done by Bohdan Levytskyi \", datetime.now())\n",
    "a = torch.arange(3).reshape((3, 1))\n",
    "b = torch.arange(2).reshape((1, 2))\n",
    "a, b"
   ]
  },
  {
   "cell_type": "code",
   "execution_count": 112,
   "metadata": {},
   "outputs": [
    {
     "name": "stdout",
     "output_type": "stream",
     "text": [
      "Done by Bohdan Levytskyi  2021-09-12 20:26:38.777412\n"
     ]
    },
    {
     "data": {
      "text/plain": [
       "tensor([[0, 1],\n",
       "        [1, 2],\n",
       "        [2, 3]])"
      ]
     },
     "execution_count": 112,
     "metadata": {},
     "output_type": "execute_result"
    }
   ],
   "source": [
    "print(\"Done by Bohdan Levytskyi \", datetime.now())\n",
    "a + b"
   ]
  },
  {
   "cell_type": "markdown",
   "metadata": {},
   "source": [
    "# 2.1.4. Indexing and Slicing"
   ]
  },
  {
   "cell_type": "code",
   "execution_count": 113,
   "metadata": {},
   "outputs": [
    {
     "name": "stdout",
     "output_type": "stream",
     "text": [
      "Done by Bohdan Levytskyi  2021-09-12 20:26:40.980077\n"
     ]
    },
    {
     "data": {
      "text/plain": [
       "(tensor([ 8.,  9., 10., 11.]),\n",
       " tensor([[ 4.,  5.,  6.,  7.],\n",
       "         [ 8.,  9., 10., 11.]]))"
      ]
     },
     "execution_count": 113,
     "metadata": {},
     "output_type": "execute_result"
    }
   ],
   "source": [
    "print(\"Done by Bohdan Levytskyi \", datetime.now())\n",
    "X[-1], X[1:3]"
   ]
  },
  {
   "cell_type": "code",
   "execution_count": 114,
   "metadata": {},
   "outputs": [
    {
     "name": "stdout",
     "output_type": "stream",
     "text": [
      "Done by Bohdan Levytskyi  2021-09-12 20:26:46.074192\n"
     ]
    },
    {
     "data": {
      "text/plain": [
       "tensor([[ 0.,  1.,  2.,  3.],\n",
       "        [ 4.,  5.,  9.,  7.],\n",
       "        [ 8.,  9., 10., 11.]])"
      ]
     },
     "execution_count": 114,
     "metadata": {},
     "output_type": "execute_result"
    }
   ],
   "source": [
    "print(\"Done by Bohdan Levytskyi \", datetime.now())\n",
    "X[1, 2] = 9\n",
    "X"
   ]
  },
  {
   "cell_type": "code",
   "execution_count": 115,
   "metadata": {},
   "outputs": [
    {
     "name": "stdout",
     "output_type": "stream",
     "text": [
      "Done by Bohdan Levytskyi  2021-09-12 20:26:49.133044\n"
     ]
    },
    {
     "data": {
      "text/plain": [
       "tensor([[12., 12., 12., 12.],\n",
       "        [12., 12., 12., 12.],\n",
       "        [ 8.,  9., 10., 11.]])"
      ]
     },
     "execution_count": 115,
     "metadata": {},
     "output_type": "execute_result"
    }
   ],
   "source": [
    "print(\"Done by Bohdan Levytskyi \", datetime.now())\n",
    "X[0:2, :] = 12\n",
    "X"
   ]
  },
  {
   "cell_type": "markdown",
   "metadata": {},
   "source": [
    "# 2.1.5. Saving Memory"
   ]
  },
  {
   "cell_type": "code",
   "execution_count": 116,
   "metadata": {},
   "outputs": [
    {
     "name": "stdout",
     "output_type": "stream",
     "text": [
      "Done by Bohdan Levytskyi  2021-09-12 20:26:51.574997\n"
     ]
    },
    {
     "data": {
      "text/plain": [
       "False"
      ]
     },
     "execution_count": 116,
     "metadata": {},
     "output_type": "execute_result"
    }
   ],
   "source": [
    "print(\"Done by Bohdan Levytskyi \", datetime.now())\n",
    "before = id(Y)\n",
    "Y = Y + X\n",
    "id(Y) == before"
   ]
  },
  {
   "cell_type": "code",
   "execution_count": 117,
   "metadata": {},
   "outputs": [
    {
     "name": "stdout",
     "output_type": "stream",
     "text": [
      "Done by Bohdan Levytskyi  2021-09-12 20:26:54.971085\n",
      "id(Z): 1945190138560\n",
      "id(Z): 1945190138560\n"
     ]
    }
   ],
   "source": [
    "print(\"Done by Bohdan Levytskyi \", datetime.now())\n",
    "Z = torch.zeros_like(Y)\n",
    "print('id(Z):', id(Z))\n",
    "Z[:] = X + Y\n",
    "print('id(Z):', id(Z))"
   ]
  },
  {
   "cell_type": "code",
   "execution_count": 118,
   "metadata": {},
   "outputs": [
    {
     "name": "stdout",
     "output_type": "stream",
     "text": [
      "Done by Bohdan Levytskyi  2021-09-12 20:26:57.084691\n"
     ]
    },
    {
     "data": {
      "text/plain": [
       "True"
      ]
     },
     "execution_count": 118,
     "metadata": {},
     "output_type": "execute_result"
    }
   ],
   "source": [
    "print(\"Done by Bohdan Levytskyi \", datetime.now())\n",
    "before = id(X)\n",
    "X += Y\n",
    "id(X) == before"
   ]
  },
  {
   "cell_type": "markdown",
   "metadata": {},
   "source": [
    "# 2.1.6. Conversion to Other Python Objects"
   ]
  },
  {
   "cell_type": "code",
   "execution_count": 119,
   "metadata": {},
   "outputs": [
    {
     "name": "stdout",
     "output_type": "stream",
     "text": [
      "Done by Bohdan Levytskyi  2021-09-12 20:27:00.109349\n"
     ]
    },
    {
     "data": {
      "text/plain": [
       "(numpy.ndarray, torch.Tensor)"
      ]
     },
     "execution_count": 119,
     "metadata": {},
     "output_type": "execute_result"
    }
   ],
   "source": [
    "print(\"Done by Bohdan Levytskyi \", datetime.now())\n",
    "A = X.numpy()\n",
    "B = torch.from_numpy(A)\n",
    "type(A), type(B)"
   ]
  },
  {
   "cell_type": "code",
   "execution_count": 120,
   "metadata": {},
   "outputs": [
    {
     "name": "stdout",
     "output_type": "stream",
     "text": [
      "Done by Bohdan Levytskyi  2021-09-12 20:27:02.773575\n"
     ]
    },
    {
     "data": {
      "text/plain": [
       "(tensor([3.5000]), 3.5, 3.5, 3)"
      ]
     },
     "execution_count": 120,
     "metadata": {},
     "output_type": "execute_result"
    }
   ],
   "source": [
    "print(\"Done by Bohdan Levytskyi \", datetime.now())\n",
    "a = torch.tensor([3.5])\n",
    "a, a.item(), float(a), int(a)"
   ]
  },
  {
   "cell_type": "markdown",
   "metadata": {},
   "source": [
    "# 2.2.1. Reading the Dataset"
   ]
  },
  {
   "cell_type": "code",
   "execution_count": 121,
   "metadata": {},
   "outputs": [
    {
     "name": "stdout",
     "output_type": "stream",
     "text": [
      "Done by Bohdan Levytskyi  2021-09-12 20:27:05.901902\n"
     ]
    }
   ],
   "source": [
    "print(\"Done by Bohdan Levytskyi \", datetime.now())\n",
    "import os\n",
    "\n",
    "os.makedirs(os.path.join('..', 'data'), exist_ok=True)\n",
    "data_file = os.path.join('..', 'data', 'house_tiny.csv')\n",
    "with open(data_file, 'w') as f:\n",
    "    f.write('NumRooms,Alley,Price\\n')  # Column names\n",
    "    f.write('NA,Pave,127500\\n')  # Each row represents a data example\n",
    "    f.write('2,NA,106000\\n')\n",
    "    f.write('4,NA,178100\\n')\n",
    "    f.write('NA,NA,140000\\n')"
   ]
  },
  {
   "cell_type": "code",
   "execution_count": 122,
   "metadata": {},
   "outputs": [
    {
     "name": "stdout",
     "output_type": "stream",
     "text": [
      "Done by Bohdan Levytskyi  2021-09-12 20:27:08.218763\n",
      "   NumRooms Alley   Price\n",
      "0       NaN  Pave  127500\n",
      "1       2.0   NaN  106000\n",
      "2       4.0   NaN  178100\n",
      "3       NaN   NaN  140000\n"
     ]
    }
   ],
   "source": [
    "print(\"Done by Bohdan Levytskyi \", datetime.now())\n",
    "import pandas as pd\n",
    "\n",
    "data = pd.read_csv(data_file)\n",
    "print(data)"
   ]
  },
  {
   "cell_type": "markdown",
   "metadata": {},
   "source": [
    "# 2.2.2. Handling Missing Data"
   ]
  },
  {
   "cell_type": "code",
   "execution_count": 123,
   "metadata": {},
   "outputs": [
    {
     "name": "stdout",
     "output_type": "stream",
     "text": [
      "Done by Bohdan Levytskyi  2021-09-12 20:27:11.625094\n",
      "   NumRooms Alley\n",
      "0       3.0  Pave\n",
      "1       2.0   NaN\n",
      "2       4.0   NaN\n",
      "3       3.0   NaN\n"
     ]
    }
   ],
   "source": [
    "print(\"Done by Bohdan Levytskyi \", datetime.now())\n",
    "inputs, outputs = data.iloc[:, 0:2], data.iloc[:, 2]\n",
    "inputs = inputs.fillna(inputs.mean())\n",
    "print(inputs)"
   ]
  },
  {
   "cell_type": "code",
   "execution_count": 124,
   "metadata": {},
   "outputs": [
    {
     "name": "stdout",
     "output_type": "stream",
     "text": [
      "Done by Bohdan Levytskyi  2021-09-12 20:27:14.143637\n",
      "   NumRooms  Alley_Pave  Alley_nan\n",
      "0       3.0           1          0\n",
      "1       2.0           0          1\n",
      "2       4.0           0          1\n",
      "3       3.0           0          1\n"
     ]
    }
   ],
   "source": [
    "print(\"Done by Bohdan Levytskyi \", datetime.now())\n",
    "inputs = pd.get_dummies(inputs, dummy_na=True)\n",
    "print(inputs)"
   ]
  },
  {
   "cell_type": "markdown",
   "metadata": {},
   "source": [
    "# 2.2.3. Conversion to the Tensor Forma"
   ]
  },
  {
   "cell_type": "code",
   "execution_count": 125,
   "metadata": {},
   "outputs": [
    {
     "name": "stdout",
     "output_type": "stream",
     "text": [
      "Done by Bohdan Levytskyi  2021-09-12 20:27:19.098213\n"
     ]
    },
    {
     "data": {
      "text/plain": [
       "(tensor([[3., 1., 0.],\n",
       "         [2., 0., 1.],\n",
       "         [4., 0., 1.],\n",
       "         [3., 0., 1.]], dtype=torch.float64),\n",
       " tensor([127500, 106000, 178100, 140000]))"
      ]
     },
     "execution_count": 125,
     "metadata": {},
     "output_type": "execute_result"
    }
   ],
   "source": [
    "print(\"Done by Bohdan Levytskyi \", datetime.now())\n",
    "import torch\n",
    "\n",
    "X, y = torch.tensor(inputs.values), torch.tensor(outputs.values)\n",
    "X, y"
   ]
  },
  {
   "cell_type": "markdown",
   "metadata": {},
   "source": [
    "# 2.3.1. Scalars"
   ]
  },
  {
   "cell_type": "code",
   "execution_count": 126,
   "metadata": {},
   "outputs": [
    {
     "name": "stdout",
     "output_type": "stream",
     "text": [
      "Done by Bohdan Levytskyi  2021-09-12 20:27:21.701823\n"
     ]
    },
    {
     "data": {
      "text/plain": [
       "(tensor(5.), tensor(6.), tensor(1.5000), tensor(9.))"
      ]
     },
     "execution_count": 126,
     "metadata": {},
     "output_type": "execute_result"
    }
   ],
   "source": [
    "print(\"Done by Bohdan Levytskyi \", datetime.now())\n",
    "import torch\n",
    "\n",
    "x = torch.tensor(3.0)\n",
    "y = torch.tensor(2.0)\n",
    "\n",
    "x + y, x * y, x / y, x**y"
   ]
  },
  {
   "cell_type": "markdown",
   "metadata": {},
   "source": [
    "# 2.3.2. Vectors"
   ]
  },
  {
   "cell_type": "code",
   "execution_count": 127,
   "metadata": {},
   "outputs": [
    {
     "name": "stdout",
     "output_type": "stream",
     "text": [
      "Done by Bohdan Levytskyi  2021-09-12 20:27:24.262975\n"
     ]
    },
    {
     "data": {
      "text/plain": [
       "tensor([0, 1, 2, 3])"
      ]
     },
     "execution_count": 127,
     "metadata": {},
     "output_type": "execute_result"
    }
   ],
   "source": [
    "print(\"Done by Bohdan Levytskyi \", datetime.now())\n",
    "x = torch.arange(4)\n",
    "x"
   ]
  },
  {
   "cell_type": "code",
   "execution_count": 128,
   "metadata": {},
   "outputs": [
    {
     "name": "stdout",
     "output_type": "stream",
     "text": [
      "Done by Bohdan Levytskyi  2021-09-12 20:27:26.945670\n"
     ]
    },
    {
     "data": {
      "text/plain": [
       "tensor(3)"
      ]
     },
     "execution_count": 128,
     "metadata": {},
     "output_type": "execute_result"
    }
   ],
   "source": [
    "print(\"Done by Bohdan Levytskyi \", datetime.now())\n",
    "x[3]"
   ]
  },
  {
   "cell_type": "markdown",
   "metadata": {},
   "source": [
    "# 2.3.2.1. Length, Dimensionality, and Shape"
   ]
  },
  {
   "cell_type": "code",
   "execution_count": 129,
   "metadata": {},
   "outputs": [
    {
     "name": "stdout",
     "output_type": "stream",
     "text": [
      "Done by Bohdan Levytskyi  2021-09-12 20:27:29.174856\n"
     ]
    },
    {
     "data": {
      "text/plain": [
       "4"
      ]
     },
     "execution_count": 129,
     "metadata": {},
     "output_type": "execute_result"
    }
   ],
   "source": [
    "print(\"Done by Bohdan Levytskyi \", datetime.now())\n",
    "len(x)"
   ]
  },
  {
   "cell_type": "code",
   "execution_count": 130,
   "metadata": {},
   "outputs": [
    {
     "name": "stdout",
     "output_type": "stream",
     "text": [
      "Done by Bohdan Levytskyi  2021-09-12 20:27:33.567433\n"
     ]
    },
    {
     "data": {
      "text/plain": [
       "torch.Size([4])"
      ]
     },
     "execution_count": 130,
     "metadata": {},
     "output_type": "execute_result"
    }
   ],
   "source": [
    "print(\"Done by Bohdan Levytskyi \", datetime.now())\n",
    "x.shape"
   ]
  },
  {
   "cell_type": "markdown",
   "metadata": {},
   "source": [
    "# 2.3.3. Matrices"
   ]
  },
  {
   "cell_type": "code",
   "execution_count": 131,
   "metadata": {},
   "outputs": [
    {
     "name": "stdout",
     "output_type": "stream",
     "text": [
      "Done by Bohdan Levytskyi  2021-09-12 20:27:36.097769\n"
     ]
    },
    {
     "data": {
      "text/plain": [
       "tensor([[ 0,  1,  2,  3],\n",
       "        [ 4,  5,  6,  7],\n",
       "        [ 8,  9, 10, 11],\n",
       "        [12, 13, 14, 15],\n",
       "        [16, 17, 18, 19]])"
      ]
     },
     "execution_count": 131,
     "metadata": {},
     "output_type": "execute_result"
    }
   ],
   "source": [
    "print(\"Done by Bohdan Levytskyi \", datetime.now())\n",
    "A = torch.arange(20).reshape(5, 4)\n",
    "A"
   ]
  },
  {
   "cell_type": "code",
   "execution_count": 132,
   "metadata": {},
   "outputs": [
    {
     "name": "stdout",
     "output_type": "stream",
     "text": [
      "Done by Bohdan Levytskyi  2021-09-12 20:27:38.374545\n"
     ]
    },
    {
     "data": {
      "text/plain": [
       "tensor([[ 0,  4,  8, 12, 16],\n",
       "        [ 1,  5,  9, 13, 17],\n",
       "        [ 2,  6, 10, 14, 18],\n",
       "        [ 3,  7, 11, 15, 19]])"
      ]
     },
     "execution_count": 132,
     "metadata": {},
     "output_type": "execute_result"
    }
   ],
   "source": [
    "print(\"Done by Bohdan Levytskyi \", datetime.now())\n",
    "A.T"
   ]
  },
  {
   "cell_type": "code",
   "execution_count": 133,
   "metadata": {},
   "outputs": [
    {
     "name": "stdout",
     "output_type": "stream",
     "text": [
      "Done by Bohdan Levytskyi  2021-09-12 20:27:40.789983\n"
     ]
    },
    {
     "data": {
      "text/plain": [
       "tensor([[1, 2, 3],\n",
       "        [2, 0, 4],\n",
       "        [3, 4, 5]])"
      ]
     },
     "execution_count": 133,
     "metadata": {},
     "output_type": "execute_result"
    }
   ],
   "source": [
    "print(\"Done by Bohdan Levytskyi \", datetime.now())\n",
    "B = torch.tensor([[1, 2, 3], [2, 0, 4], [3, 4, 5]])\n",
    "B"
   ]
  },
  {
   "cell_type": "code",
   "execution_count": 134,
   "metadata": {},
   "outputs": [
    {
     "name": "stdout",
     "output_type": "stream",
     "text": [
      "Done by Bohdan Levytskyi  2021-09-12 20:27:43.061782\n"
     ]
    },
    {
     "data": {
      "text/plain": [
       "tensor([[True, True, True],\n",
       "        [True, True, True],\n",
       "        [True, True, True]])"
      ]
     },
     "execution_count": 134,
     "metadata": {},
     "output_type": "execute_result"
    }
   ],
   "source": [
    "print(\"Done by Bohdan Levytskyi \", datetime.now())\n",
    "B == B.T"
   ]
  },
  {
   "cell_type": "markdown",
   "metadata": {},
   "source": [
    "# 2.3.4. Tensors"
   ]
  },
  {
   "cell_type": "code",
   "execution_count": 135,
   "metadata": {},
   "outputs": [
    {
     "name": "stdout",
     "output_type": "stream",
     "text": [
      "Done by Bohdan Levytskyi  2021-09-12 20:27:45.390103\n"
     ]
    },
    {
     "data": {
      "text/plain": [
       "tensor([[[ 0,  1,  2,  3],\n",
       "         [ 4,  5,  6,  7],\n",
       "         [ 8,  9, 10, 11]],\n",
       "\n",
       "        [[12, 13, 14, 15],\n",
       "         [16, 17, 18, 19],\n",
       "         [20, 21, 22, 23]]])"
      ]
     },
     "execution_count": 135,
     "metadata": {},
     "output_type": "execute_result"
    }
   ],
   "source": [
    "print(\"Done by Bohdan Levytskyi \", datetime.now())\n",
    "X = torch.arange(24).reshape(2, 3, 4)\n",
    "X"
   ]
  },
  {
   "cell_type": "markdown",
   "metadata": {},
   "source": [
    "# 2.3.5. Basic Properties of Tensor Arithmetic"
   ]
  },
  {
   "cell_type": "code",
   "execution_count": 136,
   "metadata": {},
   "outputs": [
    {
     "name": "stdout",
     "output_type": "stream",
     "text": [
      "Done by Bohdan Levytskyi  2021-09-12 20:27:48.105596\n"
     ]
    },
    {
     "data": {
      "text/plain": [
       "(tensor([[ 0.,  1.,  2.,  3.],\n",
       "         [ 4.,  5.,  6.,  7.],\n",
       "         [ 8.,  9., 10., 11.],\n",
       "         [12., 13., 14., 15.],\n",
       "         [16., 17., 18., 19.]]),\n",
       " tensor([[ 0.,  2.,  4.,  6.],\n",
       "         [ 8., 10., 12., 14.],\n",
       "         [16., 18., 20., 22.],\n",
       "         [24., 26., 28., 30.],\n",
       "         [32., 34., 36., 38.]]))"
      ]
     },
     "execution_count": 136,
     "metadata": {},
     "output_type": "execute_result"
    }
   ],
   "source": [
    "print(\"Done by Bohdan Levytskyi \", datetime.now())\n",
    "A = torch.arange(20, dtype=torch.float32).reshape(5, 4)\n",
    "B = A.clone()  # Assign a copy of `A` to `B` by allocating new memory\n",
    "A, A + B"
   ]
  },
  {
   "cell_type": "code",
   "execution_count": 137,
   "metadata": {},
   "outputs": [
    {
     "name": "stdout",
     "output_type": "stream",
     "text": [
      "Done by Bohdan Levytskyi  2021-09-12 20:27:53.959601\n"
     ]
    },
    {
     "data": {
      "text/plain": [
       "tensor([[  0.,   1.,   4.,   9.],\n",
       "        [ 16.,  25.,  36.,  49.],\n",
       "        [ 64.,  81., 100., 121.],\n",
       "        [144., 169., 196., 225.],\n",
       "        [256., 289., 324., 361.]])"
      ]
     },
     "execution_count": 137,
     "metadata": {},
     "output_type": "execute_result"
    }
   ],
   "source": [
    "print(\"Done by Bohdan Levytskyi \", datetime.now())\n",
    "A * B"
   ]
  },
  {
   "cell_type": "markdown",
   "metadata": {},
   "source": [
    "# 2.3.6. Reduction"
   ]
  },
  {
   "cell_type": "code",
   "execution_count": 138,
   "metadata": {},
   "outputs": [
    {
     "name": "stdout",
     "output_type": "stream",
     "text": [
      "Done by Bohdan Levytskyi  2021-09-12 20:27:56.229407\n"
     ]
    },
    {
     "data": {
      "text/plain": [
       "(tensor([[[ 2,  3,  4,  5],\n",
       "          [ 6,  7,  8,  9],\n",
       "          [10, 11, 12, 13]],\n",
       " \n",
       "         [[14, 15, 16, 17],\n",
       "          [18, 19, 20, 21],\n",
       "          [22, 23, 24, 25]]]),\n",
       " torch.Size([2, 3, 4]))"
      ]
     },
     "execution_count": 138,
     "metadata": {},
     "output_type": "execute_result"
    }
   ],
   "source": [
    "print(\"Done by Bohdan Levytskyi \", datetime.now())\n",
    "a = 2\n",
    "X = torch.arange(24).reshape(2, 3, 4)\n",
    "a + X, (a * X).shape"
   ]
  },
  {
   "cell_type": "code",
   "execution_count": 139,
   "metadata": {},
   "outputs": [
    {
     "name": "stdout",
     "output_type": "stream",
     "text": [
      "Done by Bohdan Levytskyi  2021-09-12 20:27:59.113184\n"
     ]
    },
    {
     "data": {
      "text/plain": [
       "(tensor([0., 1., 2., 3.]), tensor(6.))"
      ]
     },
     "execution_count": 139,
     "metadata": {},
     "output_type": "execute_result"
    }
   ],
   "source": [
    "print(\"Done by Bohdan Levytskyi \", datetime.now())\n",
    "x = torch.arange(4, dtype=torch.float32)\n",
    "x, x.sum()"
   ]
  },
  {
   "cell_type": "code",
   "execution_count": 140,
   "metadata": {},
   "outputs": [
    {
     "name": "stdout",
     "output_type": "stream",
     "text": [
      "Done by Bohdan Levytskyi  2021-09-12 20:28:01.707701\n"
     ]
    },
    {
     "data": {
      "text/plain": [
       "(torch.Size([5, 4]), tensor(190.))"
      ]
     },
     "execution_count": 140,
     "metadata": {},
     "output_type": "execute_result"
    }
   ],
   "source": [
    "print(\"Done by Bohdan Levytskyi \", datetime.now())\n",
    "A.shape, A.sum()"
   ]
  },
  {
   "cell_type": "code",
   "execution_count": 141,
   "metadata": {},
   "outputs": [
    {
     "name": "stdout",
     "output_type": "stream",
     "text": [
      "Done by Bohdan Levytskyi  2021-09-12 20:28:04.618537\n"
     ]
    },
    {
     "data": {
      "text/plain": [
       "(tensor([40., 45., 50., 55.]), torch.Size([4]))"
      ]
     },
     "execution_count": 141,
     "metadata": {},
     "output_type": "execute_result"
    }
   ],
   "source": [
    "print(\"Done by Bohdan Levytskyi \", datetime.now())\n",
    "A_sum_axis0 = A.sum(axis=0)\n",
    "A_sum_axis0, A_sum_axis0.shape"
   ]
  },
  {
   "cell_type": "code",
   "execution_count": 142,
   "metadata": {},
   "outputs": [
    {
     "name": "stdout",
     "output_type": "stream",
     "text": [
      "Done by Bohdan Levytskyi  2021-09-12 20:28:07.276966\n"
     ]
    },
    {
     "data": {
      "text/plain": [
       "(tensor([ 6., 22., 38., 54., 70.]), torch.Size([5]))"
      ]
     },
     "execution_count": 142,
     "metadata": {},
     "output_type": "execute_result"
    }
   ],
   "source": [
    "print(\"Done by Bohdan Levytskyi \", datetime.now())\n",
    "A_sum_axis1 = A.sum(axis=1)\n",
    "A_sum_axis1, A_sum_axis1.shape"
   ]
  },
  {
   "cell_type": "code",
   "execution_count": 143,
   "metadata": {},
   "outputs": [
    {
     "name": "stdout",
     "output_type": "stream",
     "text": [
      "Done by Bohdan Levytskyi  2021-09-12 20:28:09.702535\n"
     ]
    },
    {
     "data": {
      "text/plain": [
       "tensor(190.)"
      ]
     },
     "execution_count": 143,
     "metadata": {},
     "output_type": "execute_result"
    }
   ],
   "source": [
    "print(\"Done by Bohdan Levytskyi \", datetime.now())\n",
    "A.sum(axis=[0, 1])  # Same as `A.sum()`"
   ]
  },
  {
   "cell_type": "code",
   "execution_count": 144,
   "metadata": {},
   "outputs": [
    {
     "name": "stdout",
     "output_type": "stream",
     "text": [
      "Done by Bohdan Levytskyi  2021-09-12 20:28:12.997157\n"
     ]
    },
    {
     "data": {
      "text/plain": [
       "(tensor(9.5000), tensor(9.5000))"
      ]
     },
     "execution_count": 144,
     "metadata": {},
     "output_type": "execute_result"
    }
   ],
   "source": [
    "print(\"Done by Bohdan Levytskyi \", datetime.now())\n",
    "A.mean(), A.sum() / A.numel()"
   ]
  },
  {
   "cell_type": "code",
   "execution_count": 145,
   "metadata": {},
   "outputs": [
    {
     "name": "stdout",
     "output_type": "stream",
     "text": [
      "Done by Bohdan Levytskyi  2021-09-12 20:28:15.496981\n"
     ]
    },
    {
     "data": {
      "text/plain": [
       "(tensor([ 8.,  9., 10., 11.]), tensor([ 8.,  9., 10., 11.]))"
      ]
     },
     "execution_count": 145,
     "metadata": {},
     "output_type": "execute_result"
    }
   ],
   "source": [
    "print(\"Done by Bohdan Levytskyi \", datetime.now())\n",
    "A.mean(axis=0), A.sum(axis=0) / A.shape[0]"
   ]
  },
  {
   "cell_type": "markdown",
   "metadata": {},
   "source": [
    "# 2.3.6.1. Non-Reduction Sum"
   ]
  },
  {
   "cell_type": "code",
   "execution_count": 146,
   "metadata": {},
   "outputs": [
    {
     "name": "stdout",
     "output_type": "stream",
     "text": [
      "Done by Bohdan Levytskyi  2021-09-12 20:28:17.883286\n"
     ]
    },
    {
     "data": {
      "text/plain": [
       "tensor([[ 6.],\n",
       "        [22.],\n",
       "        [38.],\n",
       "        [54.],\n",
       "        [70.]])"
      ]
     },
     "execution_count": 146,
     "metadata": {},
     "output_type": "execute_result"
    }
   ],
   "source": [
    "print(\"Done by Bohdan Levytskyi \", datetime.now())\n",
    "sum_A = A.sum(axis=1, keepdims=True)\n",
    "sum_A"
   ]
  },
  {
   "cell_type": "code",
   "execution_count": 147,
   "metadata": {},
   "outputs": [
    {
     "name": "stdout",
     "output_type": "stream",
     "text": [
      "Done by Bohdan Levytskyi  2021-09-12 20:28:20.249183\n"
     ]
    },
    {
     "data": {
      "text/plain": [
       "tensor([[0.0000, 0.1667, 0.3333, 0.5000],\n",
       "        [0.1818, 0.2273, 0.2727, 0.3182],\n",
       "        [0.2105, 0.2368, 0.2632, 0.2895],\n",
       "        [0.2222, 0.2407, 0.2593, 0.2778],\n",
       "        [0.2286, 0.2429, 0.2571, 0.2714]])"
      ]
     },
     "execution_count": 147,
     "metadata": {},
     "output_type": "execute_result"
    }
   ],
   "source": [
    "print(\"Done by Bohdan Levytskyi \", datetime.now())\n",
    "A / sum_A"
   ]
  },
  {
   "cell_type": "code",
   "execution_count": 148,
   "metadata": {},
   "outputs": [
    {
     "name": "stdout",
     "output_type": "stream",
     "text": [
      "Done by Bohdan Levytskyi  2021-09-12 20:28:22.601419\n"
     ]
    },
    {
     "data": {
      "text/plain": [
       "tensor([[ 0.,  1.,  2.,  3.],\n",
       "        [ 4.,  6.,  8., 10.],\n",
       "        [12., 15., 18., 21.],\n",
       "        [24., 28., 32., 36.],\n",
       "        [40., 45., 50., 55.]])"
      ]
     },
     "execution_count": 148,
     "metadata": {},
     "output_type": "execute_result"
    }
   ],
   "source": [
    "print(\"Done by Bohdan Levytskyi \", datetime.now())\n",
    "A.cumsum(axis=0)"
   ]
  },
  {
   "cell_type": "markdown",
   "metadata": {},
   "source": [
    "# 2.3.7. Dot Products"
   ]
  },
  {
   "cell_type": "code",
   "execution_count": 149,
   "metadata": {},
   "outputs": [
    {
     "name": "stdout",
     "output_type": "stream",
     "text": [
      "Done by Bohdan Levytskyi  2021-09-12 20:28:26.141589\n"
     ]
    },
    {
     "data": {
      "text/plain": [
       "(tensor([0., 1., 2., 3.]), tensor([1., 1., 1., 1.]), tensor(6.))"
      ]
     },
     "execution_count": 149,
     "metadata": {},
     "output_type": "execute_result"
    }
   ],
   "source": [
    "print(\"Done by Bohdan Levytskyi \", datetime.now())\n",
    "y = torch.ones(4, dtype=torch.float32)\n",
    "x, y, torch.dot(x, y)"
   ]
  },
  {
   "cell_type": "code",
   "execution_count": 150,
   "metadata": {},
   "outputs": [
    {
     "name": "stdout",
     "output_type": "stream",
     "text": [
      "Done by Bohdan Levytskyi  2021-09-12 20:28:28.658809\n"
     ]
    },
    {
     "data": {
      "text/plain": [
       "tensor(6.)"
      ]
     },
     "execution_count": 150,
     "metadata": {},
     "output_type": "execute_result"
    }
   ],
   "source": [
    "print(\"Done by Bohdan Levytskyi \", datetime.now())\n",
    "torch.sum(x * y)"
   ]
  },
  {
   "cell_type": "markdown",
   "metadata": {},
   "source": [
    "# 2.3.8. Matrix-Vector Products"
   ]
  },
  {
   "cell_type": "code",
   "execution_count": 151,
   "metadata": {},
   "outputs": [
    {
     "name": "stdout",
     "output_type": "stream",
     "text": [
      "Done by Bohdan Levytskyi  2021-09-12 20:28:30.815264\n"
     ]
    },
    {
     "data": {
      "text/plain": [
       "(torch.Size([5, 4]), torch.Size([4]), tensor([ 14.,  38.,  62.,  86., 110.]))"
      ]
     },
     "execution_count": 151,
     "metadata": {},
     "output_type": "execute_result"
    }
   ],
   "source": [
    "print(\"Done by Bohdan Levytskyi \", datetime.now())\n",
    "A.shape, x.shape, torch.mv(A, x)"
   ]
  },
  {
   "cell_type": "markdown",
   "metadata": {},
   "source": [
    "# 2.3.9. Matrix-Matrix Multiplication"
   ]
  },
  {
   "cell_type": "code",
   "execution_count": 152,
   "metadata": {},
   "outputs": [
    {
     "name": "stdout",
     "output_type": "stream",
     "text": [
      "Done by Bohdan Levytskyi  2021-09-12 20:28:32.857461\n"
     ]
    },
    {
     "data": {
      "text/plain": [
       "tensor([[ 6.,  6.,  6.],\n",
       "        [22., 22., 22.],\n",
       "        [38., 38., 38.],\n",
       "        [54., 54., 54.],\n",
       "        [70., 70., 70.]])"
      ]
     },
     "execution_count": 152,
     "metadata": {},
     "output_type": "execute_result"
    }
   ],
   "source": [
    "print(\"Done by Bohdan Levytskyi \", datetime.now())\n",
    "B = torch.ones(4, 3)\n",
    "torch.mm(A, B)"
   ]
  },
  {
   "cell_type": "markdown",
   "metadata": {},
   "source": [
    "# 2.3.10. Norms"
   ]
  },
  {
   "cell_type": "code",
   "execution_count": 153,
   "metadata": {},
   "outputs": [
    {
     "name": "stdout",
     "output_type": "stream",
     "text": [
      "Done by Bohdan Levytskyi  2021-09-12 20:28:36.842634\n"
     ]
    },
    {
     "data": {
      "text/plain": [
       "tensor(5.)"
      ]
     },
     "execution_count": 153,
     "metadata": {},
     "output_type": "execute_result"
    }
   ],
   "source": [
    "print(\"Done by Bohdan Levytskyi \", datetime.now())\n",
    "u = torch.tensor([3.0, -4.0])\n",
    "torch.norm(u)"
   ]
  },
  {
   "cell_type": "code",
   "execution_count": 154,
   "metadata": {},
   "outputs": [
    {
     "name": "stdout",
     "output_type": "stream",
     "text": [
      "Done by Bohdan Levytskyi  2021-09-12 20:28:40.811396\n"
     ]
    },
    {
     "data": {
      "text/plain": [
       "tensor(7.)"
      ]
     },
     "execution_count": 154,
     "metadata": {},
     "output_type": "execute_result"
    }
   ],
   "source": [
    "print(\"Done by Bohdan Levytskyi \", datetime.now())\n",
    "torch.abs(u).sum()"
   ]
  },
  {
   "cell_type": "code",
   "execution_count": 155,
   "metadata": {},
   "outputs": [
    {
     "name": "stdout",
     "output_type": "stream",
     "text": [
      "Done by Bohdan Levytskyi  2021-09-12 20:28:43.715315\n"
     ]
    },
    {
     "data": {
      "text/plain": [
       "tensor(6.)"
      ]
     },
     "execution_count": 155,
     "metadata": {},
     "output_type": "execute_result"
    }
   ],
   "source": [
    "print(\"Done by Bohdan Levytskyi \", datetime.now())\n",
    "torch.norm(torch.ones((4, 9)))"
   ]
  },
  {
   "cell_type": "markdown",
   "metadata": {},
   "source": [
    "# 2.4.1. Derivatives and Differentiation"
   ]
  },
  {
   "cell_type": "code",
   "execution_count": 156,
   "metadata": {},
   "outputs": [
    {
     "name": "stdout",
     "output_type": "stream",
     "text": [
      "Done by Bohdan Levytskyi  2021-09-12 20:28:46.761676\n"
     ]
    }
   ],
   "source": [
    "print(\"Done by Bohdan Levytskyi \", datetime.now())\n",
    "import numpy as np\n",
    "from IPython import display\n",
    "from d2l import torch as d2l\n",
    "\n",
    "\n",
    "def f(x):\n",
    "    return 3 * x ** 2 - 4 * x"
   ]
  },
  {
   "cell_type": "code",
   "execution_count": 157,
   "metadata": {},
   "outputs": [
    {
     "name": "stdout",
     "output_type": "stream",
     "text": [
      "Done by Bohdan Levytskyi  2021-09-12 20:28:58.748105\n",
      "h=0.10000, numerical limit=2.30000\n",
      "h=0.01000, numerical limit=2.03000\n",
      "h=0.00100, numerical limit=2.00300\n",
      "h=0.00010, numerical limit=2.00030\n",
      "h=0.00001, numerical limit=2.00003\n"
     ]
    }
   ],
   "source": [
    "print(\"Done by Bohdan Levytskyi \", datetime.now())\n",
    "def numerical_lim(f, x, h):\n",
    "    return (f(x + h) - f(x)) / h\n",
    "\n",
    "h = 0.1\n",
    "for i in range(5):\n",
    "    print(f'h={h:.5f}, numerical limit={numerical_lim(f, 1, h):.5f}')\n",
    "    h *= 0.1"
   ]
  },
  {
   "cell_type": "code",
   "execution_count": 158,
   "metadata": {},
   "outputs": [
    {
     "name": "stdout",
     "output_type": "stream",
     "text": [
      "Done by Bohdan Levytskyi  2021-09-12 20:29:01.601788\n"
     ]
    }
   ],
   "source": [
    "print(\"Done by Bohdan Levytskyi \", datetime.now())\n",
    "def use_svg_display():  #@save\n",
    "    \"\"\"Use the svg format to display a plot in Jupyter.\"\"\"\n",
    "    display.set_matplotlib_formats('svg')"
   ]
  },
  {
   "cell_type": "code",
   "execution_count": 159,
   "metadata": {},
   "outputs": [
    {
     "name": "stdout",
     "output_type": "stream",
     "text": [
      "Done by Bohdan Levytskyi  2021-09-12 20:29:03.965005\n"
     ]
    }
   ],
   "source": [
    "print(\"Done by Bohdan Levytskyi \", datetime.now())\n",
    "def set_figsize(figsize=(3.5, 2.5)):  #@save\n",
    "    \"\"\"Set the figure size for matplotlib.\"\"\"\n",
    "    use_svg_display()\n",
    "    d2l.plt.rcParams['figure.figsize'] = figsize"
   ]
  },
  {
   "cell_type": "code",
   "execution_count": 160,
   "metadata": {},
   "outputs": [
    {
     "name": "stdout",
     "output_type": "stream",
     "text": [
      "Done by Bohdan Levytskyi  2021-09-12 20:29:08.345743\n"
     ]
    }
   ],
   "source": [
    "print(\"Done by Bohdan Levytskyi \", datetime.now())\n",
    "def set_axes(axes, xlabel, ylabel, xlim, ylim, xscale, yscale, legend):\n",
    "    \"\"\"Set the axes for matplotlib.\"\"\"\n",
    "    axes.set_xlabel(xlabel)\n",
    "    axes.set_ylabel(ylabel)\n",
    "    axes.set_xscale(xscale)\n",
    "    axes.set_yscale(yscale)\n",
    "    axes.set_xlim(xlim)\n",
    "    axes.set_ylim(ylim)\n",
    "    if legend:\n",
    "        axes.legend(legend)\n",
    "    axes.grid()"
   ]
  },
  {
   "cell_type": "code",
   "execution_count": 161,
   "metadata": {},
   "outputs": [
    {
     "name": "stdout",
     "output_type": "stream",
     "text": [
      "Done by Bohdan Levytskyi  2021-09-12 20:29:11.913396\n"
     ]
    }
   ],
   "source": [
    "print(\"Done by Bohdan Levytskyi \", datetime.now())\n",
    "def plot(X, Y=None, xlabel=None, ylabel=None, legend=None, xlim=None,\n",
    "         ylim=None, xscale='linear', yscale='linear',\n",
    "         fmts=('-', 'm--', 'g-.', 'r:'), figsize=(3.5, 2.5), axes=None):\n",
    "    \"\"\"Plot data points.\"\"\"\n",
    "    if legend is None:\n",
    "        legend = []\n",
    "\n",
    "    set_figsize(figsize)\n",
    "    axes = axes if axes else d2l.plt.gca()\n",
    "\n",
    "    # Return True if `X` (tensor or list) has 1 axis\n",
    "    def has_one_axis(X):\n",
    "        return (hasattr(X, \"ndim\") and X.ndim == 1 or\n",
    "                isinstance(X, list) and not hasattr(X[0], \"__len__\"))\n",
    "\n",
    "    if has_one_axis(X):\n",
    "        X = [X]\n",
    "    if Y is None:\n",
    "        X, Y = [[]] * len(X), X\n",
    "    elif has_one_axis(Y):\n",
    "        Y = [Y]\n",
    "    if len(X) != len(Y):\n",
    "        X = X * len(Y)\n",
    "    axes.cla()\n",
    "    for x, y, fmt in zip(X, Y, fmts):\n",
    "        if len(x):\n",
    "            axes.plot(x, y, fmt)\n",
    "        else:\n",
    "            axes.plot(y, fmt)\n",
    "    set_axes(axes, xlabel, ylabel, xlim, ylim, xscale, yscale, legend)"
   ]
  },
  {
   "cell_type": "code",
   "execution_count": 162,
   "metadata": {},
   "outputs": [
    {
     "name": "stdout",
     "output_type": "stream",
     "text": [
      "Done by Bohdan Levytskyi  2021-09-12 20:29:16.822641\n"
     ]
    },
    {
     "data": {
      "image/svg+xml": [
       "<?xml version=\"1.0\" encoding=\"utf-8\" standalone=\"no\"?>\r\n",
       "<!DOCTYPE svg PUBLIC \"-//W3C//DTD SVG 1.1//EN\"\r\n",
       "  \"http://www.w3.org/Graphics/SVG/1.1/DTD/svg11.dtd\">\r\n",
       "<!-- Created with matplotlib (https://matplotlib.org/) -->\r\n",
       "<svg height=\"180.65625pt\" version=\"1.1\" viewBox=\"0 0 243.529359 180.65625\" width=\"243.529359pt\" xmlns=\"http://www.w3.org/2000/svg\" xmlns:xlink=\"http://www.w3.org/1999/xlink\">\r\n",
       " <defs>\r\n",
       "  <style type=\"text/css\">\r\n",
       "*{stroke-linecap:butt;stroke-linejoin:round;}\r\n",
       "  </style>\r\n",
       " </defs>\r\n",
       " <g id=\"figure_1\">\r\n",
       "  <g id=\"patch_1\">\r\n",
       "   <path d=\"M 0 180.65625 \r\n",
       "L 243.529359 180.65625 \r\n",
       "L 243.529359 0 \r\n",
       "L 0 0 \r\n",
       "z\r\n",
       "\" style=\"fill:none;\"/>\r\n",
       "  </g>\r\n",
       "  <g id=\"axes_1\">\r\n",
       "   <g id=\"patch_2\">\r\n",
       "    <path d=\"M 40.603125 143.1 \r\n",
       "L 235.903125 143.1 \r\n",
       "L 235.903125 7.2 \r\n",
       "L 40.603125 7.2 \r\n",
       "z\r\n",
       "\" style=\"fill:#ffffff;\"/>\r\n",
       "   </g>\r\n",
       "   <g id=\"matplotlib.axis_1\">\r\n",
       "    <g id=\"xtick_1\">\r\n",
       "     <g id=\"line2d_1\">\r\n",
       "      <path clip-path=\"url(#pc0d7b143e5)\" d=\"M 49.480398 143.1 \r\n",
       "L 49.480398 7.2 \r\n",
       "\" style=\"fill:none;stroke:#b0b0b0;stroke-linecap:square;stroke-width:0.8;\"/>\r\n",
       "     </g>\r\n",
       "     <g id=\"line2d_2\">\r\n",
       "      <defs>\r\n",
       "       <path d=\"M 0 0 \r\n",
       "L 0 3.5 \r\n",
       "\" id=\"m95767ad4b0\" style=\"stroke:#000000;stroke-width:0.8;\"/>\r\n",
       "      </defs>\r\n",
       "      <g>\r\n",
       "       <use style=\"stroke:#000000;stroke-width:0.8;\" x=\"49.480398\" xlink:href=\"#m95767ad4b0\" y=\"143.1\"/>\r\n",
       "      </g>\r\n",
       "     </g>\r\n",
       "     <g id=\"text_1\">\r\n",
       "      <!-- 0 -->\r\n",
       "      <defs>\r\n",
       "       <path d=\"M 31.78125 66.40625 \r\n",
       "Q 24.171875 66.40625 20.328125 58.90625 \r\n",
       "Q 16.5 51.421875 16.5 36.375 \r\n",
       "Q 16.5 21.390625 20.328125 13.890625 \r\n",
       "Q 24.171875 6.390625 31.78125 6.390625 \r\n",
       "Q 39.453125 6.390625 43.28125 13.890625 \r\n",
       "Q 47.125 21.390625 47.125 36.375 \r\n",
       "Q 47.125 51.421875 43.28125 58.90625 \r\n",
       "Q 39.453125 66.40625 31.78125 66.40625 \r\n",
       "z\r\n",
       "M 31.78125 74.21875 \r\n",
       "Q 44.046875 74.21875 50.515625 64.515625 \r\n",
       "Q 56.984375 54.828125 56.984375 36.375 \r\n",
       "Q 56.984375 17.96875 50.515625 8.265625 \r\n",
       "Q 44.046875 -1.421875 31.78125 -1.421875 \r\n",
       "Q 19.53125 -1.421875 13.0625 8.265625 \r\n",
       "Q 6.59375 17.96875 6.59375 36.375 \r\n",
       "Q 6.59375 54.828125 13.0625 64.515625 \r\n",
       "Q 19.53125 74.21875 31.78125 74.21875 \r\n",
       "z\r\n",
       "\" id=\"DejaVuSans-48\"/>\r\n",
       "      </defs>\r\n",
       "      <g transform=\"translate(46.299148 157.698438)scale(0.1 -0.1)\">\r\n",
       "       <use xlink:href=\"#DejaVuSans-48\"/>\r\n",
       "      </g>\r\n",
       "     </g>\r\n",
       "    </g>\r\n",
       "    <g id=\"xtick_2\">\r\n",
       "     <g id=\"line2d_3\">\r\n",
       "      <path clip-path=\"url(#pc0d7b143e5)\" d=\"M 110.702968 143.1 \r\n",
       "L 110.702968 7.2 \r\n",
       "\" style=\"fill:none;stroke:#b0b0b0;stroke-linecap:square;stroke-width:0.8;\"/>\r\n",
       "     </g>\r\n",
       "     <g id=\"line2d_4\">\r\n",
       "      <g>\r\n",
       "       <use style=\"stroke:#000000;stroke-width:0.8;\" x=\"110.702968\" xlink:href=\"#m95767ad4b0\" y=\"143.1\"/>\r\n",
       "      </g>\r\n",
       "     </g>\r\n",
       "     <g id=\"text_2\">\r\n",
       "      <!-- 1 -->\r\n",
       "      <defs>\r\n",
       "       <path d=\"M 12.40625 8.296875 \r\n",
       "L 28.515625 8.296875 \r\n",
       "L 28.515625 63.921875 \r\n",
       "L 10.984375 60.40625 \r\n",
       "L 10.984375 69.390625 \r\n",
       "L 28.421875 72.90625 \r\n",
       "L 38.28125 72.90625 \r\n",
       "L 38.28125 8.296875 \r\n",
       "L 54.390625 8.296875 \r\n",
       "L 54.390625 0 \r\n",
       "L 12.40625 0 \r\n",
       "z\r\n",
       "\" id=\"DejaVuSans-49\"/>\r\n",
       "      </defs>\r\n",
       "      <g transform=\"translate(107.521718 157.698438)scale(0.1 -0.1)\">\r\n",
       "       <use xlink:href=\"#DejaVuSans-49\"/>\r\n",
       "      </g>\r\n",
       "     </g>\r\n",
       "    </g>\r\n",
       "    <g id=\"xtick_3\">\r\n",
       "     <g id=\"line2d_5\">\r\n",
       "      <path clip-path=\"url(#pc0d7b143e5)\" d=\"M 171.925539 143.1 \r\n",
       "L 171.925539 7.2 \r\n",
       "\" style=\"fill:none;stroke:#b0b0b0;stroke-linecap:square;stroke-width:0.8;\"/>\r\n",
       "     </g>\r\n",
       "     <g id=\"line2d_6\">\r\n",
       "      <g>\r\n",
       "       <use style=\"stroke:#000000;stroke-width:0.8;\" x=\"171.925539\" xlink:href=\"#m95767ad4b0\" y=\"143.1\"/>\r\n",
       "      </g>\r\n",
       "     </g>\r\n",
       "     <g id=\"text_3\">\r\n",
       "      <!-- 2 -->\r\n",
       "      <defs>\r\n",
       "       <path d=\"M 19.1875 8.296875 \r\n",
       "L 53.609375 8.296875 \r\n",
       "L 53.609375 0 \r\n",
       "L 7.328125 0 \r\n",
       "L 7.328125 8.296875 \r\n",
       "Q 12.9375 14.109375 22.625 23.890625 \r\n",
       "Q 32.328125 33.6875 34.8125 36.53125 \r\n",
       "Q 39.546875 41.84375 41.421875 45.53125 \r\n",
       "Q 43.3125 49.21875 43.3125 52.78125 \r\n",
       "Q 43.3125 58.59375 39.234375 62.25 \r\n",
       "Q 35.15625 65.921875 28.609375 65.921875 \r\n",
       "Q 23.96875 65.921875 18.8125 64.3125 \r\n",
       "Q 13.671875 62.703125 7.8125 59.421875 \r\n",
       "L 7.8125 69.390625 \r\n",
       "Q 13.765625 71.78125 18.9375 73 \r\n",
       "Q 24.125 74.21875 28.421875 74.21875 \r\n",
       "Q 39.75 74.21875 46.484375 68.546875 \r\n",
       "Q 53.21875 62.890625 53.21875 53.421875 \r\n",
       "Q 53.21875 48.921875 51.53125 44.890625 \r\n",
       "Q 49.859375 40.875 45.40625 35.40625 \r\n",
       "Q 44.1875 33.984375 37.640625 27.21875 \r\n",
       "Q 31.109375 20.453125 19.1875 8.296875 \r\n",
       "z\r\n",
       "\" id=\"DejaVuSans-50\"/>\r\n",
       "      </defs>\r\n",
       "      <g transform=\"translate(168.744289 157.698438)scale(0.1 -0.1)\">\r\n",
       "       <use xlink:href=\"#DejaVuSans-50\"/>\r\n",
       "      </g>\r\n",
       "     </g>\r\n",
       "    </g>\r\n",
       "    <g id=\"xtick_4\">\r\n",
       "     <g id=\"line2d_7\">\r\n",
       "      <path clip-path=\"url(#pc0d7b143e5)\" d=\"M 233.148109 143.1 \r\n",
       "L 233.148109 7.2 \r\n",
       "\" style=\"fill:none;stroke:#b0b0b0;stroke-linecap:square;stroke-width:0.8;\"/>\r\n",
       "     </g>\r\n",
       "     <g id=\"line2d_8\">\r\n",
       "      <g>\r\n",
       "       <use style=\"stroke:#000000;stroke-width:0.8;\" x=\"233.148109\" xlink:href=\"#m95767ad4b0\" y=\"143.1\"/>\r\n",
       "      </g>\r\n",
       "     </g>\r\n",
       "     <g id=\"text_4\">\r\n",
       "      <!-- 3 -->\r\n",
       "      <defs>\r\n",
       "       <path d=\"M 40.578125 39.3125 \r\n",
       "Q 47.65625 37.796875 51.625 33 \r\n",
       "Q 55.609375 28.21875 55.609375 21.1875 \r\n",
       "Q 55.609375 10.40625 48.1875 4.484375 \r\n",
       "Q 40.765625 -1.421875 27.09375 -1.421875 \r\n",
       "Q 22.515625 -1.421875 17.65625 -0.515625 \r\n",
       "Q 12.796875 0.390625 7.625 2.203125 \r\n",
       "L 7.625 11.71875 \r\n",
       "Q 11.71875 9.328125 16.59375 8.109375 \r\n",
       "Q 21.484375 6.890625 26.8125 6.890625 \r\n",
       "Q 36.078125 6.890625 40.9375 10.546875 \r\n",
       "Q 45.796875 14.203125 45.796875 21.1875 \r\n",
       "Q 45.796875 27.640625 41.28125 31.265625 \r\n",
       "Q 36.765625 34.90625 28.71875 34.90625 \r\n",
       "L 20.21875 34.90625 \r\n",
       "L 20.21875 43.015625 \r\n",
       "L 29.109375 43.015625 \r\n",
       "Q 36.375 43.015625 40.234375 45.921875 \r\n",
       "Q 44.09375 48.828125 44.09375 54.296875 \r\n",
       "Q 44.09375 59.90625 40.109375 62.90625 \r\n",
       "Q 36.140625 65.921875 28.71875 65.921875 \r\n",
       "Q 24.65625 65.921875 20.015625 65.03125 \r\n",
       "Q 15.375 64.15625 9.8125 62.3125 \r\n",
       "L 9.8125 71.09375 \r\n",
       "Q 15.4375 72.65625 20.34375 73.4375 \r\n",
       "Q 25.25 74.21875 29.59375 74.21875 \r\n",
       "Q 40.828125 74.21875 47.359375 69.109375 \r\n",
       "Q 53.90625 64.015625 53.90625 55.328125 \r\n",
       "Q 53.90625 49.265625 50.4375 45.09375 \r\n",
       "Q 46.96875 40.921875 40.578125 39.3125 \r\n",
       "z\r\n",
       "\" id=\"DejaVuSans-51\"/>\r\n",
       "      </defs>\r\n",
       "      <g transform=\"translate(229.966859 157.698438)scale(0.1 -0.1)\">\r\n",
       "       <use xlink:href=\"#DejaVuSans-51\"/>\r\n",
       "      </g>\r\n",
       "     </g>\r\n",
       "    </g>\r\n",
       "    <g id=\"text_5\">\r\n",
       "     <!-- x -->\r\n",
       "     <defs>\r\n",
       "      <path d=\"M 54.890625 54.6875 \r\n",
       "L 35.109375 28.078125 \r\n",
       "L 55.90625 0 \r\n",
       "L 45.3125 0 \r\n",
       "L 29.390625 21.484375 \r\n",
       "L 13.484375 0 \r\n",
       "L 2.875 0 \r\n",
       "L 24.125 28.609375 \r\n",
       "L 4.6875 54.6875 \r\n",
       "L 15.28125 54.6875 \r\n",
       "L 29.78125 35.203125 \r\n",
       "L 44.28125 54.6875 \r\n",
       "z\r\n",
       "\" id=\"DejaVuSans-120\"/>\r\n",
       "     </defs>\r\n",
       "     <g transform=\"translate(135.29375 171.376563)scale(0.1 -0.1)\">\r\n",
       "      <use xlink:href=\"#DejaVuSans-120\"/>\r\n",
       "     </g>\r\n",
       "    </g>\r\n",
       "   </g>\r\n",
       "   <g id=\"matplotlib.axis_2\">\r\n",
       "    <g id=\"ytick_1\">\r\n",
       "     <g id=\"line2d_9\">\r\n",
       "      <path clip-path=\"url(#pc0d7b143e5)\" d=\"M 40.603125 114.635514 \r\n",
       "L 235.903125 114.635514 \r\n",
       "\" style=\"fill:none;stroke:#b0b0b0;stroke-linecap:square;stroke-width:0.8;\"/>\r\n",
       "     </g>\r\n",
       "     <g id=\"line2d_10\">\r\n",
       "      <defs>\r\n",
       "       <path d=\"M 0 0 \r\n",
       "L -3.5 0 \r\n",
       "\" id=\"mad0ddf8485\" style=\"stroke:#000000;stroke-width:0.8;\"/>\r\n",
       "      </defs>\r\n",
       "      <g>\r\n",
       "       <use style=\"stroke:#000000;stroke-width:0.8;\" x=\"40.603125\" xlink:href=\"#mad0ddf8485\" y=\"114.635514\"/>\r\n",
       "      </g>\r\n",
       "     </g>\r\n",
       "     <g id=\"text_6\">\r\n",
       "      <!-- 0 -->\r\n",
       "      <g transform=\"translate(27.240625 118.434732)scale(0.1 -0.1)\">\r\n",
       "       <use xlink:href=\"#DejaVuSans-48\"/>\r\n",
       "      </g>\r\n",
       "     </g>\r\n",
       "    </g>\r\n",
       "    <g id=\"ytick_2\">\r\n",
       "     <g id=\"line2d_11\">\r\n",
       "      <path clip-path=\"url(#pc0d7b143e5)\" d=\"M 40.603125 77.490157 \r\n",
       "L 235.903125 77.490157 \r\n",
       "\" style=\"fill:none;stroke:#b0b0b0;stroke-linecap:square;stroke-width:0.8;\"/>\r\n",
       "     </g>\r\n",
       "     <g id=\"line2d_12\">\r\n",
       "      <g>\r\n",
       "       <use style=\"stroke:#000000;stroke-width:0.8;\" x=\"40.603125\" xlink:href=\"#mad0ddf8485\" y=\"77.490157\"/>\r\n",
       "      </g>\r\n",
       "     </g>\r\n",
       "     <g id=\"text_7\">\r\n",
       "      <!-- 5 -->\r\n",
       "      <defs>\r\n",
       "       <path d=\"M 10.796875 72.90625 \r\n",
       "L 49.515625 72.90625 \r\n",
       "L 49.515625 64.59375 \r\n",
       "L 19.828125 64.59375 \r\n",
       "L 19.828125 46.734375 \r\n",
       "Q 21.96875 47.46875 24.109375 47.828125 \r\n",
       "Q 26.265625 48.1875 28.421875 48.1875 \r\n",
       "Q 40.625 48.1875 47.75 41.5 \r\n",
       "Q 54.890625 34.8125 54.890625 23.390625 \r\n",
       "Q 54.890625 11.625 47.5625 5.09375 \r\n",
       "Q 40.234375 -1.421875 26.90625 -1.421875 \r\n",
       "Q 22.3125 -1.421875 17.546875 -0.640625 \r\n",
       "Q 12.796875 0.140625 7.71875 1.703125 \r\n",
       "L 7.71875 11.625 \r\n",
       "Q 12.109375 9.234375 16.796875 8.0625 \r\n",
       "Q 21.484375 6.890625 26.703125 6.890625 \r\n",
       "Q 35.15625 6.890625 40.078125 11.328125 \r\n",
       "Q 45.015625 15.765625 45.015625 23.390625 \r\n",
       "Q 45.015625 31 40.078125 35.4375 \r\n",
       "Q 35.15625 39.890625 26.703125 39.890625 \r\n",
       "Q 22.75 39.890625 18.8125 39.015625 \r\n",
       "Q 14.890625 38.140625 10.796875 36.28125 \r\n",
       "z\r\n",
       "\" id=\"DejaVuSans-53\"/>\r\n",
       "      </defs>\r\n",
       "      <g transform=\"translate(27.240625 81.289376)scale(0.1 -0.1)\">\r\n",
       "       <use xlink:href=\"#DejaVuSans-53\"/>\r\n",
       "      </g>\r\n",
       "     </g>\r\n",
       "    </g>\r\n",
       "    <g id=\"ytick_3\">\r\n",
       "     <g id=\"line2d_13\">\r\n",
       "      <path clip-path=\"url(#pc0d7b143e5)\" d=\"M 40.603125 40.344801 \r\n",
       "L 235.903125 40.344801 \r\n",
       "\" style=\"fill:none;stroke:#b0b0b0;stroke-linecap:square;stroke-width:0.8;\"/>\r\n",
       "     </g>\r\n",
       "     <g id=\"line2d_14\">\r\n",
       "      <g>\r\n",
       "       <use style=\"stroke:#000000;stroke-width:0.8;\" x=\"40.603125\" xlink:href=\"#mad0ddf8485\" y=\"40.344801\"/>\r\n",
       "      </g>\r\n",
       "     </g>\r\n",
       "     <g id=\"text_8\">\r\n",
       "      <!-- 10 -->\r\n",
       "      <g transform=\"translate(20.878125 44.14402)scale(0.1 -0.1)\">\r\n",
       "       <use xlink:href=\"#DejaVuSans-49\"/>\r\n",
       "       <use x=\"63.623047\" xlink:href=\"#DejaVuSans-48\"/>\r\n",
       "      </g>\r\n",
       "     </g>\r\n",
       "    </g>\r\n",
       "    <g id=\"text_9\">\r\n",
       "     <!-- f(x) -->\r\n",
       "     <defs>\r\n",
       "      <path d=\"M 37.109375 75.984375 \r\n",
       "L 37.109375 68.5 \r\n",
       "L 28.515625 68.5 \r\n",
       "Q 23.6875 68.5 21.796875 66.546875 \r\n",
       "Q 19.921875 64.59375 19.921875 59.515625 \r\n",
       "L 19.921875 54.6875 \r\n",
       "L 34.71875 54.6875 \r\n",
       "L 34.71875 47.703125 \r\n",
       "L 19.921875 47.703125 \r\n",
       "L 19.921875 0 \r\n",
       "L 10.890625 0 \r\n",
       "L 10.890625 47.703125 \r\n",
       "L 2.296875 47.703125 \r\n",
       "L 2.296875 54.6875 \r\n",
       "L 10.890625 54.6875 \r\n",
       "L 10.890625 58.5 \r\n",
       "Q 10.890625 67.625 15.140625 71.796875 \r\n",
       "Q 19.390625 75.984375 28.609375 75.984375 \r\n",
       "z\r\n",
       "\" id=\"DejaVuSans-102\"/>\r\n",
       "      <path d=\"M 31 75.875 \r\n",
       "Q 24.46875 64.65625 21.28125 53.65625 \r\n",
       "Q 18.109375 42.671875 18.109375 31.390625 \r\n",
       "Q 18.109375 20.125 21.3125 9.0625 \r\n",
       "Q 24.515625 -2 31 -13.1875 \r\n",
       "L 23.1875 -13.1875 \r\n",
       "Q 15.875 -1.703125 12.234375 9.375 \r\n",
       "Q 8.59375 20.453125 8.59375 31.390625 \r\n",
       "Q 8.59375 42.28125 12.203125 53.3125 \r\n",
       "Q 15.828125 64.359375 23.1875 75.875 \r\n",
       "z\r\n",
       "\" id=\"DejaVuSans-40\"/>\r\n",
       "      <path d=\"M 8.015625 75.875 \r\n",
       "L 15.828125 75.875 \r\n",
       "Q 23.140625 64.359375 26.78125 53.3125 \r\n",
       "Q 30.421875 42.28125 30.421875 31.390625 \r\n",
       "Q 30.421875 20.453125 26.78125 9.375 \r\n",
       "Q 23.140625 -1.703125 15.828125 -13.1875 \r\n",
       "L 8.015625 -13.1875 \r\n",
       "Q 14.5 -2 17.703125 9.0625 \r\n",
       "Q 20.90625 20.125 20.90625 31.390625 \r\n",
       "Q 20.90625 42.671875 17.703125 53.65625 \r\n",
       "Q 14.5 64.65625 8.015625 75.875 \r\n",
       "z\r\n",
       "\" id=\"DejaVuSans-41\"/>\r\n",
       "     </defs>\r\n",
       "     <g transform=\"translate(14.798437 83.771094)rotate(-90)scale(0.1 -0.1)\">\r\n",
       "      <use xlink:href=\"#DejaVuSans-102\"/>\r\n",
       "      <use x=\"35.205078\" xlink:href=\"#DejaVuSans-40\"/>\r\n",
       "      <use x=\"74.21875\" xlink:href=\"#DejaVuSans-120\"/>\r\n",
       "      <use x=\"133.398438\" xlink:href=\"#DejaVuSans-41\"/>\r\n",
       "     </g>\r\n",
       "    </g>\r\n",
       "   </g>\r\n",
       "   <g id=\"line2d_15\">\r\n",
       "    <path clip-path=\"url(#pc0d7b143e5)\" d=\"M 49.480398 114.635514 \r\n",
       "L 55.602655 117.38427 \r\n",
       "L 61.724912 119.687282 \r\n",
       "L 67.847169 121.54455 \r\n",
       "L 73.969426 122.956073 \r\n",
       "L 80.091683 123.921853 \r\n",
       "L 86.21394 124.441888 \r\n",
       "L 92.336197 124.516178 \r\n",
       "L 98.458454 124.144725 \r\n",
       "L 104.580711 123.327527 \r\n",
       "L 110.702968 122.064585 \r\n",
       "L 116.825225 120.355898 \r\n",
       "L 122.947482 118.201468 \r\n",
       "L 129.069739 115.601293 \r\n",
       "L 135.191996 112.555374 \r\n",
       "L 141.314254 109.06371 \r\n",
       "L 147.436511 105.126302 \r\n",
       "L 153.558768 100.74315 \r\n",
       "L 159.681025 95.914254 \r\n",
       "L 165.803282 90.639614 \r\n",
       "L 171.925539 84.919229 \r\n",
       "L 178.047796 78.7531 \r\n",
       "L 184.170053 72.141226 \r\n",
       "L 190.29231 65.083608 \r\n",
       "L 196.414567 57.580247 \r\n",
       "L 202.536824 49.63114 \r\n",
       "L 208.659081 41.23629 \r\n",
       "L 214.781338 32.395695 \r\n",
       "L 220.903595 23.109356 \r\n",
       "L 227.025852 13.377273 \r\n",
       "\" style=\"fill:none;stroke:#1f77b4;stroke-linecap:square;stroke-width:1.5;\"/>\r\n",
       "   </g>\r\n",
       "   <g id=\"line2d_16\">\r\n",
       "    <path clip-path=\"url(#pc0d7b143e5)\" d=\"M 49.480398 136.922727 \r\n",
       "L 55.602655 135.436913 \r\n",
       "L 61.724912 133.951099 \r\n",
       "L 67.847169 132.465285 \r\n",
       "L 73.969426 130.97947 \r\n",
       "L 80.091683 129.493656 \r\n",
       "L 86.21394 128.007842 \r\n",
       "L 92.336197 126.522028 \r\n",
       "L 98.458454 125.036213 \r\n",
       "L 104.580711 123.550399 \r\n",
       "L 110.702968 122.064585 \r\n",
       "L 116.825225 120.578771 \r\n",
       "L 122.947482 119.092956 \r\n",
       "L 129.069739 117.607142 \r\n",
       "L 135.191996 116.121328 \r\n",
       "L 141.314254 114.635514 \r\n",
       "L 147.436511 113.149699 \r\n",
       "L 153.558768 111.663885 \r\n",
       "L 159.681025 110.178071 \r\n",
       "L 165.803282 108.692257 \r\n",
       "L 171.925539 107.206442 \r\n",
       "L 178.047796 105.720628 \r\n",
       "L 184.170053 104.234814 \r\n",
       "L 190.29231 102.749 \r\n",
       "L 196.414567 101.263185 \r\n",
       "L 202.536824 99.777371 \r\n",
       "L 208.659081 98.291557 \r\n",
       "L 214.781338 96.805743 \r\n",
       "L 220.903595 95.319928 \r\n",
       "L 227.025852 93.834114 \r\n",
       "\" style=\"fill:none;stroke:#bf00bf;stroke-dasharray:5.55,2.4;stroke-dashoffset:0;stroke-width:1.5;\"/>\r\n",
       "   </g>\r\n",
       "   <g id=\"patch_3\">\r\n",
       "    <path d=\"M 40.603125 143.1 \r\n",
       "L 40.603125 7.2 \r\n",
       "\" style=\"fill:none;stroke:#000000;stroke-linecap:square;stroke-linejoin:miter;stroke-width:0.8;\"/>\r\n",
       "   </g>\r\n",
       "   <g id=\"patch_4\">\r\n",
       "    <path d=\"M 235.903125 143.1 \r\n",
       "L 235.903125 7.2 \r\n",
       "\" style=\"fill:none;stroke:#000000;stroke-linecap:square;stroke-linejoin:miter;stroke-width:0.8;\"/>\r\n",
       "   </g>\r\n",
       "   <g id=\"patch_5\">\r\n",
       "    <path d=\"M 40.603125 143.1 \r\n",
       "L 235.903125 143.1 \r\n",
       "\" style=\"fill:none;stroke:#000000;stroke-linecap:square;stroke-linejoin:miter;stroke-width:0.8;\"/>\r\n",
       "   </g>\r\n",
       "   <g id=\"patch_6\">\r\n",
       "    <path d=\"M 40.603125 7.2 \r\n",
       "L 235.903125 7.2 \r\n",
       "\" style=\"fill:none;stroke:#000000;stroke-linecap:square;stroke-linejoin:miter;stroke-width:0.8;\"/>\r\n",
       "   </g>\r\n",
       "   <g id=\"legend_1\">\r\n",
       "    <g id=\"patch_7\">\r\n",
       "     <path d=\"M 47.603125 44.55625 \r\n",
       "L 172.153125 44.55625 \r\n",
       "Q 174.153125 44.55625 174.153125 42.55625 \r\n",
       "L 174.153125 14.2 \r\n",
       "Q 174.153125 12.2 172.153125 12.2 \r\n",
       "L 47.603125 12.2 \r\n",
       "Q 45.603125 12.2 45.603125 14.2 \r\n",
       "L 45.603125 42.55625 \r\n",
       "Q 45.603125 44.55625 47.603125 44.55625 \r\n",
       "z\r\n",
       "\" style=\"fill:#ffffff;opacity:0.8;stroke:#cccccc;stroke-linejoin:miter;\"/>\r\n",
       "    </g>\r\n",
       "    <g id=\"line2d_17\">\r\n",
       "     <path d=\"M 49.603125 20.298437 \r\n",
       "L 69.603125 20.298437 \r\n",
       "\" style=\"fill:none;stroke:#1f77b4;stroke-linecap:square;stroke-width:1.5;\"/>\r\n",
       "    </g>\r\n",
       "    <g id=\"line2d_18\"/>\r\n",
       "    <g id=\"text_10\">\r\n",
       "     <!-- f(x) -->\r\n",
       "     <g transform=\"translate(77.603125 23.798437)scale(0.1 -0.1)\">\r\n",
       "      <use xlink:href=\"#DejaVuSans-102\"/>\r\n",
       "      <use x=\"35.205078\" xlink:href=\"#DejaVuSans-40\"/>\r\n",
       "      <use x=\"74.21875\" xlink:href=\"#DejaVuSans-120\"/>\r\n",
       "      <use x=\"133.398438\" xlink:href=\"#DejaVuSans-41\"/>\r\n",
       "     </g>\r\n",
       "    </g>\r\n",
       "    <g id=\"line2d_19\">\r\n",
       "     <path d=\"M 49.603125 34.976562 \r\n",
       "L 69.603125 34.976562 \r\n",
       "\" style=\"fill:none;stroke:#bf00bf;stroke-dasharray:5.55,2.4;stroke-dashoffset:0;stroke-width:1.5;\"/>\r\n",
       "    </g>\r\n",
       "    <g id=\"line2d_20\"/>\r\n",
       "    <g id=\"text_11\">\r\n",
       "     <!-- Tangent line (x=1) -->\r\n",
       "     <defs>\r\n",
       "      <path d=\"M -0.296875 72.90625 \r\n",
       "L 61.375 72.90625 \r\n",
       "L 61.375 64.59375 \r\n",
       "L 35.5 64.59375 \r\n",
       "L 35.5 0 \r\n",
       "L 25.59375 0 \r\n",
       "L 25.59375 64.59375 \r\n",
       "L -0.296875 64.59375 \r\n",
       "z\r\n",
       "\" id=\"DejaVuSans-84\"/>\r\n",
       "      <path d=\"M 34.28125 27.484375 \r\n",
       "Q 23.390625 27.484375 19.1875 25 \r\n",
       "Q 14.984375 22.515625 14.984375 16.5 \r\n",
       "Q 14.984375 11.71875 18.140625 8.90625 \r\n",
       "Q 21.296875 6.109375 26.703125 6.109375 \r\n",
       "Q 34.1875 6.109375 38.703125 11.40625 \r\n",
       "Q 43.21875 16.703125 43.21875 25.484375 \r\n",
       "L 43.21875 27.484375 \r\n",
       "z\r\n",
       "M 52.203125 31.203125 \r\n",
       "L 52.203125 0 \r\n",
       "L 43.21875 0 \r\n",
       "L 43.21875 8.296875 \r\n",
       "Q 40.140625 3.328125 35.546875 0.953125 \r\n",
       "Q 30.953125 -1.421875 24.3125 -1.421875 \r\n",
       "Q 15.921875 -1.421875 10.953125 3.296875 \r\n",
       "Q 6 8.015625 6 15.921875 \r\n",
       "Q 6 25.140625 12.171875 29.828125 \r\n",
       "Q 18.359375 34.515625 30.609375 34.515625 \r\n",
       "L 43.21875 34.515625 \r\n",
       "L 43.21875 35.40625 \r\n",
       "Q 43.21875 41.609375 39.140625 45 \r\n",
       "Q 35.0625 48.390625 27.6875 48.390625 \r\n",
       "Q 23 48.390625 18.546875 47.265625 \r\n",
       "Q 14.109375 46.140625 10.015625 43.890625 \r\n",
       "L 10.015625 52.203125 \r\n",
       "Q 14.9375 54.109375 19.578125 55.046875 \r\n",
       "Q 24.21875 56 28.609375 56 \r\n",
       "Q 40.484375 56 46.34375 49.84375 \r\n",
       "Q 52.203125 43.703125 52.203125 31.203125 \r\n",
       "z\r\n",
       "\" id=\"DejaVuSans-97\"/>\r\n",
       "      <path d=\"M 54.890625 33.015625 \r\n",
       "L 54.890625 0 \r\n",
       "L 45.90625 0 \r\n",
       "L 45.90625 32.71875 \r\n",
       "Q 45.90625 40.484375 42.875 44.328125 \r\n",
       "Q 39.84375 48.1875 33.796875 48.1875 \r\n",
       "Q 26.515625 48.1875 22.3125 43.546875 \r\n",
       "Q 18.109375 38.921875 18.109375 30.90625 \r\n",
       "L 18.109375 0 \r\n",
       "L 9.078125 0 \r\n",
       "L 9.078125 54.6875 \r\n",
       "L 18.109375 54.6875 \r\n",
       "L 18.109375 46.1875 \r\n",
       "Q 21.34375 51.125 25.703125 53.5625 \r\n",
       "Q 30.078125 56 35.796875 56 \r\n",
       "Q 45.21875 56 50.046875 50.171875 \r\n",
       "Q 54.890625 44.34375 54.890625 33.015625 \r\n",
       "z\r\n",
       "\" id=\"DejaVuSans-110\"/>\r\n",
       "      <path d=\"M 45.40625 27.984375 \r\n",
       "Q 45.40625 37.75 41.375 43.109375 \r\n",
       "Q 37.359375 48.484375 30.078125 48.484375 \r\n",
       "Q 22.859375 48.484375 18.828125 43.109375 \r\n",
       "Q 14.796875 37.75 14.796875 27.984375 \r\n",
       "Q 14.796875 18.265625 18.828125 12.890625 \r\n",
       "Q 22.859375 7.515625 30.078125 7.515625 \r\n",
       "Q 37.359375 7.515625 41.375 12.890625 \r\n",
       "Q 45.40625 18.265625 45.40625 27.984375 \r\n",
       "z\r\n",
       "M 54.390625 6.78125 \r\n",
       "Q 54.390625 -7.171875 48.1875 -13.984375 \r\n",
       "Q 42 -20.796875 29.203125 -20.796875 \r\n",
       "Q 24.46875 -20.796875 20.265625 -20.09375 \r\n",
       "Q 16.0625 -19.390625 12.109375 -17.921875 \r\n",
       "L 12.109375 -9.1875 \r\n",
       "Q 16.0625 -11.328125 19.921875 -12.34375 \r\n",
       "Q 23.78125 -13.375 27.78125 -13.375 \r\n",
       "Q 36.625 -13.375 41.015625 -8.765625 \r\n",
       "Q 45.40625 -4.15625 45.40625 5.171875 \r\n",
       "L 45.40625 9.625 \r\n",
       "Q 42.625 4.78125 38.28125 2.390625 \r\n",
       "Q 33.9375 0 27.875 0 \r\n",
       "Q 17.828125 0 11.671875 7.65625 \r\n",
       "Q 5.515625 15.328125 5.515625 27.984375 \r\n",
       "Q 5.515625 40.671875 11.671875 48.328125 \r\n",
       "Q 17.828125 56 27.875 56 \r\n",
       "Q 33.9375 56 38.28125 53.609375 \r\n",
       "Q 42.625 51.21875 45.40625 46.390625 \r\n",
       "L 45.40625 54.6875 \r\n",
       "L 54.390625 54.6875 \r\n",
       "z\r\n",
       "\" id=\"DejaVuSans-103\"/>\r\n",
       "      <path d=\"M 56.203125 29.59375 \r\n",
       "L 56.203125 25.203125 \r\n",
       "L 14.890625 25.203125 \r\n",
       "Q 15.484375 15.921875 20.484375 11.0625 \r\n",
       "Q 25.484375 6.203125 34.421875 6.203125 \r\n",
       "Q 39.59375 6.203125 44.453125 7.46875 \r\n",
       "Q 49.3125 8.734375 54.109375 11.28125 \r\n",
       "L 54.109375 2.78125 \r\n",
       "Q 49.265625 0.734375 44.1875 -0.34375 \r\n",
       "Q 39.109375 -1.421875 33.890625 -1.421875 \r\n",
       "Q 20.796875 -1.421875 13.15625 6.1875 \r\n",
       "Q 5.515625 13.8125 5.515625 26.8125 \r\n",
       "Q 5.515625 40.234375 12.765625 48.109375 \r\n",
       "Q 20.015625 56 32.328125 56 \r\n",
       "Q 43.359375 56 49.78125 48.890625 \r\n",
       "Q 56.203125 41.796875 56.203125 29.59375 \r\n",
       "z\r\n",
       "M 47.21875 32.234375 \r\n",
       "Q 47.125 39.59375 43.09375 43.984375 \r\n",
       "Q 39.0625 48.390625 32.421875 48.390625 \r\n",
       "Q 24.90625 48.390625 20.390625 44.140625 \r\n",
       "Q 15.875 39.890625 15.1875 32.171875 \r\n",
       "z\r\n",
       "\" id=\"DejaVuSans-101\"/>\r\n",
       "      <path d=\"M 18.3125 70.21875 \r\n",
       "L 18.3125 54.6875 \r\n",
       "L 36.8125 54.6875 \r\n",
       "L 36.8125 47.703125 \r\n",
       "L 18.3125 47.703125 \r\n",
       "L 18.3125 18.015625 \r\n",
       "Q 18.3125 11.328125 20.140625 9.421875 \r\n",
       "Q 21.96875 7.515625 27.59375 7.515625 \r\n",
       "L 36.8125 7.515625 \r\n",
       "L 36.8125 0 \r\n",
       "L 27.59375 0 \r\n",
       "Q 17.1875 0 13.234375 3.875 \r\n",
       "Q 9.28125 7.765625 9.28125 18.015625 \r\n",
       "L 9.28125 47.703125 \r\n",
       "L 2.6875 47.703125 \r\n",
       "L 2.6875 54.6875 \r\n",
       "L 9.28125 54.6875 \r\n",
       "L 9.28125 70.21875 \r\n",
       "z\r\n",
       "\" id=\"DejaVuSans-116\"/>\r\n",
       "      <path id=\"DejaVuSans-32\"/>\r\n",
       "      <path d=\"M 9.421875 75.984375 \r\n",
       "L 18.40625 75.984375 \r\n",
       "L 18.40625 0 \r\n",
       "L 9.421875 0 \r\n",
       "z\r\n",
       "\" id=\"DejaVuSans-108\"/>\r\n",
       "      <path d=\"M 9.421875 54.6875 \r\n",
       "L 18.40625 54.6875 \r\n",
       "L 18.40625 0 \r\n",
       "L 9.421875 0 \r\n",
       "z\r\n",
       "M 9.421875 75.984375 \r\n",
       "L 18.40625 75.984375 \r\n",
       "L 18.40625 64.59375 \r\n",
       "L 9.421875 64.59375 \r\n",
       "z\r\n",
       "\" id=\"DejaVuSans-105\"/>\r\n",
       "      <path d=\"M 10.59375 45.40625 \r\n",
       "L 73.1875 45.40625 \r\n",
       "L 73.1875 37.203125 \r\n",
       "L 10.59375 37.203125 \r\n",
       "z\r\n",
       "M 10.59375 25.484375 \r\n",
       "L 73.1875 25.484375 \r\n",
       "L 73.1875 17.1875 \r\n",
       "L 10.59375 17.1875 \r\n",
       "z\r\n",
       "\" id=\"DejaVuSans-61\"/>\r\n",
       "     </defs>\r\n",
       "     <g transform=\"translate(77.603125 38.476562)scale(0.1 -0.1)\">\r\n",
       "      <use xlink:href=\"#DejaVuSans-84\"/>\r\n",
       "      <use x=\"44.583984\" xlink:href=\"#DejaVuSans-97\"/>\r\n",
       "      <use x=\"105.863281\" xlink:href=\"#DejaVuSans-110\"/>\r\n",
       "      <use x=\"169.242188\" xlink:href=\"#DejaVuSans-103\"/>\r\n",
       "      <use x=\"232.71875\" xlink:href=\"#DejaVuSans-101\"/>\r\n",
       "      <use x=\"294.242188\" xlink:href=\"#DejaVuSans-110\"/>\r\n",
       "      <use x=\"357.621094\" xlink:href=\"#DejaVuSans-116\"/>\r\n",
       "      <use x=\"396.830078\" xlink:href=\"#DejaVuSans-32\"/>\r\n",
       "      <use x=\"428.617188\" xlink:href=\"#DejaVuSans-108\"/>\r\n",
       "      <use x=\"456.400391\" xlink:href=\"#DejaVuSans-105\"/>\r\n",
       "      <use x=\"484.183594\" xlink:href=\"#DejaVuSans-110\"/>\r\n",
       "      <use x=\"547.5625\" xlink:href=\"#DejaVuSans-101\"/>\r\n",
       "      <use x=\"609.085938\" xlink:href=\"#DejaVuSans-32\"/>\r\n",
       "      <use x=\"640.873047\" xlink:href=\"#DejaVuSans-40\"/>\r\n",
       "      <use x=\"679.886719\" xlink:href=\"#DejaVuSans-120\"/>\r\n",
       "      <use x=\"739.066406\" xlink:href=\"#DejaVuSans-61\"/>\r\n",
       "      <use x=\"822.855469\" xlink:href=\"#DejaVuSans-49\"/>\r\n",
       "      <use x=\"886.478516\" xlink:href=\"#DejaVuSans-41\"/>\r\n",
       "     </g>\r\n",
       "    </g>\r\n",
       "   </g>\r\n",
       "  </g>\r\n",
       " </g>\r\n",
       " <defs>\r\n",
       "  <clipPath id=\"pc0d7b143e5\">\r\n",
       "   <rect height=\"135.9\" width=\"195.3\" x=\"40.603125\" y=\"7.2\"/>\r\n",
       "  </clipPath>\r\n",
       " </defs>\r\n",
       "</svg>\r\n"
      ],
      "text/plain": [
       "<Figure size 252x180 with 1 Axes>"
      ]
     },
     "metadata": {
      "needs_background": "light"
     },
     "output_type": "display_data"
    }
   ],
   "source": [
    "print(\"Done by Bohdan Levytskyi \", datetime.now())\n",
    "x = np.arange(0, 3, 0.1)\n",
    "plot(x, [f(x), 2 * x - 3], 'x', 'f(x)', legend=['f(x)', 'Tangent line (x=1)'])"
   ]
  },
  {
   "cell_type": "markdown",
   "metadata": {},
   "source": [
    "# 2.5.1. Automatic Differentiation. A Simple Example"
   ]
  },
  {
   "cell_type": "code",
   "execution_count": 163,
   "metadata": {},
   "outputs": [
    {
     "name": "stdout",
     "output_type": "stream",
     "text": [
      "Done by Bohdan Levytskyi  2021-09-12 20:29:20.699869\n"
     ]
    },
    {
     "data": {
      "text/plain": [
       "tensor([0., 1., 2., 3.])"
      ]
     },
     "execution_count": 163,
     "metadata": {},
     "output_type": "execute_result"
    }
   ],
   "source": [
    "print(\"Done by Bohdan Levytskyi \", datetime.now())\n",
    "import torch\n",
    "\n",
    "x = torch.arange(4.0)\n",
    "x"
   ]
  },
  {
   "cell_type": "code",
   "execution_count": 164,
   "metadata": {},
   "outputs": [
    {
     "name": "stdout",
     "output_type": "stream",
     "text": [
      "Done by Bohdan Levytskyi  2021-09-12 20:29:24.728578\n"
     ]
    }
   ],
   "source": [
    "print(\"Done by Bohdan Levytskyi \", datetime.now())\n",
    "x.requires_grad_(True)  # Same as `x = torch.arange(4.0, requires_grad=True)`\n",
    "x.grad  # The default value is None"
   ]
  },
  {
   "cell_type": "code",
   "execution_count": 165,
   "metadata": {},
   "outputs": [
    {
     "name": "stdout",
     "output_type": "stream",
     "text": [
      "Done by Bohdan Levytskyi  2021-09-12 20:29:27.010335\n"
     ]
    },
    {
     "data": {
      "text/plain": [
       "tensor(28., grad_fn=<MulBackward0>)"
      ]
     },
     "execution_count": 165,
     "metadata": {},
     "output_type": "execute_result"
    }
   ],
   "source": [
    "print(\"Done by Bohdan Levytskyi \", datetime.now())\n",
    "y = 2 * torch.dot(x, x)\n",
    "y"
   ]
  },
  {
   "cell_type": "code",
   "execution_count": 166,
   "metadata": {},
   "outputs": [
    {
     "name": "stdout",
     "output_type": "stream",
     "text": [
      "Done by Bohdan Levytskyi  2021-09-12 20:29:29.671305\n"
     ]
    },
    {
     "data": {
      "text/plain": [
       "tensor([ 0.,  4.,  8., 12.])"
      ]
     },
     "execution_count": 166,
     "metadata": {},
     "output_type": "execute_result"
    }
   ],
   "source": [
    "print(\"Done by Bohdan Levytskyi \", datetime.now())\n",
    "y.backward()\n",
    "x.grad"
   ]
  },
  {
   "cell_type": "code",
   "execution_count": 167,
   "metadata": {},
   "outputs": [
    {
     "name": "stdout",
     "output_type": "stream",
     "text": [
      "Done by Bohdan Levytskyi  2021-09-12 20:29:32.583519\n"
     ]
    },
    {
     "data": {
      "text/plain": [
       "tensor([True, True, True, True])"
      ]
     },
     "execution_count": 167,
     "metadata": {},
     "output_type": "execute_result"
    }
   ],
   "source": [
    "print(\"Done by Bohdan Levytskyi \", datetime.now())\n",
    "x.grad == 4 * x"
   ]
  },
  {
   "cell_type": "code",
   "execution_count": 168,
   "metadata": {},
   "outputs": [
    {
     "name": "stdout",
     "output_type": "stream",
     "text": [
      "Done by Bohdan Levytskyi  2021-09-12 20:29:36.274527\n"
     ]
    },
    {
     "data": {
      "text/plain": [
       "tensor([1., 1., 1., 1.])"
      ]
     },
     "execution_count": 168,
     "metadata": {},
     "output_type": "execute_result"
    }
   ],
   "source": [
    "print(\"Done by Bohdan Levytskyi \", datetime.now())\n",
    "x.grad.zero_()\n",
    "y = x.sum()\n",
    "y.backward()\n",
    "x.grad"
   ]
  },
  {
   "cell_type": "markdown",
   "metadata": {},
   "source": [
    "# 2.5.2. Backward for Non-Scalar Variables"
   ]
  },
  {
   "cell_type": "code",
   "execution_count": 169,
   "metadata": {},
   "outputs": [
    {
     "name": "stdout",
     "output_type": "stream",
     "text": [
      "Done by Bohdan Levytskyi  2021-09-12 20:29:40.837754\n"
     ]
    },
    {
     "data": {
      "text/plain": [
       "tensor([0., 2., 4., 6.])"
      ]
     },
     "execution_count": 169,
     "metadata": {},
     "output_type": "execute_result"
    }
   ],
   "source": [
    "print(\"Done by Bohdan Levytskyi \", datetime.now())\n",
    "x.grad.zero_()\n",
    "y = x * x\n",
    "# y.backward(torch.ones(len(x))) equivalent to the below\n",
    "y.sum().backward()\n",
    "x.grad"
   ]
  },
  {
   "cell_type": "markdown",
   "metadata": {},
   "source": [
    "# 2.5.3. Detaching Computation"
   ]
  },
  {
   "cell_type": "code",
   "execution_count": 170,
   "metadata": {},
   "outputs": [
    {
     "name": "stdout",
     "output_type": "stream",
     "text": [
      "Done by Bohdan Levytskyi  2021-09-12 20:29:43.698854\n"
     ]
    },
    {
     "data": {
      "text/plain": [
       "tensor([True, True, True, True])"
      ]
     },
     "execution_count": 170,
     "metadata": {},
     "output_type": "execute_result"
    }
   ],
   "source": [
    "print(\"Done by Bohdan Levytskyi \", datetime.now())\n",
    "x.grad.zero_()\n",
    "y = x * x\n",
    "u = y.detach()\n",
    "z = u * x\n",
    "\n",
    "z.sum().backward()\n",
    "x.grad == u"
   ]
  },
  {
   "cell_type": "code",
   "execution_count": 171,
   "metadata": {},
   "outputs": [
    {
     "name": "stdout",
     "output_type": "stream",
     "text": [
      "Done by Bohdan Levytskyi  2021-09-12 20:29:46.641649\n"
     ]
    },
    {
     "data": {
      "text/plain": [
       "tensor([True, True, True, True])"
      ]
     },
     "execution_count": 171,
     "metadata": {},
     "output_type": "execute_result"
    }
   ],
   "source": [
    "print(\"Done by Bohdan Levytskyi \", datetime.now())\n",
    "x.grad.zero_()\n",
    "y.sum().backward()\n",
    "x.grad == 2 * x"
   ]
  },
  {
   "cell_type": "markdown",
   "metadata": {},
   "source": [
    "# 2.5.4. Computing the Gradient of Python Control Flow"
   ]
  },
  {
   "cell_type": "code",
   "execution_count": 172,
   "metadata": {},
   "outputs": [
    {
     "name": "stdout",
     "output_type": "stream",
     "text": [
      "Done by Bohdan Levytskyi  2021-09-12 20:29:48.791701\n"
     ]
    }
   ],
   "source": [
    "print(\"Done by Bohdan Levytskyi \", datetime.now())\n",
    "def f(a):\n",
    "    b = a * 2\n",
    "    while b.norm() < 1000:\n",
    "        b = b * 2\n",
    "    if b.sum() > 0:\n",
    "        c = b\n",
    "    else:\n",
    "        c = 100 * b\n",
    "    return c"
   ]
  },
  {
   "cell_type": "code",
   "execution_count": 173,
   "metadata": {},
   "outputs": [
    {
     "name": "stdout",
     "output_type": "stream",
     "text": [
      "Done by Bohdan Levytskyi  2021-09-12 20:29:51.628689\n"
     ]
    }
   ],
   "source": [
    "print(\"Done by Bohdan Levytskyi \", datetime.now())\n",
    "a = torch.randn(size=(), requires_grad=True)\n",
    "d = f(a)\n",
    "d.backward()"
   ]
  },
  {
   "cell_type": "code",
   "execution_count": 174,
   "metadata": {},
   "outputs": [
    {
     "name": "stdout",
     "output_type": "stream",
     "text": [
      "Done by Bohdan Levytskyi  2021-09-12 20:29:55.024464\n"
     ]
    },
    {
     "data": {
      "text/plain": [
       "tensor(True)"
      ]
     },
     "execution_count": 174,
     "metadata": {},
     "output_type": "execute_result"
    }
   ],
   "source": [
    "print(\"Done by Bohdan Levytskyi \", datetime.now())\n",
    "a.grad == d / a"
   ]
  },
  {
   "cell_type": "markdown",
   "metadata": {},
   "source": [
    "# 2.6.1. Basic Probability Theory"
   ]
  },
  {
   "cell_type": "code",
   "execution_count": 175,
   "metadata": {},
   "outputs": [
    {
     "name": "stdout",
     "output_type": "stream",
     "text": [
      "Done by Bohdan Levytskyi  2021-09-12 20:29:57.746371\n"
     ]
    }
   ],
   "source": [
    "print(\"Done by Bohdan Levytskyi \", datetime.now())\n",
    "%matplotlib inline\n",
    "import torch\n",
    "from torch.distributions import multinomial\n",
    "from d2l import torch as d2l"
   ]
  },
  {
   "cell_type": "code",
   "execution_count": 176,
   "metadata": {},
   "outputs": [
    {
     "name": "stdout",
     "output_type": "stream",
     "text": [
      "Done by Bohdan Levytskyi  2021-09-12 20:30:00.710262\n"
     ]
    },
    {
     "data": {
      "text/plain": [
       "tensor([0., 0., 1., 0., 0., 0.])"
      ]
     },
     "execution_count": 176,
     "metadata": {},
     "output_type": "execute_result"
    }
   ],
   "source": [
    "print(\"Done by Bohdan Levytskyi \", datetime.now())\n",
    "fair_probs = torch.ones([6]) / 6\n",
    "multinomial.Multinomial(1, fair_probs).sample()"
   ]
  },
  {
   "cell_type": "code",
   "execution_count": 177,
   "metadata": {},
   "outputs": [
    {
     "name": "stdout",
     "output_type": "stream",
     "text": [
      "Done by Bohdan Levytskyi  2021-09-12 20:30:04.585022\n"
     ]
    },
    {
     "data": {
      "text/plain": [
       "tensor([1., 2., 3., 0., 3., 1.])"
      ]
     },
     "execution_count": 177,
     "metadata": {},
     "output_type": "execute_result"
    }
   ],
   "source": [
    "print(\"Done by Bohdan Levytskyi \", datetime.now())\n",
    "multinomial.Multinomial(10, fair_probs).sample()"
   ]
  },
  {
   "cell_type": "code",
   "execution_count": 178,
   "metadata": {},
   "outputs": [
    {
     "name": "stdout",
     "output_type": "stream",
     "text": [
      "Done by Bohdan Levytskyi  2021-09-12 20:30:07.105032\n"
     ]
    },
    {
     "data": {
      "text/plain": [
       "tensor([0.1690, 0.1720, 0.1570, 0.1650, 0.1600, 0.1770])"
      ]
     },
     "execution_count": 178,
     "metadata": {},
     "output_type": "execute_result"
    }
   ],
   "source": [
    "print(\"Done by Bohdan Levytskyi \", datetime.now())\n",
    "counts = multinomial.Multinomial(1000, fair_probs).sample()\n",
    "counts / 1000  # Relative frequency as the estimate"
   ]
  },
  {
   "cell_type": "code",
   "execution_count": 179,
   "metadata": {},
   "outputs": [
    {
     "name": "stdout",
     "output_type": "stream",
     "text": [
      "Done by Bohdan Levytskyi  2021-09-12 20:30:09.863404\n"
     ]
    },
    {
     "data": {
      "image/svg+xml": [
       "<?xml version=\"1.0\" encoding=\"utf-8\" standalone=\"no\"?>\r\n",
       "<!DOCTYPE svg PUBLIC \"-//W3C//DTD SVG 1.1//EN\"\r\n",
       "  \"http://www.w3.org/Graphics/SVG/1.1/DTD/svg11.dtd\">\r\n",
       "<!-- Created with matplotlib (https://matplotlib.org/) -->\r\n",
       "<svg height=\"289.37625pt\" version=\"1.1\" viewBox=\"0 0 392.14375 289.37625\" width=\"392.14375pt\" xmlns=\"http://www.w3.org/2000/svg\" xmlns:xlink=\"http://www.w3.org/1999/xlink\">\r\n",
       " <defs>\r\n",
       "  <style type=\"text/css\">\r\n",
       "*{stroke-linecap:butt;stroke-linejoin:round;}\r\n",
       "  </style>\r\n",
       " </defs>\r\n",
       " <g id=\"figure_1\">\r\n",
       "  <g id=\"patch_1\">\r\n",
       "   <path d=\"M 0 289.37625 \r\n",
       "L 392.14375 289.37625 \r\n",
       "L 392.14375 0 \r\n",
       "L 0 0 \r\n",
       "z\r\n",
       "\" style=\"fill:none;\"/>\r\n",
       "  </g>\r\n",
       "  <g id=\"axes_1\">\r\n",
       "   <g id=\"patch_2\">\r\n",
       "    <path d=\"M 50.14375 251.82 \r\n",
       "L 384.94375 251.82 \r\n",
       "L 384.94375 7.2 \r\n",
       "L 50.14375 7.2 \r\n",
       "z\r\n",
       "\" style=\"fill:#ffffff;\"/>\r\n",
       "   </g>\r\n",
       "   <g id=\"matplotlib.axis_1\">\r\n",
       "    <g id=\"xtick_1\">\r\n",
       "     <g id=\"line2d_1\">\r\n",
       "      <defs>\r\n",
       "       <path d=\"M 0 0 \r\n",
       "L 0 3.5 \r\n",
       "\" id=\"m2ae2bbb23e\" style=\"stroke:#000000;stroke-width:0.8;\"/>\r\n",
       "      </defs>\r\n",
       "      <g>\r\n",
       "       <use style=\"stroke:#000000;stroke-width:0.8;\" x=\"65.361932\" xlink:href=\"#m2ae2bbb23e\" y=\"251.82\"/>\r\n",
       "      </g>\r\n",
       "     </g>\r\n",
       "     <g id=\"text_1\">\r\n",
       "      <!-- 0 -->\r\n",
       "      <defs>\r\n",
       "       <path d=\"M 31.78125 66.40625 \r\n",
       "Q 24.171875 66.40625 20.328125 58.90625 \r\n",
       "Q 16.5 51.421875 16.5 36.375 \r\n",
       "Q 16.5 21.390625 20.328125 13.890625 \r\n",
       "Q 24.171875 6.390625 31.78125 6.390625 \r\n",
       "Q 39.453125 6.390625 43.28125 13.890625 \r\n",
       "Q 47.125 21.390625 47.125 36.375 \r\n",
       "Q 47.125 51.421875 43.28125 58.90625 \r\n",
       "Q 39.453125 66.40625 31.78125 66.40625 \r\n",
       "z\r\n",
       "M 31.78125 74.21875 \r\n",
       "Q 44.046875 74.21875 50.515625 64.515625 \r\n",
       "Q 56.984375 54.828125 56.984375 36.375 \r\n",
       "Q 56.984375 17.96875 50.515625 8.265625 \r\n",
       "Q 44.046875 -1.421875 31.78125 -1.421875 \r\n",
       "Q 19.53125 -1.421875 13.0625 8.265625 \r\n",
       "Q 6.59375 17.96875 6.59375 36.375 \r\n",
       "Q 6.59375 54.828125 13.0625 64.515625 \r\n",
       "Q 19.53125 74.21875 31.78125 74.21875 \r\n",
       "z\r\n",
       "\" id=\"DejaVuSans-48\"/>\r\n",
       "      </defs>\r\n",
       "      <g transform=\"translate(62.180682 266.418437)scale(0.1 -0.1)\">\r\n",
       "       <use xlink:href=\"#DejaVuSans-48\"/>\r\n",
       "      </g>\r\n",
       "     </g>\r\n",
       "    </g>\r\n",
       "    <g id=\"xtick_2\">\r\n",
       "     <g id=\"line2d_2\">\r\n",
       "      <g>\r\n",
       "       <use style=\"stroke:#000000;stroke-width:0.8;\" x=\"126.356649\" xlink:href=\"#m2ae2bbb23e\" y=\"251.82\"/>\r\n",
       "      </g>\r\n",
       "     </g>\r\n",
       "     <g id=\"text_2\">\r\n",
       "      <!-- 100 -->\r\n",
       "      <defs>\r\n",
       "       <path d=\"M 12.40625 8.296875 \r\n",
       "L 28.515625 8.296875 \r\n",
       "L 28.515625 63.921875 \r\n",
       "L 10.984375 60.40625 \r\n",
       "L 10.984375 69.390625 \r\n",
       "L 28.421875 72.90625 \r\n",
       "L 38.28125 72.90625 \r\n",
       "L 38.28125 8.296875 \r\n",
       "L 54.390625 8.296875 \r\n",
       "L 54.390625 0 \r\n",
       "L 12.40625 0 \r\n",
       "z\r\n",
       "\" id=\"DejaVuSans-49\"/>\r\n",
       "      </defs>\r\n",
       "      <g transform=\"translate(116.812899 266.418437)scale(0.1 -0.1)\">\r\n",
       "       <use xlink:href=\"#DejaVuSans-49\"/>\r\n",
       "       <use x=\"63.623047\" xlink:href=\"#DejaVuSans-48\"/>\r\n",
       "       <use x=\"127.246094\" xlink:href=\"#DejaVuSans-48\"/>\r\n",
       "      </g>\r\n",
       "     </g>\r\n",
       "    </g>\r\n",
       "    <g id=\"xtick_3\">\r\n",
       "     <g id=\"line2d_3\">\r\n",
       "      <g>\r\n",
       "       <use style=\"stroke:#000000;stroke-width:0.8;\" x=\"187.351365\" xlink:href=\"#m2ae2bbb23e\" y=\"251.82\"/>\r\n",
       "      </g>\r\n",
       "     </g>\r\n",
       "     <g id=\"text_3\">\r\n",
       "      <!-- 200 -->\r\n",
       "      <defs>\r\n",
       "       <path d=\"M 19.1875 8.296875 \r\n",
       "L 53.609375 8.296875 \r\n",
       "L 53.609375 0 \r\n",
       "L 7.328125 0 \r\n",
       "L 7.328125 8.296875 \r\n",
       "Q 12.9375 14.109375 22.625 23.890625 \r\n",
       "Q 32.328125 33.6875 34.8125 36.53125 \r\n",
       "Q 39.546875 41.84375 41.421875 45.53125 \r\n",
       "Q 43.3125 49.21875 43.3125 52.78125 \r\n",
       "Q 43.3125 58.59375 39.234375 62.25 \r\n",
       "Q 35.15625 65.921875 28.609375 65.921875 \r\n",
       "Q 23.96875 65.921875 18.8125 64.3125 \r\n",
       "Q 13.671875 62.703125 7.8125 59.421875 \r\n",
       "L 7.8125 69.390625 \r\n",
       "Q 13.765625 71.78125 18.9375 73 \r\n",
       "Q 24.125 74.21875 28.421875 74.21875 \r\n",
       "Q 39.75 74.21875 46.484375 68.546875 \r\n",
       "Q 53.21875 62.890625 53.21875 53.421875 \r\n",
       "Q 53.21875 48.921875 51.53125 44.890625 \r\n",
       "Q 49.859375 40.875 45.40625 35.40625 \r\n",
       "Q 44.1875 33.984375 37.640625 27.21875 \r\n",
       "Q 31.109375 20.453125 19.1875 8.296875 \r\n",
       "z\r\n",
       "\" id=\"DejaVuSans-50\"/>\r\n",
       "      </defs>\r\n",
       "      <g transform=\"translate(177.807615 266.418437)scale(0.1 -0.1)\">\r\n",
       "       <use xlink:href=\"#DejaVuSans-50\"/>\r\n",
       "       <use x=\"63.623047\" xlink:href=\"#DejaVuSans-48\"/>\r\n",
       "       <use x=\"127.246094\" xlink:href=\"#DejaVuSans-48\"/>\r\n",
       "      </g>\r\n",
       "     </g>\r\n",
       "    </g>\r\n",
       "    <g id=\"xtick_4\">\r\n",
       "     <g id=\"line2d_4\">\r\n",
       "      <g>\r\n",
       "       <use style=\"stroke:#000000;stroke-width:0.8;\" x=\"248.346082\" xlink:href=\"#m2ae2bbb23e\" y=\"251.82\"/>\r\n",
       "      </g>\r\n",
       "     </g>\r\n",
       "     <g id=\"text_4\">\r\n",
       "      <!-- 300 -->\r\n",
       "      <defs>\r\n",
       "       <path d=\"M 40.578125 39.3125 \r\n",
       "Q 47.65625 37.796875 51.625 33 \r\n",
       "Q 55.609375 28.21875 55.609375 21.1875 \r\n",
       "Q 55.609375 10.40625 48.1875 4.484375 \r\n",
       "Q 40.765625 -1.421875 27.09375 -1.421875 \r\n",
       "Q 22.515625 -1.421875 17.65625 -0.515625 \r\n",
       "Q 12.796875 0.390625 7.625 2.203125 \r\n",
       "L 7.625 11.71875 \r\n",
       "Q 11.71875 9.328125 16.59375 8.109375 \r\n",
       "Q 21.484375 6.890625 26.8125 6.890625 \r\n",
       "Q 36.078125 6.890625 40.9375 10.546875 \r\n",
       "Q 45.796875 14.203125 45.796875 21.1875 \r\n",
       "Q 45.796875 27.640625 41.28125 31.265625 \r\n",
       "Q 36.765625 34.90625 28.71875 34.90625 \r\n",
       "L 20.21875 34.90625 \r\n",
       "L 20.21875 43.015625 \r\n",
       "L 29.109375 43.015625 \r\n",
       "Q 36.375 43.015625 40.234375 45.921875 \r\n",
       "Q 44.09375 48.828125 44.09375 54.296875 \r\n",
       "Q 44.09375 59.90625 40.109375 62.90625 \r\n",
       "Q 36.140625 65.921875 28.71875 65.921875 \r\n",
       "Q 24.65625 65.921875 20.015625 65.03125 \r\n",
       "Q 15.375 64.15625 9.8125 62.3125 \r\n",
       "L 9.8125 71.09375 \r\n",
       "Q 15.4375 72.65625 20.34375 73.4375 \r\n",
       "Q 25.25 74.21875 29.59375 74.21875 \r\n",
       "Q 40.828125 74.21875 47.359375 69.109375 \r\n",
       "Q 53.90625 64.015625 53.90625 55.328125 \r\n",
       "Q 53.90625 49.265625 50.4375 45.09375 \r\n",
       "Q 46.96875 40.921875 40.578125 39.3125 \r\n",
       "z\r\n",
       "\" id=\"DejaVuSans-51\"/>\r\n",
       "      </defs>\r\n",
       "      <g transform=\"translate(238.802332 266.418437)scale(0.1 -0.1)\">\r\n",
       "       <use xlink:href=\"#DejaVuSans-51\"/>\r\n",
       "       <use x=\"63.623047\" xlink:href=\"#DejaVuSans-48\"/>\r\n",
       "       <use x=\"127.246094\" xlink:href=\"#DejaVuSans-48\"/>\r\n",
       "      </g>\r\n",
       "     </g>\r\n",
       "    </g>\r\n",
       "    <g id=\"xtick_5\">\r\n",
       "     <g id=\"line2d_5\">\r\n",
       "      <g>\r\n",
       "       <use style=\"stroke:#000000;stroke-width:0.8;\" x=\"309.340799\" xlink:href=\"#m2ae2bbb23e\" y=\"251.82\"/>\r\n",
       "      </g>\r\n",
       "     </g>\r\n",
       "     <g id=\"text_5\">\r\n",
       "      <!-- 400 -->\r\n",
       "      <defs>\r\n",
       "       <path d=\"M 37.796875 64.3125 \r\n",
       "L 12.890625 25.390625 \r\n",
       "L 37.796875 25.390625 \r\n",
       "z\r\n",
       "M 35.203125 72.90625 \r\n",
       "L 47.609375 72.90625 \r\n",
       "L 47.609375 25.390625 \r\n",
       "L 58.015625 25.390625 \r\n",
       "L 58.015625 17.1875 \r\n",
       "L 47.609375 17.1875 \r\n",
       "L 47.609375 0 \r\n",
       "L 37.796875 0 \r\n",
       "L 37.796875 17.1875 \r\n",
       "L 4.890625 17.1875 \r\n",
       "L 4.890625 26.703125 \r\n",
       "z\r\n",
       "\" id=\"DejaVuSans-52\"/>\r\n",
       "      </defs>\r\n",
       "      <g transform=\"translate(299.797049 266.418437)scale(0.1 -0.1)\">\r\n",
       "       <use xlink:href=\"#DejaVuSans-52\"/>\r\n",
       "       <use x=\"63.623047\" xlink:href=\"#DejaVuSans-48\"/>\r\n",
       "       <use x=\"127.246094\" xlink:href=\"#DejaVuSans-48\"/>\r\n",
       "      </g>\r\n",
       "     </g>\r\n",
       "    </g>\r\n",
       "    <g id=\"xtick_6\">\r\n",
       "     <g id=\"line2d_6\">\r\n",
       "      <g>\r\n",
       "       <use style=\"stroke:#000000;stroke-width:0.8;\" x=\"370.335515\" xlink:href=\"#m2ae2bbb23e\" y=\"251.82\"/>\r\n",
       "      </g>\r\n",
       "     </g>\r\n",
       "     <g id=\"text_6\">\r\n",
       "      <!-- 500 -->\r\n",
       "      <defs>\r\n",
       "       <path d=\"M 10.796875 72.90625 \r\n",
       "L 49.515625 72.90625 \r\n",
       "L 49.515625 64.59375 \r\n",
       "L 19.828125 64.59375 \r\n",
       "L 19.828125 46.734375 \r\n",
       "Q 21.96875 47.46875 24.109375 47.828125 \r\n",
       "Q 26.265625 48.1875 28.421875 48.1875 \r\n",
       "Q 40.625 48.1875 47.75 41.5 \r\n",
       "Q 54.890625 34.8125 54.890625 23.390625 \r\n",
       "Q 54.890625 11.625 47.5625 5.09375 \r\n",
       "Q 40.234375 -1.421875 26.90625 -1.421875 \r\n",
       "Q 22.3125 -1.421875 17.546875 -0.640625 \r\n",
       "Q 12.796875 0.140625 7.71875 1.703125 \r\n",
       "L 7.71875 11.625 \r\n",
       "Q 12.109375 9.234375 16.796875 8.0625 \r\n",
       "Q 21.484375 6.890625 26.703125 6.890625 \r\n",
       "Q 35.15625 6.890625 40.078125 11.328125 \r\n",
       "Q 45.015625 15.765625 45.015625 23.390625 \r\n",
       "Q 45.015625 31 40.078125 35.4375 \r\n",
       "Q 35.15625 39.890625 26.703125 39.890625 \r\n",
       "Q 22.75 39.890625 18.8125 39.015625 \r\n",
       "Q 14.890625 38.140625 10.796875 36.28125 \r\n",
       "z\r\n",
       "\" id=\"DejaVuSans-53\"/>\r\n",
       "      </defs>\r\n",
       "      <g transform=\"translate(360.791765 266.418437)scale(0.1 -0.1)\">\r\n",
       "       <use xlink:href=\"#DejaVuSans-53\"/>\r\n",
       "       <use x=\"63.623047\" xlink:href=\"#DejaVuSans-48\"/>\r\n",
       "       <use x=\"127.246094\" xlink:href=\"#DejaVuSans-48\"/>\r\n",
       "      </g>\r\n",
       "     </g>\r\n",
       "    </g>\r\n",
       "    <g id=\"text_7\">\r\n",
       "     <!-- Groups of experiments -->\r\n",
       "     <defs>\r\n",
       "      <path d=\"M 59.515625 10.40625 \r\n",
       "L 59.515625 29.984375 \r\n",
       "L 43.40625 29.984375 \r\n",
       "L 43.40625 38.09375 \r\n",
       "L 69.28125 38.09375 \r\n",
       "L 69.28125 6.78125 \r\n",
       "Q 63.578125 2.734375 56.6875 0.65625 \r\n",
       "Q 49.8125 -1.421875 42 -1.421875 \r\n",
       "Q 24.90625 -1.421875 15.25 8.5625 \r\n",
       "Q 5.609375 18.5625 5.609375 36.375 \r\n",
       "Q 5.609375 54.25 15.25 64.234375 \r\n",
       "Q 24.90625 74.21875 42 74.21875 \r\n",
       "Q 49.125 74.21875 55.546875 72.453125 \r\n",
       "Q 61.96875 70.703125 67.390625 67.28125 \r\n",
       "L 67.390625 56.78125 \r\n",
       "Q 61.921875 61.421875 55.765625 63.765625 \r\n",
       "Q 49.609375 66.109375 42.828125 66.109375 \r\n",
       "Q 29.4375 66.109375 22.71875 58.640625 \r\n",
       "Q 16.015625 51.171875 16.015625 36.375 \r\n",
       "Q 16.015625 21.625 22.71875 14.15625 \r\n",
       "Q 29.4375 6.6875 42.828125 6.6875 \r\n",
       "Q 48.046875 6.6875 52.140625 7.59375 \r\n",
       "Q 56.25 8.5 59.515625 10.40625 \r\n",
       "z\r\n",
       "\" id=\"DejaVuSans-71\"/>\r\n",
       "      <path d=\"M 41.109375 46.296875 \r\n",
       "Q 39.59375 47.171875 37.8125 47.578125 \r\n",
       "Q 36.03125 48 33.890625 48 \r\n",
       "Q 26.265625 48 22.1875 43.046875 \r\n",
       "Q 18.109375 38.09375 18.109375 28.8125 \r\n",
       "L 18.109375 0 \r\n",
       "L 9.078125 0 \r\n",
       "L 9.078125 54.6875 \r\n",
       "L 18.109375 54.6875 \r\n",
       "L 18.109375 46.1875 \r\n",
       "Q 20.953125 51.171875 25.484375 53.578125 \r\n",
       "Q 30.03125 56 36.53125 56 \r\n",
       "Q 37.453125 56 38.578125 55.875 \r\n",
       "Q 39.703125 55.765625 41.0625 55.515625 \r\n",
       "z\r\n",
       "\" id=\"DejaVuSans-114\"/>\r\n",
       "      <path d=\"M 30.609375 48.390625 \r\n",
       "Q 23.390625 48.390625 19.1875 42.75 \r\n",
       "Q 14.984375 37.109375 14.984375 27.296875 \r\n",
       "Q 14.984375 17.484375 19.15625 11.84375 \r\n",
       "Q 23.34375 6.203125 30.609375 6.203125 \r\n",
       "Q 37.796875 6.203125 41.984375 11.859375 \r\n",
       "Q 46.1875 17.53125 46.1875 27.296875 \r\n",
       "Q 46.1875 37.015625 41.984375 42.703125 \r\n",
       "Q 37.796875 48.390625 30.609375 48.390625 \r\n",
       "z\r\n",
       "M 30.609375 56 \r\n",
       "Q 42.328125 56 49.015625 48.375 \r\n",
       "Q 55.71875 40.765625 55.71875 27.296875 \r\n",
       "Q 55.71875 13.875 49.015625 6.21875 \r\n",
       "Q 42.328125 -1.421875 30.609375 -1.421875 \r\n",
       "Q 18.84375 -1.421875 12.171875 6.21875 \r\n",
       "Q 5.515625 13.875 5.515625 27.296875 \r\n",
       "Q 5.515625 40.765625 12.171875 48.375 \r\n",
       "Q 18.84375 56 30.609375 56 \r\n",
       "z\r\n",
       "\" id=\"DejaVuSans-111\"/>\r\n",
       "      <path d=\"M 8.5 21.578125 \r\n",
       "L 8.5 54.6875 \r\n",
       "L 17.484375 54.6875 \r\n",
       "L 17.484375 21.921875 \r\n",
       "Q 17.484375 14.15625 20.5 10.265625 \r\n",
       "Q 23.53125 6.390625 29.59375 6.390625 \r\n",
       "Q 36.859375 6.390625 41.078125 11.03125 \r\n",
       "Q 45.3125 15.671875 45.3125 23.6875 \r\n",
       "L 45.3125 54.6875 \r\n",
       "L 54.296875 54.6875 \r\n",
       "L 54.296875 0 \r\n",
       "L 45.3125 0 \r\n",
       "L 45.3125 8.40625 \r\n",
       "Q 42.046875 3.421875 37.71875 1 \r\n",
       "Q 33.40625 -1.421875 27.6875 -1.421875 \r\n",
       "Q 18.265625 -1.421875 13.375 4.4375 \r\n",
       "Q 8.5 10.296875 8.5 21.578125 \r\n",
       "z\r\n",
       "M 31.109375 56 \r\n",
       "z\r\n",
       "\" id=\"DejaVuSans-117\"/>\r\n",
       "      <path d=\"M 18.109375 8.203125 \r\n",
       "L 18.109375 -20.796875 \r\n",
       "L 9.078125 -20.796875 \r\n",
       "L 9.078125 54.6875 \r\n",
       "L 18.109375 54.6875 \r\n",
       "L 18.109375 46.390625 \r\n",
       "Q 20.953125 51.265625 25.265625 53.625 \r\n",
       "Q 29.59375 56 35.59375 56 \r\n",
       "Q 45.5625 56 51.78125 48.09375 \r\n",
       "Q 58.015625 40.1875 58.015625 27.296875 \r\n",
       "Q 58.015625 14.40625 51.78125 6.484375 \r\n",
       "Q 45.5625 -1.421875 35.59375 -1.421875 \r\n",
       "Q 29.59375 -1.421875 25.265625 0.953125 \r\n",
       "Q 20.953125 3.328125 18.109375 8.203125 \r\n",
       "z\r\n",
       "M 48.6875 27.296875 \r\n",
       "Q 48.6875 37.203125 44.609375 42.84375 \r\n",
       "Q 40.53125 48.484375 33.40625 48.484375 \r\n",
       "Q 26.265625 48.484375 22.1875 42.84375 \r\n",
       "Q 18.109375 37.203125 18.109375 27.296875 \r\n",
       "Q 18.109375 17.390625 22.1875 11.75 \r\n",
       "Q 26.265625 6.109375 33.40625 6.109375 \r\n",
       "Q 40.53125 6.109375 44.609375 11.75 \r\n",
       "Q 48.6875 17.390625 48.6875 27.296875 \r\n",
       "z\r\n",
       "\" id=\"DejaVuSans-112\"/>\r\n",
       "      <path d=\"M 44.28125 53.078125 \r\n",
       "L 44.28125 44.578125 \r\n",
       "Q 40.484375 46.53125 36.375 47.5 \r\n",
       "Q 32.28125 48.484375 27.875 48.484375 \r\n",
       "Q 21.1875 48.484375 17.84375 46.4375 \r\n",
       "Q 14.5 44.390625 14.5 40.28125 \r\n",
       "Q 14.5 37.15625 16.890625 35.375 \r\n",
       "Q 19.28125 33.59375 26.515625 31.984375 \r\n",
       "L 29.59375 31.296875 \r\n",
       "Q 39.15625 29.25 43.1875 25.515625 \r\n",
       "Q 47.21875 21.78125 47.21875 15.09375 \r\n",
       "Q 47.21875 7.46875 41.1875 3.015625 \r\n",
       "Q 35.15625 -1.421875 24.609375 -1.421875 \r\n",
       "Q 20.21875 -1.421875 15.453125 -0.5625 \r\n",
       "Q 10.6875 0.296875 5.421875 2 \r\n",
       "L 5.421875 11.28125 \r\n",
       "Q 10.40625 8.6875 15.234375 7.390625 \r\n",
       "Q 20.0625 6.109375 24.8125 6.109375 \r\n",
       "Q 31.15625 6.109375 34.5625 8.28125 \r\n",
       "Q 37.984375 10.453125 37.984375 14.40625 \r\n",
       "Q 37.984375 18.0625 35.515625 20.015625 \r\n",
       "Q 33.0625 21.96875 24.703125 23.78125 \r\n",
       "L 21.578125 24.515625 \r\n",
       "Q 13.234375 26.265625 9.515625 29.90625 \r\n",
       "Q 5.8125 33.546875 5.8125 39.890625 \r\n",
       "Q 5.8125 47.609375 11.28125 51.796875 \r\n",
       "Q 16.75 56 26.8125 56 \r\n",
       "Q 31.78125 56 36.171875 55.265625 \r\n",
       "Q 40.578125 54.546875 44.28125 53.078125 \r\n",
       "z\r\n",
       "\" id=\"DejaVuSans-115\"/>\r\n",
       "      <path id=\"DejaVuSans-32\"/>\r\n",
       "      <path d=\"M 37.109375 75.984375 \r\n",
       "L 37.109375 68.5 \r\n",
       "L 28.515625 68.5 \r\n",
       "Q 23.6875 68.5 21.796875 66.546875 \r\n",
       "Q 19.921875 64.59375 19.921875 59.515625 \r\n",
       "L 19.921875 54.6875 \r\n",
       "L 34.71875 54.6875 \r\n",
       "L 34.71875 47.703125 \r\n",
       "L 19.921875 47.703125 \r\n",
       "L 19.921875 0 \r\n",
       "L 10.890625 0 \r\n",
       "L 10.890625 47.703125 \r\n",
       "L 2.296875 47.703125 \r\n",
       "L 2.296875 54.6875 \r\n",
       "L 10.890625 54.6875 \r\n",
       "L 10.890625 58.5 \r\n",
       "Q 10.890625 67.625 15.140625 71.796875 \r\n",
       "Q 19.390625 75.984375 28.609375 75.984375 \r\n",
       "z\r\n",
       "\" id=\"DejaVuSans-102\"/>\r\n",
       "      <path d=\"M 56.203125 29.59375 \r\n",
       "L 56.203125 25.203125 \r\n",
       "L 14.890625 25.203125 \r\n",
       "Q 15.484375 15.921875 20.484375 11.0625 \r\n",
       "Q 25.484375 6.203125 34.421875 6.203125 \r\n",
       "Q 39.59375 6.203125 44.453125 7.46875 \r\n",
       "Q 49.3125 8.734375 54.109375 11.28125 \r\n",
       "L 54.109375 2.78125 \r\n",
       "Q 49.265625 0.734375 44.1875 -0.34375 \r\n",
       "Q 39.109375 -1.421875 33.890625 -1.421875 \r\n",
       "Q 20.796875 -1.421875 13.15625 6.1875 \r\n",
       "Q 5.515625 13.8125 5.515625 26.8125 \r\n",
       "Q 5.515625 40.234375 12.765625 48.109375 \r\n",
       "Q 20.015625 56 32.328125 56 \r\n",
       "Q 43.359375 56 49.78125 48.890625 \r\n",
       "Q 56.203125 41.796875 56.203125 29.59375 \r\n",
       "z\r\n",
       "M 47.21875 32.234375 \r\n",
       "Q 47.125 39.59375 43.09375 43.984375 \r\n",
       "Q 39.0625 48.390625 32.421875 48.390625 \r\n",
       "Q 24.90625 48.390625 20.390625 44.140625 \r\n",
       "Q 15.875 39.890625 15.1875 32.171875 \r\n",
       "z\r\n",
       "\" id=\"DejaVuSans-101\"/>\r\n",
       "      <path d=\"M 54.890625 54.6875 \r\n",
       "L 35.109375 28.078125 \r\n",
       "L 55.90625 0 \r\n",
       "L 45.3125 0 \r\n",
       "L 29.390625 21.484375 \r\n",
       "L 13.484375 0 \r\n",
       "L 2.875 0 \r\n",
       "L 24.125 28.609375 \r\n",
       "L 4.6875 54.6875 \r\n",
       "L 15.28125 54.6875 \r\n",
       "L 29.78125 35.203125 \r\n",
       "L 44.28125 54.6875 \r\n",
       "z\r\n",
       "\" id=\"DejaVuSans-120\"/>\r\n",
       "      <path d=\"M 9.421875 54.6875 \r\n",
       "L 18.40625 54.6875 \r\n",
       "L 18.40625 0 \r\n",
       "L 9.421875 0 \r\n",
       "z\r\n",
       "M 9.421875 75.984375 \r\n",
       "L 18.40625 75.984375 \r\n",
       "L 18.40625 64.59375 \r\n",
       "L 9.421875 64.59375 \r\n",
       "z\r\n",
       "\" id=\"DejaVuSans-105\"/>\r\n",
       "      <path d=\"M 52 44.1875 \r\n",
       "Q 55.375 50.25 60.0625 53.125 \r\n",
       "Q 64.75 56 71.09375 56 \r\n",
       "Q 79.640625 56 84.28125 50.015625 \r\n",
       "Q 88.921875 44.046875 88.921875 33.015625 \r\n",
       "L 88.921875 0 \r\n",
       "L 79.890625 0 \r\n",
       "L 79.890625 32.71875 \r\n",
       "Q 79.890625 40.578125 77.09375 44.375 \r\n",
       "Q 74.3125 48.1875 68.609375 48.1875 \r\n",
       "Q 61.625 48.1875 57.5625 43.546875 \r\n",
       "Q 53.515625 38.921875 53.515625 30.90625 \r\n",
       "L 53.515625 0 \r\n",
       "L 44.484375 0 \r\n",
       "L 44.484375 32.71875 \r\n",
       "Q 44.484375 40.625 41.703125 44.40625 \r\n",
       "Q 38.921875 48.1875 33.109375 48.1875 \r\n",
       "Q 26.21875 48.1875 22.15625 43.53125 \r\n",
       "Q 18.109375 38.875 18.109375 30.90625 \r\n",
       "L 18.109375 0 \r\n",
       "L 9.078125 0 \r\n",
       "L 9.078125 54.6875 \r\n",
       "L 18.109375 54.6875 \r\n",
       "L 18.109375 46.1875 \r\n",
       "Q 21.1875 51.21875 25.484375 53.609375 \r\n",
       "Q 29.78125 56 35.6875 56 \r\n",
       "Q 41.65625 56 45.828125 52.96875 \r\n",
       "Q 50 49.953125 52 44.1875 \r\n",
       "z\r\n",
       "\" id=\"DejaVuSans-109\"/>\r\n",
       "      <path d=\"M 54.890625 33.015625 \r\n",
       "L 54.890625 0 \r\n",
       "L 45.90625 0 \r\n",
       "L 45.90625 32.71875 \r\n",
       "Q 45.90625 40.484375 42.875 44.328125 \r\n",
       "Q 39.84375 48.1875 33.796875 48.1875 \r\n",
       "Q 26.515625 48.1875 22.3125 43.546875 \r\n",
       "Q 18.109375 38.921875 18.109375 30.90625 \r\n",
       "L 18.109375 0 \r\n",
       "L 9.078125 0 \r\n",
       "L 9.078125 54.6875 \r\n",
       "L 18.109375 54.6875 \r\n",
       "L 18.109375 46.1875 \r\n",
       "Q 21.34375 51.125 25.703125 53.5625 \r\n",
       "Q 30.078125 56 35.796875 56 \r\n",
       "Q 45.21875 56 50.046875 50.171875 \r\n",
       "Q 54.890625 44.34375 54.890625 33.015625 \r\n",
       "z\r\n",
       "\" id=\"DejaVuSans-110\"/>\r\n",
       "      <path d=\"M 18.3125 70.21875 \r\n",
       "L 18.3125 54.6875 \r\n",
       "L 36.8125 54.6875 \r\n",
       "L 36.8125 47.703125 \r\n",
       "L 18.3125 47.703125 \r\n",
       "L 18.3125 18.015625 \r\n",
       "Q 18.3125 11.328125 20.140625 9.421875 \r\n",
       "Q 21.96875 7.515625 27.59375 7.515625 \r\n",
       "L 36.8125 7.515625 \r\n",
       "L 36.8125 0 \r\n",
       "L 27.59375 0 \r\n",
       "Q 17.1875 0 13.234375 3.875 \r\n",
       "Q 9.28125 7.765625 9.28125 18.015625 \r\n",
       "L 9.28125 47.703125 \r\n",
       "L 2.6875 47.703125 \r\n",
       "L 2.6875 54.6875 \r\n",
       "L 9.28125 54.6875 \r\n",
       "L 9.28125 70.21875 \r\n",
       "z\r\n",
       "\" id=\"DejaVuSans-116\"/>\r\n",
       "     </defs>\r\n",
       "     <g transform=\"translate(160.397656 280.096562)scale(0.1 -0.1)\">\r\n",
       "      <use xlink:href=\"#DejaVuSans-71\"/>\r\n",
       "      <use x=\"77.490234\" xlink:href=\"#DejaVuSans-114\"/>\r\n",
       "      <use x=\"116.353516\" xlink:href=\"#DejaVuSans-111\"/>\r\n",
       "      <use x=\"177.535156\" xlink:href=\"#DejaVuSans-117\"/>\r\n",
       "      <use x=\"240.914062\" xlink:href=\"#DejaVuSans-112\"/>\r\n",
       "      <use x=\"304.390625\" xlink:href=\"#DejaVuSans-115\"/>\r\n",
       "      <use x=\"356.490234\" xlink:href=\"#DejaVuSans-32\"/>\r\n",
       "      <use x=\"388.277344\" xlink:href=\"#DejaVuSans-111\"/>\r\n",
       "      <use x=\"449.458984\" xlink:href=\"#DejaVuSans-102\"/>\r\n",
       "      <use x=\"484.664062\" xlink:href=\"#DejaVuSans-32\"/>\r\n",
       "      <use x=\"516.451172\" xlink:href=\"#DejaVuSans-101\"/>\r\n",
       "      <use x=\"576.224609\" xlink:href=\"#DejaVuSans-120\"/>\r\n",
       "      <use x=\"635.404297\" xlink:href=\"#DejaVuSans-112\"/>\r\n",
       "      <use x=\"698.880859\" xlink:href=\"#DejaVuSans-101\"/>\r\n",
       "      <use x=\"760.404297\" xlink:href=\"#DejaVuSans-114\"/>\r\n",
       "      <use x=\"801.517578\" xlink:href=\"#DejaVuSans-105\"/>\r\n",
       "      <use x=\"829.300781\" xlink:href=\"#DejaVuSans-109\"/>\r\n",
       "      <use x=\"926.712891\" xlink:href=\"#DejaVuSans-101\"/>\r\n",
       "      <use x=\"988.236328\" xlink:href=\"#DejaVuSans-110\"/>\r\n",
       "      <use x=\"1051.615234\" xlink:href=\"#DejaVuSans-116\"/>\r\n",
       "      <use x=\"1090.824219\" xlink:href=\"#DejaVuSans-115\"/>\r\n",
       "     </g>\r\n",
       "    </g>\r\n",
       "   </g>\r\n",
       "   <g id=\"matplotlib.axis_2\">\r\n",
       "    <g id=\"ytick_1\">\r\n",
       "     <g id=\"line2d_7\">\r\n",
       "      <defs>\r\n",
       "       <path d=\"M 0 0 \r\n",
       "L -3.5 0 \r\n",
       "\" id=\"m9a4a8f4395\" style=\"stroke:#000000;stroke-width:0.8;\"/>\r\n",
       "      </defs>\r\n",
       "      <g>\r\n",
       "       <use style=\"stroke:#000000;stroke-width:0.8;\" x=\"50.14375\" xlink:href=\"#m9a4a8f4395\" y=\"240.700909\"/>\r\n",
       "      </g>\r\n",
       "     </g>\r\n",
       "     <g id=\"text_8\">\r\n",
       "      <!-- 0.00 -->\r\n",
       "      <defs>\r\n",
       "       <path d=\"M 10.6875 12.40625 \r\n",
       "L 21 12.40625 \r\n",
       "L 21 0 \r\n",
       "L 10.6875 0 \r\n",
       "z\r\n",
       "\" id=\"DejaVuSans-46\"/>\r\n",
       "      </defs>\r\n",
       "      <g transform=\"translate(20.878125 244.500128)scale(0.1 -0.1)\">\r\n",
       "       <use xlink:href=\"#DejaVuSans-48\"/>\r\n",
       "       <use x=\"63.623047\" xlink:href=\"#DejaVuSans-46\"/>\r\n",
       "       <use x=\"95.410156\" xlink:href=\"#DejaVuSans-48\"/>\r\n",
       "       <use x=\"159.033203\" xlink:href=\"#DejaVuSans-48\"/>\r\n",
       "      </g>\r\n",
       "     </g>\r\n",
       "    </g>\r\n",
       "    <g id=\"ytick_2\">\r\n",
       "     <g id=\"line2d_8\">\r\n",
       "      <g>\r\n",
       "       <use style=\"stroke:#000000;stroke-width:0.8;\" x=\"50.14375\" xlink:href=\"#m9a4a8f4395\" y=\"212.903182\"/>\r\n",
       "      </g>\r\n",
       "     </g>\r\n",
       "     <g id=\"text_9\">\r\n",
       "      <!-- 0.05 -->\r\n",
       "      <g transform=\"translate(20.878125 216.702401)scale(0.1 -0.1)\">\r\n",
       "       <use xlink:href=\"#DejaVuSans-48\"/>\r\n",
       "       <use x=\"63.623047\" xlink:href=\"#DejaVuSans-46\"/>\r\n",
       "       <use x=\"95.410156\" xlink:href=\"#DejaVuSans-48\"/>\r\n",
       "       <use x=\"159.033203\" xlink:href=\"#DejaVuSans-53\"/>\r\n",
       "      </g>\r\n",
       "     </g>\r\n",
       "    </g>\r\n",
       "    <g id=\"ytick_3\">\r\n",
       "     <g id=\"line2d_9\">\r\n",
       "      <g>\r\n",
       "       <use style=\"stroke:#000000;stroke-width:0.8;\" x=\"50.14375\" xlink:href=\"#m9a4a8f4395\" y=\"185.105455\"/>\r\n",
       "      </g>\r\n",
       "     </g>\r\n",
       "     <g id=\"text_10\">\r\n",
       "      <!-- 0.10 -->\r\n",
       "      <g transform=\"translate(20.878125 188.904674)scale(0.1 -0.1)\">\r\n",
       "       <use xlink:href=\"#DejaVuSans-48\"/>\r\n",
       "       <use x=\"63.623047\" xlink:href=\"#DejaVuSans-46\"/>\r\n",
       "       <use x=\"95.410156\" xlink:href=\"#DejaVuSans-49\"/>\r\n",
       "       <use x=\"159.033203\" xlink:href=\"#DejaVuSans-48\"/>\r\n",
       "      </g>\r\n",
       "     </g>\r\n",
       "    </g>\r\n",
       "    <g id=\"ytick_4\">\r\n",
       "     <g id=\"line2d_10\">\r\n",
       "      <g>\r\n",
       "       <use style=\"stroke:#000000;stroke-width:0.8;\" x=\"50.14375\" xlink:href=\"#m9a4a8f4395\" y=\"157.307729\"/>\r\n",
       "      </g>\r\n",
       "     </g>\r\n",
       "     <g id=\"text_11\">\r\n",
       "      <!-- 0.15 -->\r\n",
       "      <g transform=\"translate(20.878125 161.106947)scale(0.1 -0.1)\">\r\n",
       "       <use xlink:href=\"#DejaVuSans-48\"/>\r\n",
       "       <use x=\"63.623047\" xlink:href=\"#DejaVuSans-46\"/>\r\n",
       "       <use x=\"95.410156\" xlink:href=\"#DejaVuSans-49\"/>\r\n",
       "       <use x=\"159.033203\" xlink:href=\"#DejaVuSans-53\"/>\r\n",
       "      </g>\r\n",
       "     </g>\r\n",
       "    </g>\r\n",
       "    <g id=\"ytick_5\">\r\n",
       "     <g id=\"line2d_11\">\r\n",
       "      <g>\r\n",
       "       <use style=\"stroke:#000000;stroke-width:0.8;\" x=\"50.14375\" xlink:href=\"#m9a4a8f4395\" y=\"129.510002\"/>\r\n",
       "      </g>\r\n",
       "     </g>\r\n",
       "     <g id=\"text_12\">\r\n",
       "      <!-- 0.20 -->\r\n",
       "      <g transform=\"translate(20.878125 133.30922)scale(0.1 -0.1)\">\r\n",
       "       <use xlink:href=\"#DejaVuSans-48\"/>\r\n",
       "       <use x=\"63.623047\" xlink:href=\"#DejaVuSans-46\"/>\r\n",
       "       <use x=\"95.410156\" xlink:href=\"#DejaVuSans-50\"/>\r\n",
       "       <use x=\"159.033203\" xlink:href=\"#DejaVuSans-48\"/>\r\n",
       "      </g>\r\n",
       "     </g>\r\n",
       "    </g>\r\n",
       "    <g id=\"ytick_6\">\r\n",
       "     <g id=\"line2d_12\">\r\n",
       "      <g>\r\n",
       "       <use style=\"stroke:#000000;stroke-width:0.8;\" x=\"50.14375\" xlink:href=\"#m9a4a8f4395\" y=\"101.712275\"/>\r\n",
       "      </g>\r\n",
       "     </g>\r\n",
       "     <g id=\"text_13\">\r\n",
       "      <!-- 0.25 -->\r\n",
       "      <g transform=\"translate(20.878125 105.511494)scale(0.1 -0.1)\">\r\n",
       "       <use xlink:href=\"#DejaVuSans-48\"/>\r\n",
       "       <use x=\"63.623047\" xlink:href=\"#DejaVuSans-46\"/>\r\n",
       "       <use x=\"95.410156\" xlink:href=\"#DejaVuSans-50\"/>\r\n",
       "       <use x=\"159.033203\" xlink:href=\"#DejaVuSans-53\"/>\r\n",
       "      </g>\r\n",
       "     </g>\r\n",
       "    </g>\r\n",
       "    <g id=\"ytick_7\">\r\n",
       "     <g id=\"line2d_13\">\r\n",
       "      <g>\r\n",
       "       <use style=\"stroke:#000000;stroke-width:0.8;\" x=\"50.14375\" xlink:href=\"#m9a4a8f4395\" y=\"73.914548\"/>\r\n",
       "      </g>\r\n",
       "     </g>\r\n",
       "     <g id=\"text_14\">\r\n",
       "      <!-- 0.30 -->\r\n",
       "      <g transform=\"translate(20.878125 77.713767)scale(0.1 -0.1)\">\r\n",
       "       <use xlink:href=\"#DejaVuSans-48\"/>\r\n",
       "       <use x=\"63.623047\" xlink:href=\"#DejaVuSans-46\"/>\r\n",
       "       <use x=\"95.410156\" xlink:href=\"#DejaVuSans-51\"/>\r\n",
       "       <use x=\"159.033203\" xlink:href=\"#DejaVuSans-48\"/>\r\n",
       "      </g>\r\n",
       "     </g>\r\n",
       "    </g>\r\n",
       "    <g id=\"ytick_8\">\r\n",
       "     <g id=\"line2d_14\">\r\n",
       "      <g>\r\n",
       "       <use style=\"stroke:#000000;stroke-width:0.8;\" x=\"50.14375\" xlink:href=\"#m9a4a8f4395\" y=\"46.116821\"/>\r\n",
       "      </g>\r\n",
       "     </g>\r\n",
       "     <g id=\"text_15\">\r\n",
       "      <!-- 0.35 -->\r\n",
       "      <g transform=\"translate(20.878125 49.91604)scale(0.1 -0.1)\">\r\n",
       "       <use xlink:href=\"#DejaVuSans-48\"/>\r\n",
       "       <use x=\"63.623047\" xlink:href=\"#DejaVuSans-46\"/>\r\n",
       "       <use x=\"95.410156\" xlink:href=\"#DejaVuSans-51\"/>\r\n",
       "       <use x=\"159.033203\" xlink:href=\"#DejaVuSans-53\"/>\r\n",
       "      </g>\r\n",
       "     </g>\r\n",
       "    </g>\r\n",
       "    <g id=\"ytick_9\">\r\n",
       "     <g id=\"line2d_15\">\r\n",
       "      <g>\r\n",
       "       <use style=\"stroke:#000000;stroke-width:0.8;\" x=\"50.14375\" xlink:href=\"#m9a4a8f4395\" y=\"18.319094\"/>\r\n",
       "      </g>\r\n",
       "     </g>\r\n",
       "     <g id=\"text_16\">\r\n",
       "      <!-- 0.40 -->\r\n",
       "      <g transform=\"translate(20.878125 22.118313)scale(0.1 -0.1)\">\r\n",
       "       <use xlink:href=\"#DejaVuSans-48\"/>\r\n",
       "       <use x=\"63.623047\" xlink:href=\"#DejaVuSans-46\"/>\r\n",
       "       <use x=\"95.410156\" xlink:href=\"#DejaVuSans-52\"/>\r\n",
       "       <use x=\"159.033203\" xlink:href=\"#DejaVuSans-48\"/>\r\n",
       "      </g>\r\n",
       "     </g>\r\n",
       "    </g>\r\n",
       "    <g id=\"text_17\">\r\n",
       "     <!-- Estimated probability -->\r\n",
       "     <defs>\r\n",
       "      <path d=\"M 9.8125 72.90625 \r\n",
       "L 55.90625 72.90625 \r\n",
       "L 55.90625 64.59375 \r\n",
       "L 19.671875 64.59375 \r\n",
       "L 19.671875 43.015625 \r\n",
       "L 54.390625 43.015625 \r\n",
       "L 54.390625 34.71875 \r\n",
       "L 19.671875 34.71875 \r\n",
       "L 19.671875 8.296875 \r\n",
       "L 56.78125 8.296875 \r\n",
       "L 56.78125 0 \r\n",
       "L 9.8125 0 \r\n",
       "z\r\n",
       "\" id=\"DejaVuSans-69\"/>\r\n",
       "      <path d=\"M 34.28125 27.484375 \r\n",
       "Q 23.390625 27.484375 19.1875 25 \r\n",
       "Q 14.984375 22.515625 14.984375 16.5 \r\n",
       "Q 14.984375 11.71875 18.140625 8.90625 \r\n",
       "Q 21.296875 6.109375 26.703125 6.109375 \r\n",
       "Q 34.1875 6.109375 38.703125 11.40625 \r\n",
       "Q 43.21875 16.703125 43.21875 25.484375 \r\n",
       "L 43.21875 27.484375 \r\n",
       "z\r\n",
       "M 52.203125 31.203125 \r\n",
       "L 52.203125 0 \r\n",
       "L 43.21875 0 \r\n",
       "L 43.21875 8.296875 \r\n",
       "Q 40.140625 3.328125 35.546875 0.953125 \r\n",
       "Q 30.953125 -1.421875 24.3125 -1.421875 \r\n",
       "Q 15.921875 -1.421875 10.953125 3.296875 \r\n",
       "Q 6 8.015625 6 15.921875 \r\n",
       "Q 6 25.140625 12.171875 29.828125 \r\n",
       "Q 18.359375 34.515625 30.609375 34.515625 \r\n",
       "L 43.21875 34.515625 \r\n",
       "L 43.21875 35.40625 \r\n",
       "Q 43.21875 41.609375 39.140625 45 \r\n",
       "Q 35.0625 48.390625 27.6875 48.390625 \r\n",
       "Q 23 48.390625 18.546875 47.265625 \r\n",
       "Q 14.109375 46.140625 10.015625 43.890625 \r\n",
       "L 10.015625 52.203125 \r\n",
       "Q 14.9375 54.109375 19.578125 55.046875 \r\n",
       "Q 24.21875 56 28.609375 56 \r\n",
       "Q 40.484375 56 46.34375 49.84375 \r\n",
       "Q 52.203125 43.703125 52.203125 31.203125 \r\n",
       "z\r\n",
       "\" id=\"DejaVuSans-97\"/>\r\n",
       "      <path d=\"M 45.40625 46.390625 \r\n",
       "L 45.40625 75.984375 \r\n",
       "L 54.390625 75.984375 \r\n",
       "L 54.390625 0 \r\n",
       "L 45.40625 0 \r\n",
       "L 45.40625 8.203125 \r\n",
       "Q 42.578125 3.328125 38.25 0.953125 \r\n",
       "Q 33.9375 -1.421875 27.875 -1.421875 \r\n",
       "Q 17.96875 -1.421875 11.734375 6.484375 \r\n",
       "Q 5.515625 14.40625 5.515625 27.296875 \r\n",
       "Q 5.515625 40.1875 11.734375 48.09375 \r\n",
       "Q 17.96875 56 27.875 56 \r\n",
       "Q 33.9375 56 38.25 53.625 \r\n",
       "Q 42.578125 51.265625 45.40625 46.390625 \r\n",
       "z\r\n",
       "M 14.796875 27.296875 \r\n",
       "Q 14.796875 17.390625 18.875 11.75 \r\n",
       "Q 22.953125 6.109375 30.078125 6.109375 \r\n",
       "Q 37.203125 6.109375 41.296875 11.75 \r\n",
       "Q 45.40625 17.390625 45.40625 27.296875 \r\n",
       "Q 45.40625 37.203125 41.296875 42.84375 \r\n",
       "Q 37.203125 48.484375 30.078125 48.484375 \r\n",
       "Q 22.953125 48.484375 18.875 42.84375 \r\n",
       "Q 14.796875 37.203125 14.796875 27.296875 \r\n",
       "z\r\n",
       "\" id=\"DejaVuSans-100\"/>\r\n",
       "      <path d=\"M 48.6875 27.296875 \r\n",
       "Q 48.6875 37.203125 44.609375 42.84375 \r\n",
       "Q 40.53125 48.484375 33.40625 48.484375 \r\n",
       "Q 26.265625 48.484375 22.1875 42.84375 \r\n",
       "Q 18.109375 37.203125 18.109375 27.296875 \r\n",
       "Q 18.109375 17.390625 22.1875 11.75 \r\n",
       "Q 26.265625 6.109375 33.40625 6.109375 \r\n",
       "Q 40.53125 6.109375 44.609375 11.75 \r\n",
       "Q 48.6875 17.390625 48.6875 27.296875 \r\n",
       "z\r\n",
       "M 18.109375 46.390625 \r\n",
       "Q 20.953125 51.265625 25.265625 53.625 \r\n",
       "Q 29.59375 56 35.59375 56 \r\n",
       "Q 45.5625 56 51.78125 48.09375 \r\n",
       "Q 58.015625 40.1875 58.015625 27.296875 \r\n",
       "Q 58.015625 14.40625 51.78125 6.484375 \r\n",
       "Q 45.5625 -1.421875 35.59375 -1.421875 \r\n",
       "Q 29.59375 -1.421875 25.265625 0.953125 \r\n",
       "Q 20.953125 3.328125 18.109375 8.203125 \r\n",
       "L 18.109375 0 \r\n",
       "L 9.078125 0 \r\n",
       "L 9.078125 75.984375 \r\n",
       "L 18.109375 75.984375 \r\n",
       "z\r\n",
       "\" id=\"DejaVuSans-98\"/>\r\n",
       "      <path d=\"M 9.421875 75.984375 \r\n",
       "L 18.40625 75.984375 \r\n",
       "L 18.40625 0 \r\n",
       "L 9.421875 0 \r\n",
       "z\r\n",
       "\" id=\"DejaVuSans-108\"/>\r\n",
       "      <path d=\"M 32.171875 -5.078125 \r\n",
       "Q 28.375 -14.84375 24.75 -17.8125 \r\n",
       "Q 21.140625 -20.796875 15.09375 -20.796875 \r\n",
       "L 7.90625 -20.796875 \r\n",
       "L 7.90625 -13.28125 \r\n",
       "L 13.1875 -13.28125 \r\n",
       "Q 16.890625 -13.28125 18.9375 -11.515625 \r\n",
       "Q 21 -9.765625 23.484375 -3.21875 \r\n",
       "L 25.09375 0.875 \r\n",
       "L 2.984375 54.6875 \r\n",
       "L 12.5 54.6875 \r\n",
       "L 29.59375 11.921875 \r\n",
       "L 46.6875 54.6875 \r\n",
       "L 56.203125 54.6875 \r\n",
       "z\r\n",
       "\" id=\"DejaVuSans-121\"/>\r\n",
       "     </defs>\r\n",
       "     <g transform=\"translate(14.798438 183.033437)rotate(-90)scale(0.1 -0.1)\">\r\n",
       "      <use xlink:href=\"#DejaVuSans-69\"/>\r\n",
       "      <use x=\"63.183594\" xlink:href=\"#DejaVuSans-115\"/>\r\n",
       "      <use x=\"115.283203\" xlink:href=\"#DejaVuSans-116\"/>\r\n",
       "      <use x=\"154.492188\" xlink:href=\"#DejaVuSans-105\"/>\r\n",
       "      <use x=\"182.275391\" xlink:href=\"#DejaVuSans-109\"/>\r\n",
       "      <use x=\"279.6875\" xlink:href=\"#DejaVuSans-97\"/>\r\n",
       "      <use x=\"340.966797\" xlink:href=\"#DejaVuSans-116\"/>\r\n",
       "      <use x=\"380.175781\" xlink:href=\"#DejaVuSans-101\"/>\r\n",
       "      <use x=\"441.699219\" xlink:href=\"#DejaVuSans-100\"/>\r\n",
       "      <use x=\"505.175781\" xlink:href=\"#DejaVuSans-32\"/>\r\n",
       "      <use x=\"536.962891\" xlink:href=\"#DejaVuSans-112\"/>\r\n",
       "      <use x=\"600.439453\" xlink:href=\"#DejaVuSans-114\"/>\r\n",
       "      <use x=\"639.302734\" xlink:href=\"#DejaVuSans-111\"/>\r\n",
       "      <use x=\"700.484375\" xlink:href=\"#DejaVuSans-98\"/>\r\n",
       "      <use x=\"763.960938\" xlink:href=\"#DejaVuSans-97\"/>\r\n",
       "      <use x=\"825.240234\" xlink:href=\"#DejaVuSans-98\"/>\r\n",
       "      <use x=\"888.716797\" xlink:href=\"#DejaVuSans-105\"/>\r\n",
       "      <use x=\"916.5\" xlink:href=\"#DejaVuSans-108\"/>\r\n",
       "      <use x=\"944.283203\" xlink:href=\"#DejaVuSans-105\"/>\r\n",
       "      <use x=\"972.066406\" xlink:href=\"#DejaVuSans-116\"/>\r\n",
       "      <use x=\"1011.275391\" xlink:href=\"#DejaVuSans-121\"/>\r\n",
       "     </g>\r\n",
       "    </g>\r\n",
       "   </g>\r\n",
       "   <g id=\"line2d_16\">\r\n",
       "    <path clip-path=\"url(#p84dca810d5)\" d=\"M 65.361932 185.105455 \r\n",
       "L 65.971879 212.903182 \r\n",
       "L 66.581826 222.16909 \r\n",
       "L 67.191773 185.105455 \r\n",
       "L 67.80172 196.224547 \r\n",
       "L 68.411668 194.371363 \r\n",
       "L 69.021615 200.989869 \r\n",
       "L 69.631562 192.054888 \r\n",
       "L 70.241509 185.105455 \r\n",
       "L 70.851456 179.54591 \r\n",
       "L 71.461403 180.051323 \r\n",
       "L 72.071351 185.105455 \r\n",
       "L 73.291245 185.105455 \r\n",
       "L 73.901192 188.811819 \r\n",
       "L 74.511139 181.630738 \r\n",
       "L 75.121086 172.024172 \r\n",
       "L 75.731034 172.75091 \r\n",
       "L 76.340981 170.475074 \r\n",
       "L 76.950928 171.206592 \r\n",
       "L 77.560875 169.221036 \r\n",
       "L 78.170822 169.94306 \r\n",
       "L 78.780769 168.185101 \r\n",
       "L 79.390717 168.890117 \r\n",
       "L 80.610611 165.860871 \r\n",
       "L 81.220558 164.514546 \r\n",
       "L 81.830505 167.235488 \r\n",
       "L 82.440452 165.934611 \r\n",
       "L 83.0504 162.867274 \r\n",
       "L 83.660347 165.378034 \r\n",
       "L 84.270294 162.519802 \r\n",
       "L 84.880241 163.204215 \r\n",
       "L 85.490188 158.942886 \r\n",
       "L 86.100135 159.690392 \r\n",
       "L 86.710083 154.219089 \r\n",
       "L 87.32003 152.048701 \r\n",
       "L 88.539924 153.743914 \r\n",
       "L 89.759819 152.561776 \r\n",
       "L 90.369766 150.689219 \r\n",
       "L 92.199607 152.983641 \r\n",
       "L 92.809554 151.264743 \r\n",
       "L 94.029449 150.3583 \r\n",
       "L 94.639396 152.202028 \r\n",
       "L 95.249343 150.636274 \r\n",
       "L 95.85929 151.312137 \r\n",
       "L 96.469237 153.031152 \r\n",
       "L 97.079185 151.538392 \r\n",
       "L 97.689132 152.160001 \r\n",
       "L 98.299079 151.748185 \r\n",
       "L 98.909026 152.343848 \r\n",
       "L 99.518973 151.943257 \r\n",
       "L 100.12892 152.515019 \r\n",
       "L 101.348815 151.748185 \r\n",
       "L 101.958762 152.29502 \r\n",
       "L 102.568709 149.237417 \r\n",
       "L 103.178656 148.924284 \r\n",
       "L 103.788603 150.3583 \r\n",
       "L 104.398551 150.892866 \r\n",
       "L 105.008498 150.568889 \r\n",
       "L 105.618445 149.424793 \r\n",
       "L 106.838339 150.459013 \r\n",
       "L 107.448286 149.365518 \r\n",
       "L 108.058234 149.868901 \r\n",
       "L 109.278128 149.311123 \r\n",
       "L 109.888075 146.789668 \r\n",
       "L 110.498022 146.559271 \r\n",
       "L 111.107969 147.066457 \r\n",
       "L 112.327864 145.190768 \r\n",
       "L 112.937811 146.399756 \r\n",
       "L 113.547758 146.883579 \r\n",
       "L 114.767652 149.171805 \r\n",
       "L 115.3776 148.934921 \r\n",
       "L 115.987547 150.027373 \r\n",
       "L 117.817388 149.319879 \r\n",
       "L 118.427335 147.831228 \r\n",
       "L 119.037283 148.250044 \r\n",
       "L 119.64723 148.041817 \r\n",
       "L 120.257177 147.227231 \r\n",
       "L 120.867124 147.034653 \r\n",
       "L 121.477071 145.052817 \r\n",
       "L 122.087018 145.478907 \r\n",
       "L 122.696966 144.725601 \r\n",
       "L 123.306913 145.146223 \r\n",
       "L 123.91686 146.131326 \r\n",
       "L 124.526807 146.529017 \r\n",
       "L 125.136754 146.357108 \r\n",
       "L 125.746701 145.632681 \r\n",
       "L 126.966596 143.136336 \r\n",
       "L 127.576543 143.543803 \r\n",
       "L 128.18649 142.874293 \r\n",
       "L 128.796437 142.747012 \r\n",
       "L 129.406384 143.671108 \r\n",
       "L 130.016332 143.538757 \r\n",
       "L 130.626279 143.923641 \r\n",
       "L 131.236226 144.811501 \r\n",
       "L 131.846173 143.661573 \r\n",
       "L 132.45612 144.034941 \r\n",
       "L 134.285962 143.652709 \r\n",
       "L 134.895909 144.496604 \r\n",
       "L 135.505856 144.36741 \r\n",
       "L 137.335698 145.394414 \r\n",
       "L 137.945645 145.262047 \r\n",
       "L 139.165539 143.181013 \r\n",
       "L 139.775486 143.521866 \r\n",
       "L 140.385433 143.408867 \r\n",
       "L 141.605328 144.070713 \r\n",
       "L 142.215275 143.956066 \r\n",
       "L 142.825222 144.277541 \r\n",
       "L 144.045116 144.05035 \r\n",
       "L 144.655064 144.363748 \r\n",
       "L 145.265011 143.830044 \r\n",
       "L 146.484905 144.446094 \r\n",
       "L 147.094852 143.923641 \r\n",
       "L 147.704799 143.000075 \r\n",
       "L 148.314747 143.307416 \r\n",
       "L 148.924694 143.207432 \r\n",
       "L 149.534641 141.90899 \r\n",
       "L 150.144588 141.423311 \r\n",
       "L 151.364482 142.821588 \r\n",
       "L 151.97443 142.339719 \r\n",
       "L 153.194324 142.162757 \r\n",
       "L 153.804271 142.456885 \r\n",
       "L 155.024165 143.784513 \r\n",
       "L 155.634113 143.688704 \r\n",
       "L 156.24406 144.335457 \r\n",
       "L 156.854007 144.23727 \r\n",
       "L 157.463954 144.506148 \r\n",
       "L 158.073901 145.134865 \r\n",
       "L 158.683848 144.672399 \r\n",
       "L 160.51369 145.445007 \r\n",
       "L 161.123637 144.992283 \r\n",
       "L 161.733584 145.594225 \r\n",
       "L 162.343531 145.493694 \r\n",
       "L 162.953479 145.049105 \r\n",
       "L 163.563426 145.639549 \r\n",
       "L 164.78332 146.120838 \r\n",
       "L 165.393267 145.683224 \r\n",
       "L 166.003214 145.920704 \r\n",
       "L 167.833056 145.629392 \r\n",
       "L 169.662897 146.317931 \r\n",
       "L 170.272845 145.899413 \r\n",
       "L 170.882792 145.80522 \r\n",
       "L 171.492739 146.347481 \r\n",
       "L 172.102686 146.567696 \r\n",
       "L 172.712633 146.471324 \r\n",
       "L 173.32258 146.688375 \r\n",
       "L 174.542475 145.879771 \r\n",
       "L 175.152422 146.403649 \r\n",
       "L 176.372316 146.826616 \r\n",
       "L 176.982263 146.732506 \r\n",
       "L 177.592211 146.93993 \r\n",
       "L 178.202158 146.547317 \r\n",
       "L 179.422052 146.957509 \r\n",
       "L 181.251894 145.81024 \r\n",
       "L 182.471788 146.217442 \r\n",
       "L 183.081735 145.844744 \r\n",
       "L 184.301629 146.812665 \r\n",
       "L 185.521524 146.637898 \r\n",
       "L 186.131471 146.27245 \r\n",
       "L 187.351365 146.105661 \r\n",
       "L 187.961312 146.298728 \r\n",
       "L 188.57126 146.216025 \r\n",
       "L 189.181207 146.406656 \r\n",
       "L 190.401101 146.242618 \r\n",
       "L 191.011048 146.430358 \r\n",
       "L 191.620995 146.081727 \r\n",
       "L 192.230943 146.534443 \r\n",
       "L 192.84089 146.188637 \r\n",
       "L 193.450837 146.636564 \r\n",
       "L 194.060784 146.555775 \r\n",
       "L 194.670731 146.214741 \r\n",
       "L 195.280678 145.097511 \r\n",
       "L 195.890626 144.507846 \r\n",
       "L 196.500573 144.181028 \r\n",
       "L 197.720467 144.556475 \r\n",
       "L 198.330414 144.995497 \r\n",
       "L 198.940361 144.925105 \r\n",
       "L 199.550309 145.106914 \r\n",
       "L 200.160256 144.786226 \r\n",
       "L 200.770203 144.967032 \r\n",
       "L 203.819939 144.628061 \r\n",
       "L 204.429886 144.804824 \r\n",
       "L 205.039833 144.496604 \r\n",
       "L 205.64978 144.672399 \r\n",
       "L 206.259727 144.36741 \r\n",
       "L 206.869675 143.587817 \r\n",
       "L 207.479622 143.765244 \r\n",
       "L 208.699516 143.644441 \r\n",
       "L 209.309463 144.053962 \r\n",
       "L 209.91941 144.226443 \r\n",
       "L 210.529358 144.164873 \r\n",
       "L 211.139305 144.335457 \r\n",
       "L 211.749252 144.73531 \r\n",
       "L 213.579093 145.231668 \r\n",
       "L 214.189041 144.94058 \r\n",
       "L 214.798988 145.103848 \r\n",
       "L 216.018882 144.978092 \r\n",
       "L 217.238776 143.964822 \r\n",
       "L 217.848724 144.350219 \r\n",
       "L 218.458671 144.070713 \r\n",
       "L 219.678565 143.956066 \r\n",
       "L 220.288512 144.335457 \r\n",
       "L 220.898459 143.843208 \r\n",
       "L 222.118354 143.30112 \r\n",
       "L 222.728301 143.462525 \r\n",
       "L 223.338248 142.981211 \r\n",
       "L 223.948195 142.929591 \r\n",
       "L 224.558142 142.453977 \r\n",
       "L 225.16809 142.616152 \r\n",
       "L 225.778037 142.987689 \r\n",
       "L 226.997931 143.304359 \r\n",
       "L 227.607878 142.836251 \r\n",
       "L 228.217825 142.993977 \r\n",
       "L 228.827773 143.357197 \r\n",
       "L 229.43772 143.511817 \r\n",
       "L 230.047667 143.049855 \r\n",
       "L 230.657614 143.408867 \r\n",
       "L 231.267561 143.561597 \r\n",
       "L 231.877508 143.307416 \r\n",
       "L 233.097403 143.207432 \r\n",
       "L 233.70735 143.559394 \r\n",
       "L 234.317297 143.508859 \r\n",
       "L 234.927244 143.657945 \r\n",
       "L 235.537191 143.408867 \r\n",
       "L 236.147139 143.557248 \r\n",
       "L 236.757086 143.310291 \r\n",
       "L 237.367033 143.261529 \r\n",
       "L 237.97698 143.408867 \r\n",
       "L 238.586927 143.360097 \r\n",
       "L 239.196874 142.922889 \r\n",
       "L 239.806822 143.06987 \r\n",
       "L 240.416769 143.022782 \r\n",
       "L 241.026716 143.360776 \r\n",
       "L 242.24661 143.26558 \r\n",
       "L 242.856557 143.028076 \r\n",
       "L 243.466505 143.171685 \r\n",
       "L 244.686399 143.079058 \r\n",
       "L 245.296346 142.469751 \r\n",
       "L 245.906293 142.613311 \r\n",
       "L 246.51624 142.382773 \r\n",
       "L 247.126188 141.781908 \r\n",
       "L 247.736135 141.741 \r\n",
       "L 248.346082 141.885073 \r\n",
       "L 249.565976 142.537318 \r\n",
       "L 250.175923 142.677349 \r\n",
       "L 251.395818 142.591282 \r\n",
       "L 252.005765 142.36758 \r\n",
       "L 252.615712 142.506343 \r\n",
       "L 253.225659 142.824123 \r\n",
       "L 256.275395 143.497394 \r\n",
       "L 256.885342 143.276491 \r\n",
       "L 257.495289 143.408867 \r\n",
       "L 258.105237 143.365018 \r\n",
       "L 258.715184 143.496283 \r\n",
       "L 259.325131 143.800999 \r\n",
       "L 259.935078 143.408867 \r\n",
       "L 260.545025 143.711959 \r\n",
       "L 262.374867 143.580453 \r\n",
       "L 262.984814 143.879286 \r\n",
       "L 263.594761 143.835213 \r\n",
       "L 264.204708 143.961418 \r\n",
       "L 264.814655 143.747863 \r\n",
       "L 266.03455 144.335457 \r\n",
       "L 267.864391 144.201896 \r\n",
       "L 268.474338 144.324356 \r\n",
       "L 269.084286 143.948221 \r\n",
       "L 269.694233 143.90525 \r\n",
       "L 270.30418 143.367619 \r\n",
       "L 271.524074 143.613863 \r\n",
       "L 272.134021 143.24535 \r\n",
       "L 272.743969 143.042035 \r\n",
       "L 273.353916 143.165025 \r\n",
       "L 274.57381 143.085636 \r\n",
       "L 275.183757 143.36858 \r\n",
       "L 276.403652 143.288702 \r\n",
       "L 277.013599 143.568622 \r\n",
       "L 277.623546 143.687636 \r\n",
       "L 278.84344 143.606855 \r\n",
       "L 279.453387 143.72475 \r\n",
       "L 280.063335 143.526985 \r\n",
       "L 280.673282 143.487386 \r\n",
       "L 281.283229 143.291411 \r\n",
       "L 281.893176 143.565035 \r\n",
       "L 282.503123 143.681389 \r\n",
       "L 283.11307 143.331217 \r\n",
       "L 283.723018 143.29272 \r\n",
       "L 284.332965 143.563296 \r\n",
       "L 286.162806 143.906616 \r\n",
       "L 286.772753 143.714336 \r\n",
       "L 287.382701 143.980049 \r\n",
       "L 287.992648 143.788614 \r\n",
       "L 288.602595 143.901198 \r\n",
       "L 289.212542 143.711014 \r\n",
       "L 289.822489 143.823193 \r\n",
       "L 290.432436 144.085029 \r\n",
       "L 291.042384 143.895888 \r\n",
       "L 291.652331 144.006667 \r\n",
       "L 292.262278 143.967796 \r\n",
       "L 292.872225 143.780495 \r\n",
       "L 293.482172 144.038951 \r\n",
       "L 294.702067 143.666933 \r\n",
       "L 295.921961 144.17899 \r\n",
       "L 297.141855 144.39382 \r\n",
       "L 297.751802 144.063787 \r\n",
       "L 298.36175 144.170946 \r\n",
       "L 298.971697 144.132763 \r\n",
       "L 299.581644 143.950383 \r\n",
       "L 300.801538 144.163067 \r\n",
       "L 301.411485 144.125299 \r\n",
       "L 302.021433 143.944807 \r\n",
       "L 303.241327 144.155355 \r\n",
       "L 303.851274 144.401641 \r\n",
       "L 304.461221 144.505212 \r\n",
       "L 305.071168 144.749369 \r\n",
       "L 305.681116 144.71078 \r\n",
       "L 306.291063 144.532003 \r\n",
       "L 306.90101 144.494169 \r\n",
       "L 308.120904 144.140385 \r\n",
       "L 308.730851 143.68684 \r\n",
       "L 309.340799 143.79013 \r\n",
       "L 311.780587 143.649089 \r\n",
       "L 313.000482 144.126003 \r\n",
       "L 313.610429 144.090181 \r\n",
       "L 314.220376 144.190464 \r\n",
       "L 314.830323 144.425856 \r\n",
       "L 315.44027 144.254295 \r\n",
       "L 316.050217 144.35345 \r\n",
       "L 316.660165 144.048279 \r\n",
       "L 318.490006 143.94344 \r\n",
       "L 319.099953 144.175469 \r\n",
       "L 319.7099 144.27339 \r\n",
       "L 320.319848 143.972784 \r\n",
       "L 320.929795 143.805978 \r\n",
       "L 321.539742 143.904073 \r\n",
       "L 322.149689 143.869966 \r\n",
       "L 322.759636 144.09888 \r\n",
       "L 323.369583 143.93335 \r\n",
       "L 323.979531 144.030227 \r\n",
       "L 324.589478 143.996137 \r\n",
       "L 325.809372 144.188244 \r\n",
       "L 326.419319 144.413214 \r\n",
       "L 327.029266 144.119972 \r\n",
       "L 327.639214 144.344056 \r\n",
       "L 328.249161 144.309717 \r\n",
       "L 328.859108 144.403935 \r\n",
       "L 329.469055 144.241512 \r\n",
       "L 330.079002 144.46326 \r\n",
       "L 330.688949 144.428962 \r\n",
       "L 331.298897 144.522046 \r\n",
       "L 331.908844 144.487773 \r\n",
       "L 332.518791 144.580293 \r\n",
       "L 333.128738 144.798752 \r\n",
       "L 333.738685 144.764082 \r\n",
       "L 334.348632 144.478006 \r\n",
       "L 334.95858 144.695214 \r\n",
       "L 335.568527 144.661016 \r\n",
       "L 336.178474 144.876832 \r\n",
       "L 337.398368 144.559334 \r\n",
       "L 338.008315 144.649832 \r\n",
       "L 338.618263 144.616115 \r\n",
       "L 339.22821 144.211912 \r\n",
       "L 340.448104 144.146855 \r\n",
       "L 341.667998 143.837467 \r\n",
       "L 342.277946 143.805978 \r\n",
       "L 342.887893 143.896543 \r\n",
       "L 343.49784 143.865062 \r\n",
       "L 344.107787 144.076496 \r\n",
       "L 344.717734 143.923641 \r\n",
       "L 345.327681 143.892301 \r\n",
       "L 345.937629 143.619911 \r\n",
       "L 347.76747 143.888134 \r\n",
       "L 348.377417 144.096337 \r\n",
       "L 350.817206 143.97193 \r\n",
       "L 352.0371 143.674447 \r\n",
       "L 352.647048 143.762228 \r\n",
       "L 353.256995 143.614559 \r\n",
       "L 354.476889 143.789252 \r\n",
       "L 355.086836 143.759254 \r\n",
       "L 355.696783 143.962486 \r\n",
       "L 356.916678 144.134279 \r\n",
       "L 358.136572 144.420214 \r\n",
       "L 358.746519 144.38928 \r\n",
       "L 359.356466 144.243376 \r\n",
       "L 360.576361 144.411872 \r\n",
       "L 361.186308 144.266821 \r\n",
       "L 361.796255 144.236517 \r\n",
       "L 362.406202 144.320263 \r\n",
       "L 363.626097 144.146358 \r\n",
       "L 365.455938 144.621143 \r\n",
       "L 366.065885 144.590549 \r\n",
       "L 367.895727 144.946967 \r\n",
       "L 369.115621 145.330749 \r\n",
       "L 369.725568 145.299111 \r\n",
       "L 369.725568 145.299111 \r\n",
       "\" style=\"fill:none;stroke:#1f77b4;stroke-linecap:square;stroke-width:1.5;\"/>\r\n",
       "   </g>\r\n",
       "   <g id=\"line2d_17\">\r\n",
       "    <path clip-path=\"url(#p84dca810d5)\" d=\"M 65.361932 18.319091 \r\n",
       "L 65.971879 129.51 \r\n",
       "L 66.581826 148.041817 \r\n",
       "L 67.191773 171.206592 \r\n",
       "L 67.80172 140.629088 \r\n",
       "L 68.411668 148.041817 \r\n",
       "L 69.021615 121.567793 \r\n",
       "L 69.631562 115.611142 \r\n",
       "L 70.241509 123.332728 \r\n",
       "L 71.461403 134.564136 \r\n",
       "L 72.071351 138.775908 \r\n",
       "L 72.681298 138.063146 \r\n",
       "L 73.291245 145.394414 \r\n",
       "L 74.511139 150.3583 \r\n",
       "L 75.121086 155.672565 \r\n",
       "L 75.731034 157.307725 \r\n",
       "L 76.340981 155.844689 \r\n",
       "L 76.950928 160.087504 \r\n",
       "L 77.560875 150.689219 \r\n",
       "L 78.170822 152.253598 \r\n",
       "L 78.780769 156.099135 \r\n",
       "L 79.390717 154.99125 \r\n",
       "L 80.000664 149.524362 \r\n",
       "L 80.610611 148.754579 \r\n",
       "L 81.220558 152.160001 \r\n",
       "L 81.830505 153.336622 \r\n",
       "L 83.0504 148.041817 \r\n",
       "L 84.270294 146.883579 \r\n",
       "L 84.880241 148.041817 \r\n",
       "L 85.490188 147.496763 \r\n",
       "L 86.100135 148.571304 \r\n",
       "L 87.32003 147.54096 \r\n",
       "L 87.929977 148.529501 \r\n",
       "L 88.539924 145.190768 \r\n",
       "L 89.149871 144.798752 \r\n",
       "L 90.369766 146.718116 \r\n",
       "L 92.199607 145.570913 \r\n",
       "L 92.809554 142.804564 \r\n",
       "L 93.419502 141.338819 \r\n",
       "L 95.249343 140.629088 \r\n",
       "L 95.85929 141.501176 \r\n",
       "L 96.469237 140.201433 \r\n",
       "L 97.079185 141.048683 \r\n",
       "L 97.689132 140.835005 \r\n",
       "L 98.299079 141.639922 \r\n",
       "L 98.909026 140.430537 \r\n",
       "L 99.518973 140.238953 \r\n",
       "L 100.12892 141.971048 \r\n",
       "L 100.738868 142.702144 \r\n",
       "L 101.958762 142.269617 \r\n",
       "L 103.178656 143.629479 \r\n",
       "L 103.788603 143.408867 \r\n",
       "L 104.398551 142.339719 \r\n",
       "L 105.008498 142.145335 \r\n",
       "L 106.228392 143.408867 \r\n",
       "L 108.058234 142.821588 \r\n",
       "L 108.668181 141.092392 \r\n",
       "L 109.278128 142.456885 \r\n",
       "L 109.888075 142.281928 \r\n",
       "L 110.498022 143.59418 \r\n",
       "L 111.717917 143.228359 \r\n",
       "L 112.327864 143.765244 \r\n",
       "L 112.937811 142.881061 \r\n",
       "L 113.547758 143.408867 \r\n",
       "L 115.3776 142.906494 \r\n",
       "L 115.987547 141.423311 \r\n",
       "L 117.207441 141.146257 \r\n",
       "L 117.817388 141.651537 \r\n",
       "L 119.037283 141.378691 \r\n",
       "L 119.64723 142.482277 \r\n",
       "L 120.257177 142.950658 \r\n",
       "L 120.867124 140.387375 \r\n",
       "L 121.477071 140.868217 \r\n",
       "L 122.087018 140.747381 \r\n",
       "L 122.696966 141.214304 \r\n",
       "L 123.306913 141.092392 \r\n",
       "L 123.91686 139.826681 \r\n",
       "L 124.526807 139.721412 \r\n",
       "L 125.136754 139.056699 \r\n",
       "L 125.746701 139.517185 \r\n",
       "L 126.356649 139.418104 \r\n",
       "L 127.576543 140.305236 \r\n",
       "L 128.18649 140.201433 \r\n",
       "L 128.796437 140.629088 \r\n",
       "L 129.406384 139.999708 \r\n",
       "L 130.016332 140.421258 \r\n",
       "L 130.626279 140.320231 \r\n",
       "L 131.236226 138.180851 \r\n",
       "L 131.846173 138.607437 \r\n",
       "L 132.45612 138.52548 \r\n",
       "L 133.066067 137.948598 \r\n",
       "L 133.676015 137.873923 \r\n",
       "L 134.285962 138.775908 \r\n",
       "L 135.505856 139.574695 \r\n",
       "L 136.72575 141.288698 \r\n",
       "L 137.335698 141.189716 \r\n",
       "L 137.945645 142.018982 \r\n",
       "L 138.555592 141.456133 \r\n",
       "L 139.165539 141.81391 \r\n",
       "L 139.775486 140.809895 \r\n",
       "L 140.995381 139.739563 \r\n",
       "L 141.605328 138.334675 \r\n",
       "L 142.215275 138.702948 \r\n",
       "L 142.825222 138.631131 \r\n",
       "L 144.045116 140.201433 \r\n",
       "L 144.655064 139.695432 \r\n",
       "L 145.265011 140.460618 \r\n",
       "L 145.874958 140.7963 \r\n",
       "L 146.484905 140.297175 \r\n",
       "L 147.094852 141.040913 \r\n",
       "L 147.704799 141.364914 \r\n",
       "L 148.314747 141.278384 \r\n",
       "L 148.924694 141.595974 \r\n",
       "L 149.534641 141.109052 \r\n",
       "L 150.144588 141.820422 \r\n",
       "L 151.364482 142.430069 \r\n",
       "L 151.97443 141.950942 \r\n",
       "L 152.584377 142.250629 \r\n",
       "L 153.804271 142.076094 \r\n",
       "L 155.024165 141.154997 \r\n",
       "L 155.634113 141.076842 \r\n",
       "L 156.24406 141.370365 \r\n",
       "L 158.073901 140.0477 \r\n",
       "L 158.683848 140.340287 \r\n",
       "L 159.293796 139.911728 \r\n",
       "L 159.903743 140.201433 \r\n",
       "L 161.733584 138.950742 \r\n",
       "L 163.563426 139.805457 \r\n",
       "L 164.173373 139.742297 \r\n",
       "L 164.78332 140.357891 \r\n",
       "L 166.613162 141.16174 \r\n",
       "L 167.223109 141.092392 \r\n",
       "L 167.833056 141.352819 \r\n",
       "L 168.443003 140.956122 \r\n",
       "L 169.05295 141.539425 \r\n",
       "L 170.272845 142.043081 \r\n",
       "L 170.882792 141.651537 \r\n",
       "L 171.492739 141.899844 \r\n",
       "L 172.102686 142.461218 \r\n",
       "L 172.712633 142.388042 \r\n",
       "L 173.32258 141.691028 \r\n",
       "L 173.932528 141.93357 \r\n",
       "L 174.542475 141.864545 \r\n",
       "L 175.152422 141.48913 \r\n",
       "L 175.762369 141.423311 \r\n",
       "L 176.982263 140.689523 \r\n",
       "L 178.812105 140.510175 \r\n",
       "L 179.422052 140.747381 \r\n",
       "L 180.641946 140.629088 \r\n",
       "L 181.251894 140.861954 \r\n",
       "L 181.861841 140.513265 \r\n",
       "L 182.471788 141.032371 \r\n",
       "L 184.301629 140.856014 \r\n",
       "L 184.911577 140.233999 \r\n",
       "L 186.131471 140.126219 \r\n",
       "L 186.741418 140.629088 \r\n",
       "L 187.351365 140.573774 \r\n",
       "L 187.961312 140.794229 \r\n",
       "L 188.57126 140.464768 \r\n",
       "L 189.181207 140.411069 \r\n",
       "L 189.791154 140.900294 \r\n",
       "L 190.401101 140.575116 \r\n",
       "L 191.011048 140.790236 \r\n",
       "L 191.620995 140.736006 \r\n",
       "L 192.230943 141.214304 \r\n",
       "L 192.84089 140.893832 \r\n",
       "L 193.450837 141.103369 \r\n",
       "L 194.060784 141.048683 \r\n",
       "L 194.670731 141.255519 \r\n",
       "L 195.280678 141.720214 \r\n",
       "L 195.890626 141.922013 \r\n",
       "L 196.500573 142.379319 \r\n",
       "L 197.11052 142.320011 \r\n",
       "L 197.720467 142.006224 \r\n",
       "L 198.940361 142.398041 \r\n",
       "L 199.550309 142.339719 \r\n",
       "L 200.160256 142.782792 \r\n",
       "L 200.770203 142.972579 \r\n",
       "L 201.38015 143.408867 \r\n",
       "L 201.990097 143.34709 \r\n",
       "L 203.819939 143.896543 \r\n",
       "L 204.429886 143.590949 \r\n",
       "L 205.039833 143.529727 \r\n",
       "L 208.089569 144.414316 \r\n",
       "L 208.699516 144.351164 \r\n",
       "L 209.309463 144.757703 \r\n",
       "L 209.91941 144.460037 \r\n",
       "L 210.529358 143.932257 \r\n",
       "L 211.749252 143.812564 \r\n",
       "L 212.359199 143.52373 \r\n",
       "L 212.969146 143.923641 \r\n",
       "L 213.579093 144.092418 \r\n",
       "L 214.189041 144.032895 \r\n",
       "L 215.408935 144.815635 \r\n",
       "L 216.628829 145.139248 \r\n",
       "L 217.238776 145.521488 \r\n",
       "L 217.848724 145.236208 \r\n",
       "L 218.458671 145.394414 \r\n",
       "L 219.068618 145.331635 \r\n",
       "L 219.678565 145.488227 \r\n",
       "L 220.288512 145.207544 \r\n",
       "L 220.898459 145.363389 \r\n",
       "L 221.508407 145.301704 \r\n",
       "L 222.118354 145.025014 \r\n",
       "L 222.728301 144.96511 \r\n",
       "L 223.338248 145.333325 \r\n",
       "L 223.948195 145.059685 \r\n",
       "L 224.558142 145.424727 \r\n",
       "L 225.778037 145.304164 \r\n",
       "L 226.387984 145.664153 \r\n",
       "L 226.997931 145.603421 \r\n",
       "L 227.607878 145.126705 \r\n",
       "L 228.827773 145.42394 \r\n",
       "L 229.43772 144.953181 \r\n",
       "L 230.657614 145.657211 \r\n",
       "L 231.877508 145.539349 \r\n",
       "L 232.487456 145.076725 \r\n",
       "L 233.097403 145.22176 \r\n",
       "L 233.70735 144.964331 \r\n",
       "L 234.317297 144.908743 \r\n",
       "L 234.927244 144.255753 \r\n",
       "L 235.537191 144.203089 \r\n",
       "L 236.757086 144.493175 \r\n",
       "L 237.367033 144.440229 \r\n",
       "L 237.97698 143.800386 \r\n",
       "L 238.586927 143.945313 \r\n",
       "L 239.196874 143.700452 \r\n",
       "L 239.806822 143.844716 \r\n",
       "L 240.416769 143.601901 \r\n",
       "L 241.026716 143.93789 \r\n",
       "L 242.24661 144.220826 \r\n",
       "L 242.856557 144.170449 \r\n",
       "L 243.466505 144.499901 \r\n",
       "L 244.076452 144.638018 \r\n",
       "L 244.686399 144.586738 \r\n",
       "L 245.296346 144.911444 \r\n",
       "L 246.51624 145.1812 \r\n",
       "L 247.126188 145.50067 \r\n",
       "L 247.736135 145.262047 \r\n",
       "L 248.346082 145.579123 \r\n",
       "L 248.956029 145.341817 \r\n",
       "L 249.565976 145.289567 \r\n",
       "L 250.175923 145.420543 \r\n",
       "L 250.785871 145.186096 \r\n",
       "L 251.395818 145.498234 \r\n",
       "L 252.005765 145.446159 \r\n",
       "L 252.615712 145.574922 \r\n",
       "L 253.225659 145.52293 \r\n",
       "L 254.445554 145.062427 \r\n",
       "L 255.055501 145.01258 \r\n",
       "L 255.665448 145.140672 \r\n",
       "L 256.275395 145.090892 \r\n",
       "L 256.885342 145.217924 \r\n",
       "L 257.495289 145.168218 \r\n",
       "L 258.105237 144.943438 \r\n",
       "L 258.715184 145.069733 \r\n",
       "L 259.325131 144.846677 \r\n",
       "L 259.935078 144.972483 \r\n",
       "L 260.545025 144.924318 \r\n",
       "L 261.154972 144.703788 \r\n",
       "L 262.374867 144.610001 \r\n",
       "L 262.984814 144.734606 \r\n",
       "L 263.594761 145.028974 \r\n",
       "L 264.204708 144.981521 \r\n",
       "L 264.814655 145.273347 \r\n",
       "L 266.03455 144.503928 \r\n",
       "L 266.644497 144.626594 \r\n",
       "L 267.254444 144.581055 \r\n",
       "L 268.474338 144.823721 \r\n",
       "L 269.084286 144.778008 \r\n",
       "L 269.694233 144.401641 \r\n",
       "L 270.30418 144.522427 \r\n",
       "L 270.914127 144.313528 \r\n",
       "L 272.134021 144.88051 \r\n",
       "L 272.743969 144.998471 \r\n",
       "L 273.963863 145.556506 \r\n",
       "L 275.183757 145.785776 \r\n",
       "L 275.793704 145.41737 \r\n",
       "L 276.403652 145.531744 \r\n",
       "L 277.013599 145.166197 \r\n",
       "L 277.623546 144.643436 \r\n",
       "L 278.233493 144.759036 \r\n",
       "L 278.84344 144.557204 \r\n",
       "L 279.453387 144.198574 \r\n",
       "L 280.063335 144.156962 \r\n",
       "L 280.673282 143.958535 \r\n",
       "L 282.503123 143.837119 \r\n",
       "L 283.723018 144.376754 \r\n",
       "L 284.942912 144.294391 \r\n",
       "L 285.552859 144.407125 \r\n",
       "L 286.162806 144.212931 \r\n",
       "L 286.772753 144.325275 \r\n",
       "L 287.382701 144.132365 \r\n",
       "L 287.992648 144.092418 \r\n",
       "L 288.602595 144.204166 \r\n",
       "L 289.212542 144.013162 \r\n",
       "L 289.822489 144.124528 \r\n",
       "L 290.432436 143.634251 \r\n",
       "L 291.042384 143.895888 \r\n",
       "L 291.652331 143.707767 \r\n",
       "L 292.262278 143.818752 \r\n",
       "L 292.872225 143.483194 \r\n",
       "L 293.482172 143.001168 \r\n",
       "L 294.092119 143.261007 \r\n",
       "L 294.702067 143.372001 \r\n",
       "L 295.312014 143.335326 \r\n",
       "L 295.921961 143.152159 \r\n",
       "L 296.531908 143.116255 \r\n",
       "L 297.141855 142.934628 \r\n",
       "L 297.751802 143.045017 \r\n",
       "L 298.36175 143.299994 \r\n",
       "L 298.971697 143.264089 \r\n",
       "L 299.581644 143.517168 \r\n",
       "L 300.191591 143.336851 \r\n",
       "L 300.801538 143.30112 \r\n",
       "L 301.411485 143.408867 \r\n",
       "L 302.021433 143.373136 \r\n",
       "L 302.63138 143.195039 \r\n",
       "L 303.241327 143.160037 \r\n",
       "L 303.851274 142.841561 \r\n",
       "L 305.071168 142.491679 \r\n",
       "L 305.681116 142.74031 \r\n",
       "L 306.291063 142.706899 \r\n",
       "L 306.90101 142.95374 \r\n",
       "L 307.510957 143.059647 \r\n",
       "L 308.120904 143.02569 \r\n",
       "L 310.560693 143.443355 \r\n",
       "L 311.17064 143.133643 \r\n",
       "L 311.780587 142.962729 \r\n",
       "L 312.390534 142.655727 \r\n",
       "L 313.000482 142.896619 \r\n",
       "L 313.610429 142.863813 \r\n",
       "L 314.220376 143.103024 \r\n",
       "L 314.830323 143.06987 \r\n",
       "L 315.44027 143.307416 \r\n",
       "L 316.660165 143.240595 \r\n",
       "L 317.270112 143.341722 \r\n",
       "L 317.880059 143.576319 \r\n",
       "L 318.490006 143.54251 \r\n",
       "L 319.099953 143.642179 \r\n",
       "L 319.7099 143.34236 \r\n",
       "L 320.319848 143.309347 \r\n",
       "L 320.929795 143.541234 \r\n",
       "L 321.539742 143.507906 \r\n",
       "L 322.149689 143.606482 \r\n",
       "L 322.759636 143.441723 \r\n",
       "L 323.979531 143.37616 \r\n",
       "L 324.589478 143.213107 \r\n",
       "L 325.809372 143.149077 \r\n",
       "L 326.419319 143.246874 \r\n",
       "L 327.029266 143.085636 \r\n",
       "L 327.639214 143.054138 \r\n",
       "L 328.859108 142.734784 \r\n",
       "L 329.469055 142.832416 \r\n",
       "L 330.079002 142.418371 \r\n",
       "L 330.688949 142.388763 \r\n",
       "L 331.298897 142.613733 \r\n",
       "L 331.908844 142.710751 \r\n",
       "L 332.518791 142.427393 \r\n",
       "L 333.128738 142.018982 \r\n",
       "L 333.738685 142.242751 \r\n",
       "L 334.348632 142.339719 \r\n",
       "L 334.95858 142.185266 \r\n",
       "L 336.178474 142.128294 \r\n",
       "L 336.788421 142.224658 \r\n",
       "L 338.008315 142.167893 \r\n",
       "L 339.838157 142.823328 \r\n",
       "L 340.448104 142.67087 \r\n",
       "L 341.058051 142.887275 \r\n",
       "L 341.667998 142.857807 \r\n",
       "L 342.277946 142.950658 \r\n",
       "L 343.49784 142.648536 \r\n",
       "L 344.717734 142.591282 \r\n",
       "L 346.547576 142.867351 \r\n",
       "L 347.157523 142.838505 \r\n",
       "L 347.76747 142.689958 \r\n",
       "L 348.377417 142.661617 \r\n",
       "L 348.987365 142.752695 \r\n",
       "L 349.597312 142.724338 \r\n",
       "L 350.207259 142.577307 \r\n",
       "L 350.817206 142.786528 \r\n",
       "L 351.427153 142.876571 \r\n",
       "L 352.0371 142.848189 \r\n",
       "L 353.256995 143.261943 \r\n",
       "L 353.866942 143.232932 \r\n",
       "L 355.696783 143.496283 \r\n",
       "L 356.306731 143.35071 \r\n",
       "L 356.916678 143.089687 \r\n",
       "L 359.356466 142.977226 \r\n",
       "L 359.966414 142.834528 \r\n",
       "L 363.016149 142.698292 \r\n",
       "L 363.626097 142.784838 \r\n",
       "L 364.845991 143.06987 \r\n",
       "L 366.065885 142.789884 \r\n",
       "L 367.28578 142.960517 \r\n",
       "L 368.505674 142.906494 \r\n",
       "L 369.115621 142.65682 \r\n",
       "L 369.725568 142.852911 \r\n",
       "L 369.725568 142.852911 \r\n",
       "\" style=\"fill:none;stroke:#ff7f0e;stroke-linecap:square;stroke-width:1.5;\"/>\r\n",
       "   </g>\r\n",
       "   <g id=\"line2d_18\">\r\n",
       "    <path clip-path=\"url(#p84dca810d5)\" d=\"M 65.361932 185.105455 \r\n",
       "L 65.971879 101.712275 \r\n",
       "L 66.581826 92.446358 \r\n",
       "L 67.191773 87.813408 \r\n",
       "L 67.80172 96.152735 \r\n",
       "L 68.411668 110.978183 \r\n",
       "L 69.021615 129.51 \r\n",
       "L 69.631562 143.408867 \r\n",
       "L 70.241509 135.687272 \r\n",
       "L 71.461403 124.455873 \r\n",
       "L 72.071351 115.611142 \r\n",
       "L 72.681298 120.956854 \r\n",
       "L 73.291245 113.625586 \r\n",
       "L 73.901192 110.978183 \r\n",
       "L 74.511139 115.611142 \r\n",
       "L 75.731034 110.978183 \r\n",
       "L 76.340981 114.879615 \r\n",
       "L 77.560875 126.862598 \r\n",
       "L 78.170822 126.982936 \r\n",
       "L 78.780769 131.927196 \r\n",
       "L 80.000664 136.18146 \r\n",
       "L 80.610611 138.063146 \r\n",
       "L 82.440452 137.178343 \r\n",
       "L 83.0504 138.775908 \r\n",
       "L 83.660347 138.477008 \r\n",
       "L 84.270294 136.459433 \r\n",
       "L 85.490188 139.320962 \r\n",
       "L 86.100135 137.452207 \r\n",
       "L 86.710083 138.775908 \r\n",
       "L 87.32003 135.520317 \r\n",
       "L 87.929977 136.825197 \r\n",
       "L 88.539924 139.488671 \r\n",
       "L 89.149871 137.849318 \r\n",
       "L 89.759819 137.645921 \r\n",
       "L 90.369766 140.09961 \r\n",
       "L 90.979713 139.85334 \r\n",
       "L 91.58966 138.354731 \r\n",
       "L 92.809554 140.387375 \r\n",
       "L 93.419502 142.521702 \r\n",
       "L 94.029449 141.092392 \r\n",
       "L 94.639396 140.856014 \r\n",
       "L 95.249343 139.517185 \r\n",
       "L 95.85929 140.411069 \r\n",
       "L 96.469237 142.339719 \r\n",
       "L 97.079185 143.146625 \r\n",
       "L 97.689132 139.805457 \r\n",
       "L 98.299079 138.607437 \r\n",
       "L 98.909026 140.430537 \r\n",
       "L 100.12892 140.053971 \r\n",
       "L 100.738868 138.932963 \r\n",
       "L 101.348815 140.629088 \r\n",
       "L 101.958762 140.446816 \r\n",
       "L 102.568709 139.373708 \r\n",
       "L 103.178656 139.217142 \r\n",
       "L 103.788603 138.19679 \r\n",
       "L 104.398551 138.918466 \r\n",
       "L 106.838339 138.373048 \r\n",
       "L 107.448286 139.040652 \r\n",
       "L 108.058234 138.90642 \r\n",
       "L 108.668181 140.320231 \r\n",
       "L 109.278128 139.410566 \r\n",
       "L 110.498022 139.146551 \r\n",
       "L 111.107969 139.751268 \r\n",
       "L 112.327864 142.339719 \r\n",
       "L 113.547758 143.408867 \r\n",
       "L 114.157705 142.550913 \r\n",
       "L 114.767652 140.357891 \r\n",
       "L 115.3776 138.887549 \r\n",
       "L 115.987547 140.09961 \r\n",
       "L 116.597494 140.629088 \r\n",
       "L 117.207441 139.206886 \r\n",
       "L 117.817388 138.456397 \r\n",
       "L 118.427335 138.986497 \r\n",
       "L 119.037283 137.630686 \r\n",
       "L 119.64723 137.540452 \r\n",
       "L 120.257177 138.063146 \r\n",
       "L 121.477071 137.879208 \r\n",
       "L 122.087018 137.198739 \r\n",
       "L 122.696966 137.703016 \r\n",
       "L 123.306913 137.617671 \r\n",
       "L 123.91686 138.107236 \r\n",
       "L 124.526807 138.019512 \r\n",
       "L 125.136754 138.495126 \r\n",
       "L 125.746701 138.405274 \r\n",
       "L 126.966596 139.320962 \r\n",
       "L 131.236226 138.690902 \r\n",
       "L 131.846173 139.11285 \r\n",
       "L 132.45612 140.028058 \r\n",
       "L 133.066067 139.934146 \r\n",
       "L 133.676015 139.349907 \r\n",
       "L 134.895909 139.178777 \r\n",
       "L 135.505856 139.574695 \r\n",
       "L 136.115803 139.488671 \r\n",
       "L 136.72575 138.932963 \r\n",
       "L 137.335698 139.78815 \r\n",
       "L 137.945645 140.165793 \r\n",
       "L 138.555592 140.996666 \r\n",
       "L 139.165539 140.446816 \r\n",
       "L 139.775486 139.453901 \r\n",
       "L 140.385433 139.373708 \r\n",
       "L 140.995381 139.739563 \r\n",
       "L 142.215275 139.578473 \r\n",
       "L 142.825222 139.065472 \r\n",
       "L 143.435169 137.698477 \r\n",
       "L 144.655064 137.573465 \r\n",
       "L 145.265011 138.354731 \r\n",
       "L 146.484905 138.22272 \r\n",
       "L 147.094852 138.57 \r\n",
       "L 147.704799 139.320962 \r\n",
       "L 148.314747 139.655162 \r\n",
       "L 148.924694 139.178777 \r\n",
       "L 150.144588 139.834874 \r\n",
       "L 150.754535 139.367354 \r\n",
       "L 151.364482 139.297931 \r\n",
       "L 151.97443 139.618263 \r\n",
       "L 152.584377 139.161993 \r\n",
       "L 153.194324 139.095428 \r\n",
       "L 153.804271 138.648984 \r\n",
       "L 155.024165 138.52548 \r\n",
       "L 156.854007 139.45091 \r\n",
       "L 158.073901 139.320962 \r\n",
       "L 158.683848 138.896247 \r\n",
       "L 159.293796 139.553048 \r\n",
       "L 159.903743 139.488671 \r\n",
       "L 160.51369 139.779228 \r\n",
       "L 161.123637 139.714229 \r\n",
       "L 161.733584 139.999708 \r\n",
       "L 162.343531 139.586675 \r\n",
       "L 162.953479 138.83346 \r\n",
       "L 163.563426 139.119088 \r\n",
       "L 164.173373 139.742297 \r\n",
       "L 164.78332 139.340902 \r\n",
       "L 165.393267 139.281321 \r\n",
       "L 166.003214 138.887549 \r\n",
       "L 166.613162 138.831397 \r\n",
       "L 167.223109 139.106836 \r\n",
       "L 167.833056 138.063146 \r\n",
       "L 169.05295 137.312872 \r\n",
       "L 170.272845 137.86539 \r\n",
       "L 170.882792 137.817366 \r\n",
       "L 171.492739 138.405274 \r\n",
       "L 172.102686 138.354731 \r\n",
       "L 172.712633 138.618862 \r\n",
       "L 173.32258 138.567689 \r\n",
       "L 173.932528 139.138267 \r\n",
       "L 174.542475 139.084774 \r\n",
       "L 175.152422 139.33903 \r\n",
       "L 175.762369 139.285024 \r\n",
       "L 176.372316 139.839215 \r\n",
       "L 176.982263 140.085228 \r\n",
       "L 177.592211 139.727542 \r\n",
       "L 178.202158 139.672608 \r\n",
       "L 179.422052 138.381614 \r\n",
       "L 180.641946 138.288232 \r\n",
       "L 181.251894 138.53335 \r\n",
       "L 181.861841 138.486353 \r\n",
       "L 183.081735 138.966962 \r\n",
       "L 183.691682 138.918466 \r\n",
       "L 184.911577 139.387369 \r\n",
       "L 186.131471 140.405593 \r\n",
       "L 186.741418 140.073141 \r\n",
       "L 187.961312 141.069452 \r\n",
       "L 188.57126 141.286378 \r\n",
       "L 189.181207 141.773706 \r\n",
       "L 189.791154 141.171491 \r\n",
       "L 190.401101 141.114875 \r\n",
       "L 191.011048 141.327394 \r\n",
       "L 191.620995 141.805154 \r\n",
       "L 192.230943 141.480316 \r\n",
       "L 192.84089 141.95279 \r\n",
       "L 193.450837 141.893821 \r\n",
       "L 194.060784 141.573167 \r\n",
       "L 194.670731 142.038558 \r\n",
       "L 195.890626 141.922013 \r\n",
       "L 196.500573 142.121932 \r\n",
       "L 197.720467 142.006224 \r\n",
       "L 198.330414 142.203027 \r\n",
       "L 198.940361 141.892629 \r\n",
       "L 199.550309 142.339719 \r\n",
       "L 200.770203 142.224658 \r\n",
       "L 201.38015 142.664284 \r\n",
       "L 202.600044 142.547872 \r\n",
       "L 203.209992 142.245526 \r\n",
       "L 203.819939 142.189665 \r\n",
       "L 204.429886 141.648745 \r\n",
       "L 205.039833 141.354252 \r\n",
       "L 205.64978 140.821634 \r\n",
       "L 206.259727 140.533238 \r\n",
       "L 206.869675 140.724533 \r\n",
       "L 207.479622 141.151782 \r\n",
       "L 208.089569 140.865665 \r\n",
       "L 209.309463 141.239 \r\n",
       "L 210.529358 141.140847 \r\n",
       "L 211.139305 140.397441 \r\n",
       "L 213.579093 140.218962 \r\n",
       "L 215.408935 140.76414 \r\n",
       "L 216.628829 140.227197 \r\n",
       "L 217.238776 140.629088 \r\n",
       "L 217.848724 140.363301 \r\n",
       "L 218.458671 140.761464 \r\n",
       "L 219.068618 140.716994 \r\n",
       "L 219.678565 140.891744 \r\n",
       "L 220.288512 140.847116 \r\n",
       "L 221.508407 141.62419 \r\n",
       "L 222.118354 141.577234 \r\n",
       "L 222.728301 141.959947 \r\n",
       "L 223.338248 141.912064 \r\n",
       "L 224.558142 142.666181 \r\n",
       "L 225.16809 142.616152 \r\n",
       "L 226.997931 143.095353 \r\n",
       "L 227.607878 143.460917 \r\n",
       "L 228.217825 143.408867 \r\n",
       "L 229.43772 143.717733 \r\n",
       "L 230.047667 144.075601 \r\n",
       "L 230.657614 143.817659 \r\n",
       "L 231.877508 144.119028 \r\n",
       "L 232.487456 144.0659 \r\n",
       "L 233.097403 144.214596 \r\n",
       "L 233.70735 143.960804 \r\n",
       "L 234.317297 144.108805 \r\n",
       "L 234.927244 144.455017 \r\n",
       "L 236.147139 144.348645 \r\n",
       "L 240.416769 145.339265 \r\n",
       "L 241.026716 144.899746 \r\n",
       "L 241.636663 144.846677 \r\n",
       "L 242.24661 144.411872 \r\n",
       "L 242.856557 144.55124 \r\n",
       "L 243.466505 144.120411 \r\n",
       "L 244.686399 144.021355 \r\n",
       "L 245.296346 144.347974 \r\n",
       "L 245.906293 143.923641 \r\n",
       "L 246.51624 144.061832 \r\n",
       "L 247.126188 144.385039 \r\n",
       "L 247.736135 144.335457 \r\n",
       "L 248.346082 143.732098 \r\n",
       "L 248.956029 143.685001 \r\n",
       "L 250.785871 144.092418 \r\n",
       "L 251.395818 143.863074 \r\n",
       "L 252.005765 143.997413 \r\n",
       "L 252.615712 143.950383 \r\n",
       "L 254.445554 144.34737 \r\n",
       "L 255.055501 144.121629 \r\n",
       "L 255.665448 144.074947 \r\n",
       "L 256.885342 143.629479 \r\n",
       "L 257.495289 143.584802 \r\n",
       "L 258.105237 143.891158 \r\n",
       "L 258.715184 143.671108 \r\n",
       "L 259.325131 143.800999 \r\n",
       "L 259.935078 143.582598 \r\n",
       "L 260.545025 143.192371 \r\n",
       "L 261.154972 143.49519 \r\n",
       "L 261.76492 143.62402 \r\n",
       "L 262.374867 143.923641 \r\n",
       "L 263.594761 143.494138 \r\n",
       "L 264.204708 143.791406 \r\n",
       "L 264.814655 143.408867 \r\n",
       "L 265.424603 143.366616 \r\n",
       "L 266.644497 143.618817 \r\n",
       "L 267.864391 143.200175 \r\n",
       "L 268.474338 143.159184 \r\n",
       "L 269.084286 143.284394 \r\n",
       "L 270.30418 143.862535 \r\n",
       "L 270.914127 143.820078 \r\n",
       "L 271.524074 143.613863 \r\n",
       "L 273.353916 143.490145 \r\n",
       "L 273.963863 143.287302 \r\n",
       "L 274.57381 143.247247 \r\n",
       "L 275.183757 143.529727 \r\n",
       "L 277.013599 143.408867 \r\n",
       "L 277.623546 143.687636 \r\n",
       "L 278.233493 143.647133 \r\n",
       "L 278.84344 143.923641 \r\n",
       "L 279.453387 143.72475 \r\n",
       "L 280.673282 143.644441 \r\n",
       "L 282.503123 143.992848 \r\n",
       "L 283.11307 144.262985 \r\n",
       "L 283.723018 144.376754 \r\n",
       "L 284.332965 144.644323 \r\n",
       "L 284.942912 144.602396 \r\n",
       "L 285.552859 144.407125 \r\n",
       "L 286.772753 144.936214 \r\n",
       "L 287.382701 144.741631 \r\n",
       "L 287.992648 144.700019 \r\n",
       "L 289.212542 145.22176 \r\n",
       "L 289.822489 145.028519 \r\n",
       "L 290.432436 145.28709 \r\n",
       "L 291.042384 144.944855 \r\n",
       "L 291.652331 144.753917 \r\n",
       "L 292.262278 144.71305 \r\n",
       "L 294.092119 145.035328 \r\n",
       "L 294.702067 144.994147 \r\n",
       "L 295.312014 144.806108 \r\n",
       "L 295.921961 144.912438 \r\n",
       "L 297.141855 144.831583 \r\n",
       "L 297.751802 144.93701 \r\n",
       "L 298.36175 144.461263 \r\n",
       "L 298.971697 144.422327 \r\n",
       "L 302.021433 144.945244 \r\n",
       "L 302.63138 144.90567 \r\n",
       "L 303.851274 145.394414 \r\n",
       "L 304.461221 145.495459 \r\n",
       "L 305.071168 145.45489 \r\n",
       "L 305.681116 145.273777 \r\n",
       "L 306.291063 145.233971 \r\n",
       "L 307.510957 145.434328 \r\n",
       "L 308.120904 145.394414 \r\n",
       "L 309.950746 145.690771 \r\n",
       "L 310.560693 145.374706 \r\n",
       "L 311.17064 145.610661 \r\n",
       "L 311.780587 145.708185 \r\n",
       "L 313.000482 145.628589 \r\n",
       "L 313.610429 145.725342 \r\n",
       "L 314.220376 145.685693 \r\n",
       "L 315.44027 145.336449 \r\n",
       "L 316.050217 145.567914 \r\n",
       "L 316.660165 145.663648 \r\n",
       "L 317.270112 145.624629 \r\n",
       "L 317.880059 145.853725 \r\n",
       "L 318.490006 145.948084 \r\n",
       "L 319.099953 145.908658 \r\n",
       "L 319.7099 146.002429 \r\n",
       "L 320.929795 145.923902 \r\n",
       "L 321.539742 145.752854 \r\n",
       "L 322.149689 145.846103 \r\n",
       "L 322.759636 145.80749 \r\n",
       "L 323.369583 145.900167 \r\n",
       "L 323.979531 145.861603 \r\n",
       "L 325.809372 146.136677 \r\n",
       "L 326.419319 146.097923 \r\n",
       "L 327.029266 146.317931 \r\n",
       "L 327.639214 146.020945 \r\n",
       "L 328.249161 146.240116 \r\n",
       "L 328.859108 146.329877 \r\n",
       "L 330.079002 146.763762 \r\n",
       "L 330.688949 146.724188 \r\n",
       "L 331.298897 146.812019 \r\n",
       "L 331.908844 146.645586 \r\n",
       "L 333.738685 146.907215 \r\n",
       "L 334.348632 147.119419 \r\n",
       "L 334.95858 147.07967 \r\n",
       "L 335.568527 146.914886 \r\n",
       "L 336.178474 146.875775 \r\n",
       "L 336.788421 146.712184 \r\n",
       "L 338.008315 146.635388 \r\n",
       "L 338.618263 146.473429 \r\n",
       "L 339.22821 146.188637 \r\n",
       "L 339.838157 146.151655 \r\n",
       "L 340.448104 146.237838 \r\n",
       "L 341.058051 145.955457 \r\n",
       "L 341.667998 145.919229 \r\n",
       "L 342.887893 146.334939 \r\n",
       "L 344.107787 146.261473 \r\n",
       "L 344.717734 146.346098 \r\n",
       "L 345.327681 146.309497 \r\n",
       "L 346.547576 145.9961 \r\n",
       "L 347.157523 146.080567 \r\n",
       "L 347.76747 145.925036 \r\n",
       "L 348.377417 146.128857 \r\n",
       "L 348.987365 145.973889 \r\n",
       "L 349.597312 146.176732 \r\n",
       "L 350.817206 146.105661 \r\n",
       "L 351.427153 146.306929 \r\n",
       "L 352.0371 146.271265 \r\n",
       "L 352.647048 146.353537 \r\n",
       "L 353.256995 146.317931 \r\n",
       "L 353.866942 146.165184 \r\n",
       "L 355.086836 146.095197 \r\n",
       "L 355.696783 146.176981 \r\n",
       "L 356.306731 146.142112 \r\n",
       "L 356.916678 146.223456 \r\n",
       "L 357.526625 146.188637 \r\n",
       "L 358.746519 146.465459 \r\n",
       "L 359.356466 146.545461 \r\n",
       "L 359.966414 146.395398 \r\n",
       "L 360.576361 146.360579 \r\n",
       "L 361.186308 146.211518 \r\n",
       "L 363.016149 146.109057 \r\n",
       "L 363.626097 146.302099 \r\n",
       "L 364.236044 145.814979 \r\n",
       "L 364.845991 145.781841 \r\n",
       "L 366.065885 145.378343 \r\n",
       "L 366.675832 145.346282 \r\n",
       "L 367.28578 145.426442 \r\n",
       "L 368.505674 145.250879 \r\n",
       "L 369.725568 145.299111 \r\n",
       "L 369.725568 145.299111 \r\n",
       "\" style=\"fill:none;stroke:#2ca02c;stroke-linecap:square;stroke-width:1.5;\"/>\r\n",
       "   </g>\r\n",
       "   <g id=\"line2d_19\">\r\n",
       "    <path clip-path=\"url(#p84dca810d5)\" d=\"M 65.361932 129.51 \r\n",
       "L 65.971879 157.307725 \r\n",
       "L 66.581826 166.573634 \r\n",
       "L 67.191773 171.206592 \r\n",
       "L 67.80172 185.105455 \r\n",
       "L 68.411668 175.839546 \r\n",
       "L 69.021615 153.336622 \r\n",
       "L 69.631562 164.257159 \r\n",
       "L 70.241509 166.573634 \r\n",
       "L 70.851456 168.426822 \r\n",
       "L 71.461403 164.888924 \r\n",
       "L 72.071351 166.573634 \r\n",
       "L 73.291245 161.278829 \r\n",
       "L 74.511139 164.257159 \r\n",
       "L 75.121086 162.213206 \r\n",
       "L 75.731034 163.484997 \r\n",
       "L 76.340981 161.696841 \r\n",
       "L 76.950928 151.748185 \r\n",
       "L 77.560875 150.689219 \r\n",
       "L 78.780769 144.013162 \r\n",
       "L 79.390717 143.408867 \r\n",
       "L 80.610611 150.892866 \r\n",
       "L 81.830505 145.394414 \r\n",
       "L 83.0504 148.041817 \r\n",
       "L 83.660347 143.857217 \r\n",
       "L 84.270294 145.146223 \r\n",
       "L 84.880241 142.987689 \r\n",
       "L 85.490188 144.226443 \r\n",
       "L 86.100135 143.805978 \r\n",
       "L 86.710083 146.497503 \r\n",
       "L 87.32003 147.54096 \r\n",
       "L 87.929977 147.066457 \r\n",
       "L 88.539924 148.041817 \r\n",
       "L 89.759819 147.137827 \r\n",
       "L 90.369766 145.394414 \r\n",
       "L 90.979713 142.439173 \r\n",
       "L 92.809554 141.595974 \r\n",
       "L 93.419502 143.704586 \r\n",
       "L 94.639396 145.394414 \r\n",
       "L 95.249343 147.300548 \r\n",
       "L 95.85929 148.041817 \r\n",
       "L 96.469237 149.823726 \r\n",
       "L 97.689132 151.130453 \r\n",
       "L 98.909026 150.3583 \r\n",
       "L 99.518973 150.967897 \r\n",
       "L 101.348815 149.895005 \r\n",
       "L 101.958762 146.826616 \r\n",
       "L 102.568709 147.444017 \r\n",
       "L 103.178656 147.159349 \r\n",
       "L 103.788603 148.620936 \r\n",
       "L 104.398551 149.182243 \r\n",
       "L 105.008498 148.041817 \r\n",
       "L 105.618445 148.595005 \r\n",
       "L 106.228392 149.949508 \r\n",
       "L 106.838339 149.653284 \r\n",
       "L 107.448286 150.953963 \r\n",
       "L 108.668181 151.902614 \r\n",
       "L 109.278128 151.595869 \r\n",
       "L 109.888075 152.048701 \r\n",
       "L 110.498022 153.230731 \r\n",
       "L 111.717917 154.058646 \r\n",
       "L 112.327864 153.743914 \r\n",
       "L 113.547758 151.748185 \r\n",
       "L 114.157705 152.846361 \r\n",
       "L 115.3776 153.623692 \r\n",
       "L 115.987547 153.336622 \r\n",
       "L 116.597494 152.402244 \r\n",
       "L 117.817388 154.432105 \r\n",
       "L 118.427335 154.148896 \r\n",
       "L 119.037283 155.121389 \r\n",
       "L 120.257177 154.5585 \r\n",
       "L 120.867124 155.494832 \r\n",
       "L 121.477071 155.813225 \r\n",
       "L 122.696966 155.259473 \r\n",
       "L 123.91686 153.582261 \r\n",
       "L 124.526807 153.903927 \r\n",
       "L 126.966596 157.307725 \r\n",
       "L 127.576543 156.498086 \r\n",
       "L 128.18649 156.77316 \r\n",
       "L 128.796437 157.572469 \r\n",
       "L 130.626279 156.792959 \r\n",
       "L 131.236226 157.562751 \r\n",
       "L 131.846173 157.813138 \r\n",
       "L 133.066067 157.307725 \r\n",
       "L 133.676015 157.55373 \r\n",
       "L 134.285962 156.332373 \r\n",
       "L 134.895909 156.58257 \r\n",
       "L 135.505856 156.349182 \r\n",
       "L 136.115803 157.070138 \r\n",
       "L 136.72575 156.365436 \r\n",
       "L 137.335698 155.205376 \r\n",
       "L 140.385433 156.411025 \r\n",
       "L 140.995381 157.085348 \r\n",
       "L 141.605328 156.866491 \r\n",
       "L 142.825222 157.307725 \r\n",
       "L 143.435169 157.954188 \r\n",
       "L 144.655064 158.368713 \r\n",
       "L 145.874958 157.934744 \r\n",
       "L 146.484905 158.137512 \r\n",
       "L 147.094852 157.101817 \r\n",
       "L 147.704799 156.898941 \r\n",
       "L 148.314747 156.293213 \r\n",
       "L 148.924694 156.099135 \r\n",
       "L 149.534641 156.70778 \r\n",
       "L 150.754535 157.110582 \r\n",
       "L 151.364482 156.524695 \r\n",
       "L 151.97443 157.113341 \r\n",
       "L 155.024165 156.180794 \r\n",
       "L 155.634113 156.374922 \r\n",
       "L 156.24406 156.937091 \r\n",
       "L 156.854007 156.755456 \r\n",
       "L 157.463954 156.94197 \r\n",
       "L 158.073901 156.762672 \r\n",
       "L 158.683848 156.946717 \r\n",
       "L 159.293796 157.487065 \r\n",
       "L 160.51369 157.130672 \r\n",
       "L 161.123637 157.307725 \r\n",
       "L 161.733584 156.433584 \r\n",
       "L 162.953479 156.789762 \r\n",
       "L 164.173373 156.45504 \r\n",
       "L 164.78332 155.612743 \r\n",
       "L 166.613162 156.142554 \r\n",
       "L 167.223109 155.322178 \r\n",
       "L 167.833056 155.498411 \r\n",
       "L 168.443003 155.999599 \r\n",
       "L 169.05295 155.519569 \r\n",
       "L 169.662897 155.691578 \r\n",
       "L 170.272845 154.897521 \r\n",
       "L 170.882792 155.071128 \r\n",
       "L 171.492739 153.972 \r\n",
       "L 172.102686 154.148896 \r\n",
       "L 173.32258 155.121389 \r\n",
       "L 174.542475 154.836821 \r\n",
       "L 175.152422 155.311209 \r\n",
       "L 175.762369 155.169439 \r\n",
       "L 176.372316 154.421625 \r\n",
       "L 176.982263 154.286234 \r\n",
       "L 178.202158 154.617625 \r\n",
       "L 178.812105 154.48336 \r\n",
       "L 179.422052 154.646248 \r\n",
       "L 180.031999 155.101557 \r\n",
       "L 180.641946 155.259473 \r\n",
       "L 181.251894 154.542511 \r\n",
       "L 181.861841 154.701695 \r\n",
       "L 182.471788 154.571166 \r\n",
       "L 183.081735 154.728561 \r\n",
       "L 186.131471 154.094923 \r\n",
       "L 187.351365 153.297113 \r\n",
       "L 187.961312 153.179351 \r\n",
       "L 189.791154 153.646565 \r\n",
       "L 190.401101 153.529399 \r\n",
       "L 191.011048 153.14478 \r\n",
       "L 191.620995 152.496587 \r\n",
       "L 192.230943 152.120592 \r\n",
       "L 194.060784 153.374092 \r\n",
       "L 194.670731 153.001038 \r\n",
       "L 195.280678 153.15106 \r\n",
       "L 195.890626 153.55827 \r\n",
       "L 197.11052 153.336622 \r\n",
       "L 198.330414 152.611309 \r\n",
       "L 198.940361 152.506304 \r\n",
       "L 199.550309 151.899118 \r\n",
       "L 200.160256 152.299129 \r\n",
       "L 200.770203 151.947631 \r\n",
       "L 201.38015 151.351074 \r\n",
       "L 201.990097 151.748185 \r\n",
       "L 202.600044 151.403787 \r\n",
       "L 203.819939 151.699415 \r\n",
       "L 204.429886 151.602521 \r\n",
       "L 205.039833 151.989906 \r\n",
       "L 205.64978 151.651912 \r\n",
       "L 206.259727 152.035744 \r\n",
       "L 206.869675 152.17768 \r\n",
       "L 207.479622 151.843215 \r\n",
       "L 208.089569 152.221339 \r\n",
       "L 208.699516 151.65395 \r\n",
       "L 209.309463 151.560519 \r\n",
       "L 209.91941 151.234273 \r\n",
       "L 210.529358 151.60861 \r\n",
       "L 211.139305 151.748185 \r\n",
       "L 211.749252 151.425219 \r\n",
       "L 212.359199 151.334663 \r\n",
       "L 212.969146 150.787273 \r\n",
       "L 213.579093 150.700072 \r\n",
       "L 214.189041 151.067425 \r\n",
       "L 214.798988 151.205791 \r\n",
       "L 216.018882 151.030825 \r\n",
       "L 216.628829 151.390947 \r\n",
       "L 217.848724 151.659584 \r\n",
       "L 219.068618 151.045 \r\n",
       "L 220.898459 150.792633 \r\n",
       "L 221.508407 150.926152 \r\n",
       "L 222.118354 151.274112 \r\n",
       "L 222.728301 151.190084 \r\n",
       "L 223.338248 150.892866 \r\n",
       "L 223.948195 151.023949 \r\n",
       "L 224.558142 150.729639 \r\n",
       "L 225.16809 150.226181 \r\n",
       "L 225.778037 150.147711 \r\n",
       "L 226.387984 149.650243 \r\n",
       "L 226.997931 149.365518 \r\n",
       "L 227.607878 149.499377 \r\n",
       "L 228.217825 149.009903 \r\n",
       "L 228.827773 149.144085 \r\n",
       "L 229.43772 149.483181 \r\n",
       "L 232.487456 150.130861 \r\n",
       "L 233.097403 149.854718 \r\n",
       "L 233.70735 149.981974 \r\n",
       "L 234.317297 149.908335 \r\n",
       "L 235.537191 150.15974 \r\n",
       "L 236.147139 150.481953 \r\n",
       "L 237.367033 150.333737 \r\n",
       "L 237.97698 150.651931 \r\n",
       "L 238.586927 150.382681 \r\n",
       "L 239.196874 150.504088 \r\n",
       "L 239.806822 150.043511 \r\n",
       "L 241.026716 150.670902 \r\n",
       "L 242.856557 151.024678 \r\n",
       "L 243.466505 150.761509 \r\n",
       "L 244.686399 150.994349 \r\n",
       "L 245.296346 150.921761 \r\n",
       "L 245.906293 151.036864 \r\n",
       "L 246.51624 150.964625 \r\n",
       "L 247.126188 150.706931 \r\n",
       "L 247.736135 151.006908 \r\n",
       "L 248.346082 151.120197 \r\n",
       "L 248.956029 150.496367 \r\n",
       "L 249.565976 150.427102 \r\n",
       "L 250.175923 150.175414 \r\n",
       "L 250.785871 150.472218 \r\n",
       "L 252.615712 150.268042 \r\n",
       "L 253.225659 150.380784 \r\n",
       "L 254.445554 149.531512 \r\n",
       "L 255.055501 149.823726 \r\n",
       "L 255.665448 149.758827 \r\n",
       "L 256.885342 149.98325 \r\n",
       "L 257.495289 149.918458 \r\n",
       "L 258.715184 150.139758 \r\n",
       "L 259.325131 150.075091 \r\n",
       "L 259.935078 150.3583 \r\n",
       "L 260.545025 150.466544 \r\n",
       "L 261.154972 150.401462 \r\n",
       "L 261.76492 150.164661 \r\n",
       "L 262.374867 149.757725 \r\n",
       "L 262.984814 149.695426 \r\n",
       "L 263.594761 149.974585 \r\n",
       "L 264.204708 149.401953 \r\n",
       "L 265.424603 149.956964 \r\n",
       "L 266.644497 149.497488 \r\n",
       "L 267.864391 149.711349 \r\n",
       "L 268.474338 149.650873 \r\n",
       "L 271.524074 150.173799 \r\n",
       "L 273.353916 149.992537 \r\n",
       "L 274.57381 150.19668 \r\n",
       "L 276.403652 150.017837 \r\n",
       "L 277.013599 150.118658 \r\n",
       "L 277.623546 150.378207 \r\n",
       "L 278.84344 150.576088 \r\n",
       "L 279.453387 150.832125 \r\n",
       "L 280.063335 150.929217 \r\n",
       "L 280.673282 151.182802 \r\n",
       "L 281.283229 151.278362 \r\n",
       "L 281.893176 151.061046 \r\n",
       "L 282.503123 151.000678 \r\n",
       "L 283.723018 150.571233 \r\n",
       "L 284.332965 150.667158 \r\n",
       "L 284.942912 150.916559 \r\n",
       "L 285.552859 150.857425 \r\n",
       "L 286.162806 150.492308 \r\n",
       "L 286.772753 149.976457 \r\n",
       "L 287.382701 150.225021 \r\n",
       "L 288.602595 150.11213 \r\n",
       "L 289.822489 150.603128 \r\n",
       "L 290.432436 150.395861 \r\n",
       "L 291.042384 150.489417 \r\n",
       "L 291.652331 150.433025 \r\n",
       "L 292.262278 150.525976 \r\n",
       "L 292.872225 150.767084 \r\n",
       "L 293.482172 150.858659 \r\n",
       "L 294.092119 150.654019 \r\n",
       "L 295.921961 150.926724 \r\n",
       "L 297.141855 150.814297 \r\n",
       "L 298.36175 150.993363 \r\n",
       "L 298.971697 151.226974 \r\n",
       "L 300.191591 150.826392 \r\n",
       "L 301.411485 150.716516 \r\n",
       "L 302.021433 150.947841 \r\n",
       "L 302.63138 151.035423 \r\n",
       "L 305.071168 150.81689 \r\n",
       "L 305.681116 151.044445 \r\n",
       "L 306.291063 151.130453 \r\n",
       "L 306.90101 150.655883 \r\n",
       "L 307.510957 150.882121 \r\n",
       "L 308.730851 150.775261 \r\n",
       "L 309.340799 150.444946 \r\n",
       "L 309.950746 150.392871 \r\n",
       "L 310.560693 150.479003 \r\n",
       "L 311.17064 150.28949 \r\n",
       "L 311.780587 150.512729 \r\n",
       "L 312.390534 150.597934 \r\n",
       "L 313.000482 150.546123 \r\n",
       "L 313.610429 150.3583 \r\n",
       "L 314.220376 150.579186 \r\n",
       "L 315.44027 150.747193 \r\n",
       "L 316.050217 150.560704 \r\n",
       "L 316.660165 150.509738 \r\n",
       "L 317.880059 150.140603 \r\n",
       "L 318.490006 150.3583 \r\n",
       "L 319.099953 150.174975 \r\n",
       "L 319.7099 150.258548 \r\n",
       "L 320.319848 150.474397 \r\n",
       "L 320.929795 150.556852 \r\n",
       "L 321.539742 150.506855 \r\n",
       "L 322.149689 150.588846 \r\n",
       "L 322.759636 150.539015 \r\n",
       "L 323.369583 150.620542 \r\n",
       "L 323.979531 150.570869 \r\n",
       "L 324.589478 150.782443 \r\n",
       "L 325.199425 150.472218 \r\n",
       "L 326.419319 150.115311 \r\n",
       "L 327.029266 150.067386 \r\n",
       "L 327.639214 149.76171 \r\n",
       "L 328.249161 149.714828 \r\n",
       "L 328.859108 149.796562 \r\n",
       "L 330.688949 149.656979 \r\n",
       "L 331.298897 149.35643 \r\n",
       "L 331.908844 149.311123 \r\n",
       "L 332.518791 149.13938 \r\n",
       "L 333.128738 149.221113 \r\n",
       "L 333.738685 149.176419 \r\n",
       "L 334.348632 148.754579 \r\n",
       "L 334.95858 148.711144 \r\n",
       "L 335.568527 148.79311 \r\n",
       "L 336.178474 148.624846 \r\n",
       "L 337.398368 148.788064 \r\n",
       "L 338.008315 148.745035 \r\n",
       "L 338.618263 148.826015 \r\n",
       "L 339.838157 149.23344 \r\n",
       "L 341.058051 149.391821 \r\n",
       "L 341.667998 149.59294 \r\n",
       "L 342.277946 149.670988 \r\n",
       "L 342.887893 149.626774 \r\n",
       "L 343.49784 149.826063 \r\n",
       "L 344.107787 149.538935 \r\n",
       "L 345.327681 149.451849 \r\n",
       "L 345.937629 149.529192 \r\n",
       "L 348.377417 149.356977 \r\n",
       "L 350.207259 149.942516 \r\n",
       "L 350.817206 149.780416 \r\n",
       "L 351.427153 149.973864 \r\n",
       "L 352.647048 150.122726 \r\n",
       "L 353.256995 150.079142 \r\n",
       "L 353.866942 149.918458 \r\n",
       "L 354.476889 149.875495 \r\n",
       "L 355.086836 149.599112 \r\n",
       "L 356.306731 149.515059 \r\n",
       "L 358.136572 149.043538 \r\n",
       "L 359.356466 149.192863 \r\n",
       "L 360.576361 149.455586 \r\n",
       "L 361.796255 149.716154 \r\n",
       "L 362.406202 149.332969 \r\n",
       "L 363.016149 149.406128 \r\n",
       "L 364.236044 149.664766 \r\n",
       "L 366.065885 149.992537 \r\n",
       "L 367.28578 149.685775 \r\n",
       "L 367.895727 149.868901 \r\n",
       "L 368.505674 149.828018 \r\n",
       "L 369.115621 150.010133 \r\n",
       "L 369.725568 149.969125 \r\n",
       "L 369.725568 149.969125 \r\n",
       "\" style=\"fill:none;stroke:#d62728;stroke-linecap:square;stroke-width:1.5;\"/>\r\n",
       "   </g>\r\n",
       "   <g id=\"line2d_20\">\r\n",
       "    <path clip-path=\"url(#p84dca810d5)\" d=\"M 65.361932 240.700909 \r\n",
       "L 65.971879 185.105455 \r\n",
       "L 66.581826 203.637271 \r\n",
       "L 67.191773 171.206592 \r\n",
       "L 67.80172 151.748185 \r\n",
       "L 68.411668 148.041817 \r\n",
       "L 69.021615 161.278829 \r\n",
       "L 69.631562 157.307725 \r\n",
       "L 70.241509 154.219089 \r\n",
       "L 70.851456 157.307725 \r\n",
       "L 71.461403 164.888924 \r\n",
       "L 72.071351 157.307725 \r\n",
       "L 72.681298 163.722585 \r\n",
       "L 73.291245 157.307725 \r\n",
       "L 73.901192 155.454545 \r\n",
       "L 74.511139 157.307725 \r\n",
       "L 75.121086 162.213206 \r\n",
       "L 75.731034 157.307725 \r\n",
       "L 76.950928 154.527955 \r\n",
       "L 78.170822 157.307725 \r\n",
       "L 78.780769 158.516323 \r\n",
       "L 80.000664 156.195822 \r\n",
       "L 80.610611 153.031152 \r\n",
       "L 81.830505 155.322178 \r\n",
       "L 83.0504 153.601365 \r\n",
       "L 84.270294 155.570369 \r\n",
       "L 84.880241 158.15008 \r\n",
       "L 86.100135 159.690392 \r\n",
       "L 86.710083 158.852047 \r\n",
       "L 87.32003 161.064181 \r\n",
       "L 87.929977 160.233805 \r\n",
       "L 88.539924 158.020487 \r\n",
       "L 89.149871 160.087504 \r\n",
       "L 90.979713 161.832937 \r\n",
       "L 91.58966 162.361861 \r\n",
       "L 92.199607 161.631817 \r\n",
       "L 92.809554 163.350716 \r\n",
       "L 94.639396 161.278829 \r\n",
       "L 95.249343 161.755362 \r\n",
       "L 95.85929 158.942886 \r\n",
       "L 96.469237 157.307725 \r\n",
       "L 97.079185 154.6853 \r\n",
       "L 97.689132 156.278185 \r\n",
       "L 98.299079 156.802312 \r\n",
       "L 98.909026 155.322178 \r\n",
       "L 99.518973 154.869329 \r\n",
       "L 100.12892 152.515019 \r\n",
       "L 100.738868 153.067396 \r\n",
       "L 101.348815 152.674775 \r\n",
       "L 102.568709 155.514325 \r\n",
       "L 103.178656 155.984024 \r\n",
       "L 103.788603 155.570369 \r\n",
       "L 105.618445 156.892836 \r\n",
       "L 106.228392 156.490149 \r\n",
       "L 106.838339 156.904865 \r\n",
       "L 107.448286 155.719289 \r\n",
       "L 108.668181 154.99125 \r\n",
       "L 109.278128 155.403779 \r\n",
       "L 109.888075 156.556441 \r\n",
       "L 110.498022 155.454545 \r\n",
       "L 111.107969 155.113171 \r\n",
       "L 111.717917 155.502677 \r\n",
       "L 113.547758 154.527955 \r\n",
       "L 114.157705 154.905457 \r\n",
       "L 115.3776 156.972813 \r\n",
       "L 117.817388 158.266268 \r\n",
       "L 119.037283 160.118736 \r\n",
       "L 120.257177 158.224134 \r\n",
       "L 120.867124 159.120627 \r\n",
       "L 123.306913 160.203327 \r\n",
       "L 125.136754 159.273225 \r\n",
       "L 125.746701 158.419637 \r\n",
       "L 126.356649 158.68385 \r\n",
       "L 126.966596 157.852779 \r\n",
       "L 127.576543 158.117373 \r\n",
       "L 128.18649 157.842299 \r\n",
       "L 128.796437 157.04299 \r\n",
       "L 129.406384 157.307725 \r\n",
       "L 130.016332 156.528357 \r\n",
       "L 131.236226 157.052707 \r\n",
       "L 131.846173 156.802312 \r\n",
       "L 132.45612 155.55472 \r\n",
       "L 134.285962 156.332373 \r\n",
       "L 135.505856 154.911372 \r\n",
       "L 136.115803 153.743914 \r\n",
       "L 136.72575 153.067396 \r\n",
       "L 137.335698 153.336622 \r\n",
       "L 137.945645 153.13807 \r\n",
       "L 139.165539 153.662123 \r\n",
       "L 139.775486 154.369757 \r\n",
       "L 140.385433 154.169275 \r\n",
       "L 140.995381 154.416762 \r\n",
       "L 141.605328 155.101557 \r\n",
       "L 142.825222 154.701695 \r\n",
       "L 144.045116 153.458816 \r\n",
       "L 144.655064 153.275997 \r\n",
       "L 145.265011 153.51713 \r\n",
       "L 145.874958 152.918617 \r\n",
       "L 146.484905 153.158814 \r\n",
       "L 147.094852 153.807273 \r\n",
       "L 147.704799 154.037405 \r\n",
       "L 148.314747 153.858379 \r\n",
       "L 149.534641 154.307972 \r\n",
       "L 150.144588 153.336622 \r\n",
       "L 150.754535 152.773351 \r\n",
       "L 151.364482 152.609519 \r\n",
       "L 152.584377 153.060852 \r\n",
       "L 153.194324 152.898437 \r\n",
       "L 153.804271 153.499824 \r\n",
       "L 154.414218 152.958424 \r\n",
       "L 155.634113 152.643684 \r\n",
       "L 156.24406 151.748185 \r\n",
       "L 156.854007 151.969096 \r\n",
       "L 158.683848 151.531574 \r\n",
       "L 159.903743 150.536489 \r\n",
       "L 161.123637 151.677809 \r\n",
       "L 162.343531 152.095656 \r\n",
       "L 162.953479 152.645995 \r\n",
       "L 164.173373 151.679972 \r\n",
       "L 164.78332 151.883784 \r\n",
       "L 165.393267 151.748185 \r\n",
       "L 166.003214 150.944394 \r\n",
       "L 166.613162 150.816045 \r\n",
       "L 167.833056 151.879774 \r\n",
       "L 168.443003 152.075219 \r\n",
       "L 169.05295 151.943257 \r\n",
       "L 169.662897 151.166374 \r\n",
       "L 170.272845 151.683915 \r\n",
       "L 170.882792 151.875988 \r\n",
       "L 171.492739 151.748185 \r\n",
       "L 172.102686 150.3583 \r\n",
       "L 172.712633 149.926411 \r\n",
       "L 173.32258 149.811714 \r\n",
       "L 173.932528 149.077114 \r\n",
       "L 174.542475 149.277273 \r\n",
       "L 175.762369 149.060048 \r\n",
       "L 176.372316 149.257018 \r\n",
       "L 178.812105 151.21304 \r\n",
       "L 179.422052 151.393316 \r\n",
       "L 180.031999 151.865848 \r\n",
       "L 181.251894 152.213907 \r\n",
       "L 181.861841 152.674775 \r\n",
       "L 182.471788 151.978631 \r\n",
       "L 183.081735 152.149389 \r\n",
       "L 183.691682 152.603496 \r\n",
       "L 184.301629 152.202028 \r\n",
       "L 184.911577 152.369049 \r\n",
       "L 185.521524 152.253598 \r\n",
       "L 186.131471 152.41868 \r\n",
       "L 186.741418 152.304141 \r\n",
       "L 187.961312 151.528003 \r\n",
       "L 188.57126 151.419536 \r\n",
       "L 189.181207 150.494561 \r\n",
       "L 189.791154 150.934594 \r\n",
       "L 190.401101 151.100472 \r\n",
       "L 191.011048 150.459013 \r\n",
       "L 191.620995 150.892866 \r\n",
       "L 192.230943 150.790562 \r\n",
       "L 193.450837 149.534908 \r\n",
       "L 194.670731 149.868901 \r\n",
       "L 195.280678 150.293351 \r\n",
       "L 195.890626 150.455269 \r\n",
       "L 196.500573 150.3583 \r\n",
       "L 197.11052 150.51842 \r\n",
       "L 197.720467 150.9321 \r\n",
       "L 198.330414 150.580429 \r\n",
       "L 198.940361 150.990066 \r\n",
       "L 199.550309 150.892866 \r\n",
       "L 200.160256 150.546123 \r\n",
       "L 201.38015 150.3583 \r\n",
       "L 201.990097 150.01855 \r\n",
       "L 202.600044 149.927803 \r\n",
       "L 203.819939 149.261019 \r\n",
       "L 204.429886 149.660317 \r\n",
       "L 205.039833 149.814431 \r\n",
       "L 205.64978 150.207873 \r\n",
       "L 206.259727 150.3583 \r\n",
       "L 206.869675 150.746033 \r\n",
       "L 208.089569 150.092148 \r\n",
       "L 208.699516 150.476087 \r\n",
       "L 209.309463 149.918458 \r\n",
       "L 210.529358 150.212909 \r\n",
       "L 211.139305 150.589948 \r\n",
       "L 211.749252 150.733159 \r\n",
       "L 212.969146 150.558484 \r\n",
       "L 213.579093 150.700072 \r\n",
       "L 214.189041 150.386666 \r\n",
       "L 214.798988 150.527798 \r\n",
       "L 215.408935 149.992537 \r\n",
       "L 216.018882 150.3583 \r\n",
       "L 216.628829 150.27457 \r\n",
       "L 217.238776 149.969125 \r\n",
       "L 217.848724 150.109115 \r\n",
       "L 218.458671 150.027373 \r\n",
       "L 219.068618 150.385763 \r\n",
       "L 219.678565 150.084701 \r\n",
       "L 220.288512 150.222031 \r\n",
       "L 220.898459 150.141125 \r\n",
       "L 221.508407 149.844528 \r\n",
       "L 222.118354 149.981196 \r\n",
       "L 222.728301 149.902155 \r\n",
       "L 223.338248 150.251382 \r\n",
       "L 223.948195 150.17191 \r\n",
       "L 225.16809 150.437565 \r\n",
       "L 225.778037 150.3583 \r\n",
       "L 226.387984 150.06983 \r\n",
       "L 226.997931 150.201543 \r\n",
       "L 228.217825 150.87691 \r\n",
       "L 228.827773 149.970782 \r\n",
       "L 230.047667 150.230075 \r\n",
       "L 230.657614 150.1539 \r\n",
       "L 231.267561 149.670988 \r\n",
       "L 231.877508 149.597414 \r\n",
       "L 233.097403 150.257579 \r\n",
       "L 233.70735 150.18268 \r\n",
       "L 234.317297 149.908335 \r\n",
       "L 235.537191 150.15974 \r\n",
       "L 236.147139 149.690555 \r\n",
       "L 237.367033 149.54794 \r\n",
       "L 237.97698 149.868901 \r\n",
       "L 238.586927 149.992537 \r\n",
       "L 239.196874 150.309696 \r\n",
       "L 240.416769 149.779181 \r\n",
       "L 241.026716 149.324295 \r\n",
       "L 241.636663 149.255974 \r\n",
       "L 242.856557 149.501514 \r\n",
       "L 244.076452 150.121922 \r\n",
       "L 244.686399 150.240513 \r\n",
       "L 245.296346 150.546123 \r\n",
       "L 245.906293 150.662477 \r\n",
       "L 246.51624 150.964625 \r\n",
       "L 247.126188 150.892866 \r\n",
       "L 247.736135 151.006908 \r\n",
       "L 248.346082 150.935489 \r\n",
       "L 248.956029 151.232732 \r\n",
       "L 249.565976 150.977557 \r\n",
       "L 250.175923 151.089818 \r\n",
       "L 251.395818 150.585399 \r\n",
       "L 252.005765 150.697843 \r\n",
       "L 253.225659 150.200864 \r\n",
       "L 255.055501 151.071062 \r\n",
       "L 256.275395 150.933724 \r\n",
       "L 256.885342 151.218706 \r\n",
       "L 257.495289 151.150004 \r\n",
       "L 258.715184 150.66425 \r\n",
       "L 259.325131 150.597934 \r\n",
       "L 259.935078 150.705771 \r\n",
       "L 260.545025 150.639737 \r\n",
       "L 261.154972 150.746771 \r\n",
       "L 261.76492 151.025266 \r\n",
       "L 262.374867 151.130453 \r\n",
       "L 262.984814 150.892866 \r\n",
       "L 264.204708 151.10212 \r\n",
       "L 264.814655 151.036293 \r\n",
       "L 265.424603 150.801878 \r\n",
       "L 266.644497 150.673222 \r\n",
       "L 267.254444 150.776934 \r\n",
       "L 268.474338 150.649587 \r\n",
       "L 269.084286 150.918398 \r\n",
       "L 269.694233 150.854683 \r\n",
       "L 270.30418 150.956316 \r\n",
       "L 271.524074 150.829788 \r\n",
       "L 272.134021 151.094118 \r\n",
       "L 273.353916 150.967897 \r\n",
       "L 273.963863 150.74325 \r\n",
       "L 274.57381 150.843143 \r\n",
       "L 275.183757 150.297866 \r\n",
       "L 275.793704 150.559146 \r\n",
       "L 276.403652 150.658708 \r\n",
       "L 278.233493 150.477429 \r\n",
       "L 278.84344 150.576088 \r\n",
       "L 279.453387 150.832125 \r\n",
       "L 280.673282 151.025755 \r\n",
       "L 281.893176 150.592549 \r\n",
       "L 283.11307 150.785359 \r\n",
       "L 283.723018 150.571233 \r\n",
       "L 284.942912 149.838531 \r\n",
       "L 285.552859 149.628795 \r\n",
       "L 286.162806 149.726534 \r\n",
       "L 286.772753 149.976457 \r\n",
       "L 287.992648 150.168422 \r\n",
       "L 288.602595 149.809162 \r\n",
       "L 290.432436 149.644569 \r\n",
       "L 291.652331 149.835225 \r\n",
       "L 292.262278 149.780731 \r\n",
       "L 294.092119 150.062573 \r\n",
       "L 294.702067 150.302994 \r\n",
       "L 295.312014 150.100913 \r\n",
       "L 296.531908 149.992537 \r\n",
       "L 297.141855 150.084701 \r\n",
       "L 298.971697 149.923959 \r\n",
       "L 299.581644 150.15974 \r\n",
       "L 300.191591 150.250272 \r\n",
       "L 300.801538 149.90937 \r\n",
       "L 302.021433 149.80449 \r\n",
       "L 302.63138 149.609899 \r\n",
       "L 303.241327 149.274117 \r\n",
       "L 304.461221 148.890608 \r\n",
       "L 305.071168 148.841416 \r\n",
       "L 305.681116 148.651729 \r\n",
       "L 308.120904 149.017177 \r\n",
       "L 308.730851 149.246389 \r\n",
       "L 309.340799 149.058524 \r\n",
       "L 309.950746 149.148194 \r\n",
       "L 310.560693 149.099466 \r\n",
       "L 311.17064 149.188589 \r\n",
       "L 312.390534 149.091653 \r\n",
       "L 313.000482 148.906945 \r\n",
       "L 313.610429 148.995662 \r\n",
       "L 314.220376 148.812089 \r\n",
       "L 314.830323 148.765009 \r\n",
       "L 315.44027 148.988704 \r\n",
       "L 316.050217 148.806481 \r\n",
       "L 317.880059 149.068888 \r\n",
       "L 319.099953 148.708435 \r\n",
       "L 319.7099 148.662507 \r\n",
       "L 320.319848 148.882167 \r\n",
       "L 320.929795 148.703672 \r\n",
       "L 321.539742 148.790135 \r\n",
       "L 322.149689 148.480963 \r\n",
       "L 322.759636 148.436111 \r\n",
       "L 323.369583 148.5226 \r\n",
       "L 323.979531 148.739485 \r\n",
       "L 325.199425 148.90982 \r\n",
       "L 325.809372 148.864496 \r\n",
       "L 326.419319 148.689787 \r\n",
       "L 327.639214 149.116755 \r\n",
       "L 328.859108 149.282981 \r\n",
       "L 330.688949 149.146927 \r\n",
       "L 331.298897 148.974769 \r\n",
       "L 333.128738 149.221113 \r\n",
       "L 334.348632 149.63505 \r\n",
       "L 334.95858 149.589627 \r\n",
       "L 335.568527 149.669612 \r\n",
       "L 336.178474 149.499377 \r\n",
       "L 336.788421 149.454558 \r\n",
       "L 337.398368 149.534312 \r\n",
       "L 338.008315 149.737809 \r\n",
       "L 338.618263 149.568941 \r\n",
       "L 339.22821 149.647907 \r\n",
       "L 339.838157 149.23344 \r\n",
       "L 340.448104 149.189807 \r\n",
       "L 341.058051 149.269096 \r\n",
       "L 341.667998 149.470481 \r\n",
       "L 343.49784 148.974496 \r\n",
       "L 344.717734 148.88968 \r\n",
       "L 346.547576 149.124849 \r\n",
       "L 347.157523 148.842327 \r\n",
       "L 347.76747 149.040299 \r\n",
       "L 348.987365 148.717871 \r\n",
       "L 349.597312 148.3196 \r\n",
       "L 350.817206 148.476464 \r\n",
       "L 351.427153 148.199535 \r\n",
       "L 352.0371 148.395932 \r\n",
       "L 353.256995 148.081002 \r\n",
       "L 353.866942 148.159107 \r\n",
       "L 354.476889 148.119847 \r\n",
       "L 355.086836 148.314348 \r\n",
       "L 355.696783 148.041817 \r\n",
       "L 356.306731 148.235671 \r\n",
       "L 358.136572 148.46562 \r\n",
       "L 358.746519 148.426294 \r\n",
       "L 359.966414 148.577865 \r\n",
       "L 360.576361 148.538548 \r\n",
       "L 361.186308 148.613786 \r\n",
       "L 361.796255 148.57456 \r\n",
       "L 362.406202 148.763344 \r\n",
       "L 363.016149 148.723968 \r\n",
       "L 363.626097 148.344378 \r\n",
       "L 364.236044 148.532475 \r\n",
       "L 364.845991 148.267814 \r\n",
       "L 367.28578 148.564892 \r\n",
       "L 367.895727 148.526552 \r\n",
       "L 369.725568 148.190074 \r\n",
       "L 369.725568 148.190074 \r\n",
       "\" style=\"fill:none;stroke:#9467bd;stroke-linecap:square;stroke-width:1.5;\"/>\r\n",
       "   </g>\r\n",
       "   <g id=\"line2d_21\">\r\n",
       "    <path clip-path=\"url(#p84dca810d5)\" d=\"M 65.361932 129.51 \r\n",
       "L 65.971879 101.712275 \r\n",
       "L 66.581826 55.382725 \r\n",
       "L 67.191773 101.712275 \r\n",
       "L 67.80172 118.390912 \r\n",
       "L 68.411668 110.978183 \r\n",
       "L 69.021615 121.567793 \r\n",
       "L 69.631562 115.611142 \r\n",
       "L 70.241509 123.332728 \r\n",
       "L 70.851456 123.95046 \r\n",
       "L 71.461403 119.401737 \r\n",
       "L 72.071351 124.87705 \r\n",
       "L 72.681298 116.680281 \r\n",
       "L 73.291245 125.538896 \r\n",
       "L 74.511139 119.085854 \r\n",
       "L 75.731034 126.421364 \r\n",
       "L 76.340981 129.51 \r\n",
       "L 76.950928 129.51 \r\n",
       "L 77.560875 134.804805 \r\n",
       "L 78.170822 134.564136 \r\n",
       "L 78.780769 129.51 \r\n",
       "L 79.390717 129.51 \r\n",
       "L 80.000664 131.733823 \r\n",
       "L 81.220558 131.569096 \r\n",
       "L 81.830505 129.51 \r\n",
       "L 83.0504 136.922728 \r\n",
       "L 83.660347 138.477008 \r\n",
       "L 84.270294 141.67151 \r\n",
       "L 84.880241 137.933554 \r\n",
       "L 85.490188 139.320962 \r\n",
       "L 86.100135 139.040652 \r\n",
       "L 87.32003 144.535798 \r\n",
       "L 87.929977 142.677349 \r\n",
       "L 89.149871 144.798752 \r\n",
       "L 90.369766 144.070713 \r\n",
       "L 90.979713 146.317931 \r\n",
       "L 91.58966 147.199462 \r\n",
       "L 92.199607 146.806369 \r\n",
       "L 92.809554 148.847554 \r\n",
       "L 93.419502 147.253228 \r\n",
       "L 94.029449 149.200054 \r\n",
       "L 94.639396 147.663619 \r\n",
       "L 95.249343 148.412459 \r\n",
       "L 95.85929 148.041817 \r\n",
       "L 96.469237 145.547153 \r\n",
       "L 97.079185 147.342508 \r\n",
       "L 99.518973 149.992537 \r\n",
       "L 100.738868 151.182802 \r\n",
       "L 101.348815 150.821595 \r\n",
       "L 102.568709 153.720925 \r\n",
       "L 103.178656 153.336622 \r\n",
       "L 104.398551 150.892866 \r\n",
       "L 105.008498 152.253598 \r\n",
       "L 105.618445 151.914138 \r\n",
       "L 106.228392 149.949508 \r\n",
       "L 106.838339 149.653284 \r\n",
       "L 107.448286 150.15974 \r\n",
       "L 108.058234 149.868901 \r\n",
       "L 108.668181 150.3583 \r\n",
       "L 109.278128 150.072705 \r\n",
       "L 109.888075 151.297408 \r\n",
       "L 111.717917 148.282494 \r\n",
       "L 112.327864 148.041817 \r\n",
       "L 112.937811 148.510977 \r\n",
       "L 113.547758 148.273464 \r\n",
       "L 114.157705 146.669089 \r\n",
       "L 114.767652 146.459834 \r\n",
       "L 115.3776 146.925448 \r\n",
       "L 115.987547 146.056269 \r\n",
       "L 117.207441 146.964385 \r\n",
       "L 117.817388 146.124731 \r\n",
       "L 118.427335 146.567696 \r\n",
       "L 119.037283 145.751371 \r\n",
       "L 119.64723 146.188637 \r\n",
       "L 121.477071 149.237417 \r\n",
       "L 122.087018 149.618995 \r\n",
       "L 122.696966 149.407321 \r\n",
       "L 123.306913 149.779181 \r\n",
       "L 123.91686 150.716516 \r\n",
       "L 125.136754 150.288098 \r\n",
       "L 125.746701 150.636274 \r\n",
       "L 126.356649 150.427102 \r\n",
       "L 126.966596 150.767084 \r\n",
       "L 127.576543 150.560704 \r\n",
       "L 128.18649 151.427439 \r\n",
       "L 129.406384 151.0139 \r\n",
       "L 130.016332 151.852096 \r\n",
       "L 130.626279 151.645227 \r\n",
       "L 132.45612 152.549557 \r\n",
       "L 133.066067 153.336622 \r\n",
       "L 134.285962 153.893969 \r\n",
       "L 134.895909 153.198496 \r\n",
       "L 135.505856 153.473562 \r\n",
       "L 136.115803 152.793565 \r\n",
       "L 136.72575 153.538545 \r\n",
       "L 137.335698 153.336622 \r\n",
       "L 137.945645 152.21148 \r\n",
       "L 138.555592 152.483332 \r\n",
       "L 140.385433 154.617625 \r\n",
       "L 140.995381 153.527237 \r\n",
       "L 141.605328 154.219089 \r\n",
       "L 142.215275 154.024531 \r\n",
       "L 142.825222 154.267354 \r\n",
       "L 143.435169 154.937377 \r\n",
       "L 144.045116 154.741783 \r\n",
       "L 144.655064 154.973571 \r\n",
       "L 145.265011 153.938307 \r\n",
       "L 145.874958 154.172647 \r\n",
       "L 147.704799 153.628621 \r\n",
       "L 148.924694 154.084808 \r\n",
       "L 149.534641 154.707941 \r\n",
       "L 150.144588 154.925066 \r\n",
       "L 151.97443 154.391884 \r\n",
       "L 152.584377 154.605174 \r\n",
       "L 153.194324 155.198939 \r\n",
       "L 153.804271 155.022988 \r\n",
       "L 154.414218 155.605826 \r\n",
       "L 155.024165 155.805148 \r\n",
       "L 155.634113 155.628674 \r\n",
       "L 156.24406 154.713276 \r\n",
       "L 158.073901 155.309196 \r\n",
       "L 158.683848 155.863694 \r\n",
       "L 159.293796 155.334985 \r\n",
       "L 159.903743 155.525824 \r\n",
       "L 160.51369 155.006005 \r\n",
       "L 161.733584 155.384617 \r\n",
       "L 162.343531 155.222898 \r\n",
       "L 162.953479 155.408509 \r\n",
       "L 163.563426 154.905457 \r\n",
       "L 164.173373 154.749653 \r\n",
       "L 165.393267 155.117603 \r\n",
       "L 166.003214 155.633164 \r\n",
       "L 166.613162 155.476739 \r\n",
       "L 167.833056 155.827375 \r\n",
       "L 168.443003 155.672565 \r\n",
       "L 169.05295 155.844689 \r\n",
       "L 169.662897 155.691578 \r\n",
       "L 170.882792 156.029671 \r\n",
       "L 171.492739 155.878133 \r\n",
       "L 172.102686 156.360076 \r\n",
       "L 172.712633 156.208381 \r\n",
       "L 173.32258 156.37073 \r\n",
       "L 174.542475 157.307725 \r\n",
       "L 175.152422 156.539839 \r\n",
       "L 176.372316 156.852027 \r\n",
       "L 176.982263 156.70343 \r\n",
       "L 177.592211 156.255925 \r\n",
       "L 178.202158 156.112125 \r\n",
       "L 178.812105 156.267175 \r\n",
       "L 179.422052 156.12485 \r\n",
       "L 180.031999 155.689871 \r\n",
       "L 180.641946 155.844689 \r\n",
       "L 181.251894 156.288963 \r\n",
       "L 181.861841 155.859932 \r\n",
       "L 183.081735 155.58828 \r\n",
       "L 183.691682 154.88434 \r\n",
       "L 184.301629 154.754872 \r\n",
       "L 184.911577 155.191152 \r\n",
       "L 186.131471 154.933044 \r\n",
       "L 187.351365 155.786458 \r\n",
       "L 187.961312 155.381154 \r\n",
       "L 189.181207 155.672565 \r\n",
       "L 189.791154 155.273747 \r\n",
       "L 191.011048 156.099135 \r\n",
       "L 191.620995 156.238586 \r\n",
       "L 192.230943 156.1107 \r\n",
       "L 192.84089 156.513511 \r\n",
       "L 193.450837 156.122042 \r\n",
       "L 194.670731 155.872168 \r\n",
       "L 195.280678 156.008769 \r\n",
       "L 197.11052 155.642426 \r\n",
       "L 197.720467 155.777578 \r\n",
       "L 198.940361 155.538781 \r\n",
       "L 199.550309 155.672565 \r\n",
       "L 200.160256 155.55472 \r\n",
       "L 200.770203 155.687237 \r\n",
       "L 201.38015 155.570369 \r\n",
       "L 201.990097 155.701635 \r\n",
       "L 203.209992 156.450533 \r\n",
       "L 203.819939 156.576207 \r\n",
       "L 204.429886 156.943569 \r\n",
       "L 205.64978 157.187395 \r\n",
       "L 207.479622 156.83255 \r\n",
       "L 208.699516 157.072151 \r\n",
       "L 209.309463 156.721275 \r\n",
       "L 209.91941 157.074131 \r\n",
       "L 211.139305 157.307725 \r\n",
       "L 211.749252 157.192382 \r\n",
       "L 212.359199 157.537459 \r\n",
       "L 212.969146 157.650913 \r\n",
       "L 213.579093 157.307725 \r\n",
       "L 214.189041 157.421188 \r\n",
       "L 214.798988 156.403735 \r\n",
       "L 215.408935 156.51994 \r\n",
       "L 216.018882 156.411025 \r\n",
       "L 216.628829 156.749541 \r\n",
       "L 217.848724 156.532491 \r\n",
       "L 219.678565 156.869971 \r\n",
       "L 220.288512 156.762672 \r\n",
       "L 222.118354 157.092241 \r\n",
       "L 222.728301 156.771097 \r\n",
       "L 223.338248 156.88007 \r\n",
       "L 224.558142 156.671138 \r\n",
       "L 225.16809 156.990641 \r\n",
       "L 225.778037 156.675959 \r\n",
       "L 226.387984 156.783242 \r\n",
       "L 226.997931 156.680715 \r\n",
       "L 227.607878 156.787169 \r\n",
       "L 228.217825 156.685395 \r\n",
       "L 228.827773 156.791046 \r\n",
       "L 229.43772 156.484093 \r\n",
       "L 230.657614 155.468173 \r\n",
       "L 232.487456 155.791487 \r\n",
       "L 233.097403 155.494832 \r\n",
       "L 233.70735 155.601734 \r\n",
       "L 234.317297 155.907841 \r\n",
       "L 234.927244 155.813225 \r\n",
       "L 235.537191 155.91784 \r\n",
       "L 236.147139 155.823862 \r\n",
       "L 237.367033 156.030798 \r\n",
       "L 237.97698 155.741657 \r\n",
       "L 238.586927 155.649617 \r\n",
       "L 239.196874 155.752608 \r\n",
       "L 239.806822 156.048601 \r\n",
       "L 240.416769 156.149488 \r\n",
       "L 241.636663 155.965765 \r\n",
       "L 242.24661 156.065907 \r\n",
       "L 243.466505 155.884636 \r\n",
       "L 244.076452 155.416727 \r\n",
       "L 244.686399 155.328904 \r\n",
       "L 245.296346 155.053855 \r\n",
       "L 245.906293 154.967855 \r\n",
       "L 246.51624 154.695863 \r\n",
       "L 247.126188 154.983504 \r\n",
       "L 247.736135 154.89859 \r\n",
       "L 248.346082 154.998946 \r\n",
       "L 248.956029 155.282727 \r\n",
       "L 249.565976 155.197672 \r\n",
       "L 250.175923 154.930294 \r\n",
       "L 250.785871 155.029226 \r\n",
       "L 251.395818 155.309196 \r\n",
       "L 252.615712 155.502677 \r\n",
       "L 253.225659 155.238638 \r\n",
       "L 254.445554 155.430711 \r\n",
       "L 255.055501 154.99125 \r\n",
       "L 255.665448 154.90984 \r\n",
       "L 256.275395 155.006005 \r\n",
       "L 256.885342 154.925066 \r\n",
       "L 258.715184 155.209784 \r\n",
       "L 259.325131 155.129226 \r\n",
       "L 260.545025 155.315989 \r\n",
       "L 261.76492 155.1562 \r\n",
       "L 262.984814 155.340503 \r\n",
       "L 263.594761 154.920195 \r\n",
       "L 265.424603 155.195443 \r\n",
       "L 266.03455 155.454545 \r\n",
       "L 267.864391 155.721675 \r\n",
       "L 269.084286 155.565183 \r\n",
       "L 269.694233 155.653105 \r\n",
       "L 270.30418 155.57553 \r\n",
       "L 270.914127 155.662889 \r\n",
       "L 271.524074 155.421747 \r\n",
       "L 272.134021 155.345539 \r\n",
       "L 272.743969 155.595843 \r\n",
       "L 273.353916 155.357013 \r\n",
       "L 273.963863 155.443742 \r\n",
       "L 274.57381 155.206735 \r\n",
       "L 275.183757 155.13225 \r\n",
       "L 275.793704 155.379563 \r\n",
       "L 276.403652 155.305012 \r\n",
       "L 277.013599 155.390648 \r\n",
       "L 278.233493 155.242755 \r\n",
       "L 278.84344 155.01105 \r\n",
       "L 279.453387 154.938603 \r\n",
       "L 280.063335 155.024065 \r\n",
       "L 280.673282 154.951991 \r\n",
       "L 281.283229 155.193538 \r\n",
       "L 281.893176 155.277558 \r\n",
       "L 282.503123 155.049647 \r\n",
       "L 283.11307 154.97831 \r\n",
       "L 283.723018 155.062231 \r\n",
       "L 284.332965 154.836821 \r\n",
       "L 284.942912 154.920667 \r\n",
       "L 285.552859 155.157625 \r\n",
       "L 286.772753 155.322178 \r\n",
       "L 287.382701 155.099146 \r\n",
       "L 287.992648 155.33303 \r\n",
       "L 289.212542 155.192685 \r\n",
       "L 289.822489 154.97242 \r\n",
       "L 290.432436 155.204117 \r\n",
       "L 291.042384 155.284716 \r\n",
       "L 291.652331 155.514325 \r\n",
       "L 292.262278 155.444612 \r\n",
       "L 292.872225 155.523918 \r\n",
       "L 294.092119 155.385545 \r\n",
       "L 294.702067 155.169439 \r\n",
       "L 295.312014 155.248637 \r\n",
       "L 295.921961 155.034039 \r\n",
       "L 298.36175 155.348099 \r\n",
       "L 298.971697 155.280814 \r\n",
       "L 299.581644 155.069471 \r\n",
       "L 300.191591 155.147286 \r\n",
       "L 300.801538 155.368355 \r\n",
       "L 302.021433 155.235407 \r\n",
       "L 302.63138 155.454545 \r\n",
       "L 303.851274 155.605826 \r\n",
       "L 304.461221 155.822355 \r\n",
       "L 305.071168 155.896674 \r\n",
       "L 305.681116 155.829877 \r\n",
       "L 306.90101 155.977355 \r\n",
       "L 307.510957 155.631483 \r\n",
       "L 308.120904 155.844689 \r\n",
       "L 308.730851 155.91784 \r\n",
       "L 309.340799 156.129274 \r\n",
       "L 309.950746 155.924758 \r\n",
       "L 311.17064 156.344444 \r\n",
       "L 311.780587 156.278185 \r\n",
       "L 312.390534 156.349182 \r\n",
       "L 313.000482 156.146646 \r\n",
       "L 313.610429 156.217618 \r\n",
       "L 314.220376 155.880461 \r\n",
       "L 314.830323 155.816141 \r\n",
       "L 315.44027 155.616869 \r\n",
       "L 316.050217 155.688446 \r\n",
       "L 316.660165 155.894288 \r\n",
       "L 317.270112 155.964846 \r\n",
       "L 317.880059 155.633164 \r\n",
       "L 318.490006 155.570369 \r\n",
       "L 319.7099 155.711684 \r\n",
       "L 320.319848 155.649153 \r\n",
       "L 322.759636 155.927699 \r\n",
       "L 323.369583 155.865392 \r\n",
       "L 324.589478 155.480649 \r\n",
       "L 327.029266 155.756229 \r\n",
       "L 327.639214 155.953314 \r\n",
       "L 328.249161 155.892101 \r\n",
       "L 328.859108 155.702778 \r\n",
       "L 329.469055 155.642426 \r\n",
       "L 330.079002 155.710159 \r\n",
       "L 330.688949 155.905091 \r\n",
       "L 331.908844 156.038427 \r\n",
       "L 332.518791 156.231279 \r\n",
       "L 333.128738 156.170547 \r\n",
       "L 333.738685 155.731898 \r\n",
       "L 334.348632 155.924128 \r\n",
       "L 335.568527 156.055576 \r\n",
       "L 336.788421 156.435158 \r\n",
       "L 337.398368 156.499295 \r\n",
       "L 338.008315 156.314951 \r\n",
       "L 338.618263 156.379072 \r\n",
       "L 339.22821 156.566457 \r\n",
       "L 341.058051 156.755456 \r\n",
       "L 342.277946 156.391317 \r\n",
       "L 342.887893 156.454286 \r\n",
       "L 344.717734 157.004923 \r\n",
       "L 345.327681 156.945152 \r\n",
       "L 345.937629 157.126836 \r\n",
       "L 346.547576 157.067056 \r\n",
       "L 347.157523 157.247688 \r\n",
       "L 347.76747 157.307725 \r\n",
       "L 348.377417 157.128385 \r\n",
       "L 349.597312 157.248202 \r\n",
       "L 352.0371 157.012636 \r\n",
       "L 352.647048 156.718798 \r\n",
       "L 353.866942 157.073145 \r\n",
       "L 354.476889 157.015121 \r\n",
       "L 355.086836 157.074131 \r\n",
       "L 356.306731 156.958804 \r\n",
       "L 356.916678 157.133629 \r\n",
       "L 357.526625 157.076078 \r\n",
       "L 358.136572 156.903191 \r\n",
       "L 360.576361 156.677268 \r\n",
       "L 361.796255 156.794012 \r\n",
       "L 363.016149 157.137191 \r\n",
       "L 363.626097 157.080808 \r\n",
       "L 364.236044 156.911426 \r\n",
       "L 366.065885 157.082647 \r\n",
       "L 366.675832 157.026943 \r\n",
       "L 367.28578 156.747288 \r\n",
       "L 367.895727 156.692487 \r\n",
       "L 368.505674 156.749541 \r\n",
       "L 369.115621 156.583539 \r\n",
       "L 369.725568 156.640585 \r\n",
       "L 369.725568 156.640585 \r\n",
       "\" style=\"fill:none;stroke:#8c564b;stroke-linecap:square;stroke-width:1.5;\"/>\r\n",
       "   </g>\r\n",
       "   <g id=\"line2d_22\">\r\n",
       "    <path clip-path=\"url(#p84dca810d5)\" d=\"M 50.14375 147.856501 \r\n",
       "L 384.94375 147.856501 \r\n",
       "\" style=\"fill:none;stroke:#000000;stroke-dasharray:5.55,2.4;stroke-dashoffset:0;stroke-width:1.5;\"/>\r\n",
       "   </g>\r\n",
       "   <g id=\"patch_3\">\r\n",
       "    <path d=\"M 50.14375 251.82 \r\n",
       "L 50.14375 7.2 \r\n",
       "\" style=\"fill:none;stroke:#000000;stroke-linecap:square;stroke-linejoin:miter;stroke-width:0.8;\"/>\r\n",
       "   </g>\r\n",
       "   <g id=\"patch_4\">\r\n",
       "    <path d=\"M 384.94375 251.82 \r\n",
       "L 384.94375 7.2 \r\n",
       "\" style=\"fill:none;stroke:#000000;stroke-linecap:square;stroke-linejoin:miter;stroke-width:0.8;\"/>\r\n",
       "   </g>\r\n",
       "   <g id=\"patch_5\">\r\n",
       "    <path d=\"M 50.14375 251.82 \r\n",
       "L 384.94375 251.82 \r\n",
       "\" style=\"fill:none;stroke:#000000;stroke-linecap:square;stroke-linejoin:miter;stroke-width:0.8;\"/>\r\n",
       "   </g>\r\n",
       "   <g id=\"patch_6\">\r\n",
       "    <path d=\"M 50.14375 7.2 \r\n",
       "L 384.94375 7.2 \r\n",
       "\" style=\"fill:none;stroke:#000000;stroke-linecap:square;stroke-linejoin:miter;stroke-width:0.8;\"/>\r\n",
       "   </g>\r\n",
       "   <g id=\"legend_1\">\r\n",
       "    <g id=\"patch_7\">\r\n",
       "     <path d=\"M 302.089063 103.26875 \r\n",
       "L 377.94375 103.26875 \r\n",
       "Q 379.94375 103.26875 379.94375 101.26875 \r\n",
       "L 379.94375 14.2 \r\n",
       "Q 379.94375 12.2 377.94375 12.2 \r\n",
       "L 302.089063 12.2 \r\n",
       "Q 300.089063 12.2 300.089063 14.2 \r\n",
       "L 300.089063 101.26875 \r\n",
       "Q 300.089063 103.26875 302.089063 103.26875 \r\n",
       "z\r\n",
       "\" style=\"fill:#ffffff;opacity:0.8;stroke:#cccccc;stroke-linejoin:miter;\"/>\r\n",
       "    </g>\r\n",
       "    <g id=\"line2d_23\">\r\n",
       "     <path d=\"M 304.089063 20.298437 \r\n",
       "L 324.089063 20.298437 \r\n",
       "\" style=\"fill:none;stroke:#1f77b4;stroke-linecap:square;stroke-width:1.5;\"/>\r\n",
       "    </g>\r\n",
       "    <g id=\"line2d_24\"/>\r\n",
       "    <g id=\"text_18\">\r\n",
       "     <!-- P(die=1) -->\r\n",
       "     <defs>\r\n",
       "      <path d=\"M 19.671875 64.796875 \r\n",
       "L 19.671875 37.40625 \r\n",
       "L 32.078125 37.40625 \r\n",
       "Q 38.96875 37.40625 42.71875 40.96875 \r\n",
       "Q 46.484375 44.53125 46.484375 51.125 \r\n",
       "Q 46.484375 57.671875 42.71875 61.234375 \r\n",
       "Q 38.96875 64.796875 32.078125 64.796875 \r\n",
       "z\r\n",
       "M 9.8125 72.90625 \r\n",
       "L 32.078125 72.90625 \r\n",
       "Q 44.34375 72.90625 50.609375 67.359375 \r\n",
       "Q 56.890625 61.8125 56.890625 51.125 \r\n",
       "Q 56.890625 40.328125 50.609375 34.8125 \r\n",
       "Q 44.34375 29.296875 32.078125 29.296875 \r\n",
       "L 19.671875 29.296875 \r\n",
       "L 19.671875 0 \r\n",
       "L 9.8125 0 \r\n",
       "z\r\n",
       "\" id=\"DejaVuSans-80\"/>\r\n",
       "      <path d=\"M 31 75.875 \r\n",
       "Q 24.46875 64.65625 21.28125 53.65625 \r\n",
       "Q 18.109375 42.671875 18.109375 31.390625 \r\n",
       "Q 18.109375 20.125 21.3125 9.0625 \r\n",
       "Q 24.515625 -2 31 -13.1875 \r\n",
       "L 23.1875 -13.1875 \r\n",
       "Q 15.875 -1.703125 12.234375 9.375 \r\n",
       "Q 8.59375 20.453125 8.59375 31.390625 \r\n",
       "Q 8.59375 42.28125 12.203125 53.3125 \r\n",
       "Q 15.828125 64.359375 23.1875 75.875 \r\n",
       "z\r\n",
       "\" id=\"DejaVuSans-40\"/>\r\n",
       "      <path d=\"M 10.59375 45.40625 \r\n",
       "L 73.1875 45.40625 \r\n",
       "L 73.1875 37.203125 \r\n",
       "L 10.59375 37.203125 \r\n",
       "z\r\n",
       "M 10.59375 25.484375 \r\n",
       "L 73.1875 25.484375 \r\n",
       "L 73.1875 17.1875 \r\n",
       "L 10.59375 17.1875 \r\n",
       "z\r\n",
       "\" id=\"DejaVuSans-61\"/>\r\n",
       "      <path d=\"M 8.015625 75.875 \r\n",
       "L 15.828125 75.875 \r\n",
       "Q 23.140625 64.359375 26.78125 53.3125 \r\n",
       "Q 30.421875 42.28125 30.421875 31.390625 \r\n",
       "Q 30.421875 20.453125 26.78125 9.375 \r\n",
       "Q 23.140625 -1.703125 15.828125 -13.1875 \r\n",
       "L 8.015625 -13.1875 \r\n",
       "Q 14.5 -2 17.703125 9.0625 \r\n",
       "Q 20.90625 20.125 20.90625 31.390625 \r\n",
       "Q 20.90625 42.671875 17.703125 53.65625 \r\n",
       "Q 14.5 64.65625 8.015625 75.875 \r\n",
       "z\r\n",
       "\" id=\"DejaVuSans-41\"/>\r\n",
       "     </defs>\r\n",
       "     <g transform=\"translate(332.089063 23.798437)scale(0.1 -0.1)\">\r\n",
       "      <use xlink:href=\"#DejaVuSans-80\"/>\r\n",
       "      <use x=\"60.302734\" xlink:href=\"#DejaVuSans-40\"/>\r\n",
       "      <use x=\"99.316406\" xlink:href=\"#DejaVuSans-100\"/>\r\n",
       "      <use x=\"162.792969\" xlink:href=\"#DejaVuSans-105\"/>\r\n",
       "      <use x=\"190.576172\" xlink:href=\"#DejaVuSans-101\"/>\r\n",
       "      <use x=\"252.099609\" xlink:href=\"#DejaVuSans-61\"/>\r\n",
       "      <use x=\"335.888672\" xlink:href=\"#DejaVuSans-49\"/>\r\n",
       "      <use x=\"399.511719\" xlink:href=\"#DejaVuSans-41\"/>\r\n",
       "     </g>\r\n",
       "    </g>\r\n",
       "    <g id=\"line2d_25\">\r\n",
       "     <path d=\"M 304.089063 34.976562 \r\n",
       "L 324.089063 34.976562 \r\n",
       "\" style=\"fill:none;stroke:#ff7f0e;stroke-linecap:square;stroke-width:1.5;\"/>\r\n",
       "    </g>\r\n",
       "    <g id=\"line2d_26\"/>\r\n",
       "    <g id=\"text_19\">\r\n",
       "     <!-- P(die=2) -->\r\n",
       "     <g transform=\"translate(332.089063 38.476562)scale(0.1 -0.1)\">\r\n",
       "      <use xlink:href=\"#DejaVuSans-80\"/>\r\n",
       "      <use x=\"60.302734\" xlink:href=\"#DejaVuSans-40\"/>\r\n",
       "      <use x=\"99.316406\" xlink:href=\"#DejaVuSans-100\"/>\r\n",
       "      <use x=\"162.792969\" xlink:href=\"#DejaVuSans-105\"/>\r\n",
       "      <use x=\"190.576172\" xlink:href=\"#DejaVuSans-101\"/>\r\n",
       "      <use x=\"252.099609\" xlink:href=\"#DejaVuSans-61\"/>\r\n",
       "      <use x=\"335.888672\" xlink:href=\"#DejaVuSans-50\"/>\r\n",
       "      <use x=\"399.511719\" xlink:href=\"#DejaVuSans-41\"/>\r\n",
       "     </g>\r\n",
       "    </g>\r\n",
       "    <g id=\"line2d_27\">\r\n",
       "     <path d=\"M 304.089063 49.654687 \r\n",
       "L 324.089063 49.654687 \r\n",
       "\" style=\"fill:none;stroke:#2ca02c;stroke-linecap:square;stroke-width:1.5;\"/>\r\n",
       "    </g>\r\n",
       "    <g id=\"line2d_28\"/>\r\n",
       "    <g id=\"text_20\">\r\n",
       "     <!-- P(die=3) -->\r\n",
       "     <g transform=\"translate(332.089063 53.154687)scale(0.1 -0.1)\">\r\n",
       "      <use xlink:href=\"#DejaVuSans-80\"/>\r\n",
       "      <use x=\"60.302734\" xlink:href=\"#DejaVuSans-40\"/>\r\n",
       "      <use x=\"99.316406\" xlink:href=\"#DejaVuSans-100\"/>\r\n",
       "      <use x=\"162.792969\" xlink:href=\"#DejaVuSans-105\"/>\r\n",
       "      <use x=\"190.576172\" xlink:href=\"#DejaVuSans-101\"/>\r\n",
       "      <use x=\"252.099609\" xlink:href=\"#DejaVuSans-61\"/>\r\n",
       "      <use x=\"335.888672\" xlink:href=\"#DejaVuSans-51\"/>\r\n",
       "      <use x=\"399.511719\" xlink:href=\"#DejaVuSans-41\"/>\r\n",
       "     </g>\r\n",
       "    </g>\r\n",
       "    <g id=\"line2d_29\">\r\n",
       "     <path d=\"M 304.089063 64.332812 \r\n",
       "L 324.089063 64.332812 \r\n",
       "\" style=\"fill:none;stroke:#d62728;stroke-linecap:square;stroke-width:1.5;\"/>\r\n",
       "    </g>\r\n",
       "    <g id=\"line2d_30\"/>\r\n",
       "    <g id=\"text_21\">\r\n",
       "     <!-- P(die=4) -->\r\n",
       "     <g transform=\"translate(332.089063 67.832812)scale(0.1 -0.1)\">\r\n",
       "      <use xlink:href=\"#DejaVuSans-80\"/>\r\n",
       "      <use x=\"60.302734\" xlink:href=\"#DejaVuSans-40\"/>\r\n",
       "      <use x=\"99.316406\" xlink:href=\"#DejaVuSans-100\"/>\r\n",
       "      <use x=\"162.792969\" xlink:href=\"#DejaVuSans-105\"/>\r\n",
       "      <use x=\"190.576172\" xlink:href=\"#DejaVuSans-101\"/>\r\n",
       "      <use x=\"252.099609\" xlink:href=\"#DejaVuSans-61\"/>\r\n",
       "      <use x=\"335.888672\" xlink:href=\"#DejaVuSans-52\"/>\r\n",
       "      <use x=\"399.511719\" xlink:href=\"#DejaVuSans-41\"/>\r\n",
       "     </g>\r\n",
       "    </g>\r\n",
       "    <g id=\"line2d_31\">\r\n",
       "     <path d=\"M 304.089063 79.010937 \r\n",
       "L 324.089063 79.010937 \r\n",
       "\" style=\"fill:none;stroke:#9467bd;stroke-linecap:square;stroke-width:1.5;\"/>\r\n",
       "    </g>\r\n",
       "    <g id=\"line2d_32\"/>\r\n",
       "    <g id=\"text_22\">\r\n",
       "     <!-- P(die=5) -->\r\n",
       "     <g transform=\"translate(332.089063 82.510937)scale(0.1 -0.1)\">\r\n",
       "      <use xlink:href=\"#DejaVuSans-80\"/>\r\n",
       "      <use x=\"60.302734\" xlink:href=\"#DejaVuSans-40\"/>\r\n",
       "      <use x=\"99.316406\" xlink:href=\"#DejaVuSans-100\"/>\r\n",
       "      <use x=\"162.792969\" xlink:href=\"#DejaVuSans-105\"/>\r\n",
       "      <use x=\"190.576172\" xlink:href=\"#DejaVuSans-101\"/>\r\n",
       "      <use x=\"252.099609\" xlink:href=\"#DejaVuSans-61\"/>\r\n",
       "      <use x=\"335.888672\" xlink:href=\"#DejaVuSans-53\"/>\r\n",
       "      <use x=\"399.511719\" xlink:href=\"#DejaVuSans-41\"/>\r\n",
       "     </g>\r\n",
       "    </g>\r\n",
       "    <g id=\"line2d_33\">\r\n",
       "     <path d=\"M 304.089063 93.689062 \r\n",
       "L 324.089063 93.689062 \r\n",
       "\" style=\"fill:none;stroke:#8c564b;stroke-linecap:square;stroke-width:1.5;\"/>\r\n",
       "    </g>\r\n",
       "    <g id=\"line2d_34\"/>\r\n",
       "    <g id=\"text_23\">\r\n",
       "     <!-- P(die=6) -->\r\n",
       "     <defs>\r\n",
       "      <path d=\"M 33.015625 40.375 \r\n",
       "Q 26.375 40.375 22.484375 35.828125 \r\n",
       "Q 18.609375 31.296875 18.609375 23.390625 \r\n",
       "Q 18.609375 15.53125 22.484375 10.953125 \r\n",
       "Q 26.375 6.390625 33.015625 6.390625 \r\n",
       "Q 39.65625 6.390625 43.53125 10.953125 \r\n",
       "Q 47.40625 15.53125 47.40625 23.390625 \r\n",
       "Q 47.40625 31.296875 43.53125 35.828125 \r\n",
       "Q 39.65625 40.375 33.015625 40.375 \r\n",
       "z\r\n",
       "M 52.59375 71.296875 \r\n",
       "L 52.59375 62.3125 \r\n",
       "Q 48.875 64.0625 45.09375 64.984375 \r\n",
       "Q 41.3125 65.921875 37.59375 65.921875 \r\n",
       "Q 27.828125 65.921875 22.671875 59.328125 \r\n",
       "Q 17.53125 52.734375 16.796875 39.40625 \r\n",
       "Q 19.671875 43.65625 24.015625 45.921875 \r\n",
       "Q 28.375 48.1875 33.59375 48.1875 \r\n",
       "Q 44.578125 48.1875 50.953125 41.515625 \r\n",
       "Q 57.328125 34.859375 57.328125 23.390625 \r\n",
       "Q 57.328125 12.15625 50.6875 5.359375 \r\n",
       "Q 44.046875 -1.421875 33.015625 -1.421875 \r\n",
       "Q 20.359375 -1.421875 13.671875 8.265625 \r\n",
       "Q 6.984375 17.96875 6.984375 36.375 \r\n",
       "Q 6.984375 53.65625 15.1875 63.9375 \r\n",
       "Q 23.390625 74.21875 37.203125 74.21875 \r\n",
       "Q 40.921875 74.21875 44.703125 73.484375 \r\n",
       "Q 48.484375 72.75 52.59375 71.296875 \r\n",
       "z\r\n",
       "\" id=\"DejaVuSans-54\"/>\r\n",
       "     </defs>\r\n",
       "     <g transform=\"translate(332.089063 97.189062)scale(0.1 -0.1)\">\r\n",
       "      <use xlink:href=\"#DejaVuSans-80\"/>\r\n",
       "      <use x=\"60.302734\" xlink:href=\"#DejaVuSans-40\"/>\r\n",
       "      <use x=\"99.316406\" xlink:href=\"#DejaVuSans-100\"/>\r\n",
       "      <use x=\"162.792969\" xlink:href=\"#DejaVuSans-105\"/>\r\n",
       "      <use x=\"190.576172\" xlink:href=\"#DejaVuSans-101\"/>\r\n",
       "      <use x=\"252.099609\" xlink:href=\"#DejaVuSans-61\"/>\r\n",
       "      <use x=\"335.888672\" xlink:href=\"#DejaVuSans-54\"/>\r\n",
       "      <use x=\"399.511719\" xlink:href=\"#DejaVuSans-41\"/>\r\n",
       "     </g>\r\n",
       "    </g>\r\n",
       "   </g>\r\n",
       "  </g>\r\n",
       " </g>\r\n",
       " <defs>\r\n",
       "  <clipPath id=\"p84dca810d5\">\r\n",
       "   <rect height=\"244.62\" width=\"334.8\" x=\"50.14375\" y=\"7.2\"/>\r\n",
       "  </clipPath>\r\n",
       " </defs>\r\n",
       "</svg>\r\n"
      ],
      "text/plain": [
       "<Figure size 432x324 with 1 Axes>"
      ]
     },
     "metadata": {
      "needs_background": "light"
     },
     "output_type": "display_data"
    }
   ],
   "source": [
    "print(\"Done by Bohdan Levytskyi \", datetime.now())\n",
    "counts = multinomial.Multinomial(10, fair_probs).sample((500,))\n",
    "cum_counts = counts.cumsum(dim=0)\n",
    "estimates = cum_counts / cum_counts.sum(dim=1, keepdims=True)\n",
    "\n",
    "d2l.set_figsize((6, 4.5))\n",
    "for i in range(6):\n",
    "    d2l.plt.plot(estimates[:, i].numpy(), label=(\"P(die=\" + str(i + 1) + \")\"))\n",
    "d2l.plt.axhline(y=0.167, color='black', linestyle='dashed')\n",
    "d2l.plt.gca().set_xlabel('Groups of experiments')\n",
    "d2l.plt.gca().set_ylabel('Estimated probability')\n",
    "d2l.plt.legend();"
   ]
  },
  {
   "cell_type": "markdown",
   "metadata": {},
   "source": [
    "# 2.7.1. Finding All the Functions and Classes in a Module"
   ]
  },
  {
   "cell_type": "code",
   "execution_count": 180,
   "metadata": {},
   "outputs": [
    {
     "name": "stdout",
     "output_type": "stream",
     "text": [
      "Done by Bohdan Levytskyi  2021-09-12 20:30:13.883444\n",
      "['AbsTransform', 'AffineTransform', 'Bernoulli', 'Beta', 'Binomial', 'CatTransform', 'Categorical', 'Cauchy', 'Chi2', 'ComposeTransform', 'ContinuousBernoulli', 'Dirichlet', 'Distribution', 'ExpTransform', 'Exponential', 'ExponentialFamily', 'FisherSnedecor', 'Gamma', 'Geometric', 'Gumbel', 'HalfCauchy', 'HalfNormal', 'Independent', 'Laplace', 'LogNormal', 'LogisticNormal', 'LowRankMultivariateNormal', 'LowerCholeskyTransform', 'MixtureSameFamily', 'Multinomial', 'MultivariateNormal', 'NegativeBinomial', 'Normal', 'OneHotCategorical', 'Pareto', 'Poisson', 'PowerTransform', 'RelaxedBernoulli', 'RelaxedOneHotCategorical', 'SigmoidTransform', 'SoftmaxTransform', 'StackTransform', 'StickBreakingTransform', 'StudentT', 'TanhTransform', 'Transform', 'TransformedDistribution', 'Uniform', 'VonMises', 'Weibull', '__all__', '__builtins__', '__cached__', '__doc__', '__file__', '__loader__', '__name__', '__package__', '__path__', '__spec__', 'bernoulli', 'beta', 'biject_to', 'binomial', 'categorical', 'cauchy', 'chi2', 'constraint_registry', 'constraints', 'continuous_bernoulli', 'dirichlet', 'distribution', 'exp_family', 'exponential', 'fishersnedecor', 'gamma', 'geometric', 'gumbel', 'half_cauchy', 'half_normal', 'identity_transform', 'independent', 'kl', 'kl_divergence', 'laplace', 'log_normal', 'logistic_normal', 'lowrank_multivariate_normal', 'mixture_same_family', 'multinomial', 'multivariate_normal', 'negative_binomial', 'normal', 'one_hot_categorical', 'pareto', 'poisson', 'register_kl', 'relaxed_bernoulli', 'relaxed_categorical', 'studentT', 'transform_to', 'transformed_distribution', 'transforms', 'uniform', 'utils', 'von_mises', 'weibull']\n"
     ]
    }
   ],
   "source": [
    "print(\"Done by Bohdan Levytskyi \", datetime.now())\n",
    "import torch\n",
    "\n",
    "print(dir(torch.distributions))"
   ]
  },
  {
   "cell_type": "markdown",
   "metadata": {},
   "source": [
    "# 2.7.2. Finding the Usage of Specific Functions and Classes"
   ]
  },
  {
   "cell_type": "code",
   "execution_count": 181,
   "metadata": {},
   "outputs": [
    {
     "name": "stdout",
     "output_type": "stream",
     "text": [
      "Done by Bohdan Levytskyi  2021-09-12 20:30:18.770672\n",
      "Help on built-in function ones:\n",
      "\n",
      "ones(...)\n",
      "    ones(*size, *, out=None, dtype=None, layout=torch.strided, device=None, requires_grad=False) -> Tensor\n",
      "    \n",
      "    Returns a tensor filled with the scalar value `1`, with the shape defined\n",
      "    by the variable argument :attr:`size`.\n",
      "    \n",
      "    Args:\n",
      "        size (int...): a sequence of integers defining the shape of the output tensor.\n",
      "            Can be a variable number of arguments or a collection like a list or tuple.\n",
      "        out (Tensor, optional): the output tensor.\n",
      "        dtype (:class:`torch.dtype`, optional): the desired data type of returned tensor.\n",
      "            Default: if ``None``, uses a global default (see :func:`torch.set_default_tensor_type`).\n",
      "        layout (:class:`torch.layout`, optional): the desired layout of returned Tensor.\n",
      "            Default: ``torch.strided``.\n",
      "        device (:class:`torch.device`, optional): the desired device of returned tensor.\n",
      "            Default: if ``None``, uses the current device for the default tensor type\n",
      "            (see :func:`torch.set_default_tensor_type`). :attr:`device` will be the CPU\n",
      "            for CPU tensor types and the current CUDA device for CUDA tensor types.\n",
      "        requires_grad (bool, optional): If autograd should record operations on the\n",
      "            returned tensor. Default: ``False``.\n",
      "    \n",
      "    Example::\n",
      "    \n",
      "        >>> torch.ones(2, 3)\n",
      "        tensor([[ 1.,  1.,  1.],\n",
      "                [ 1.,  1.,  1.]])\n",
      "    \n",
      "        >>> torch.ones(5)\n",
      "        tensor([ 1.,  1.,  1.,  1.,  1.])\n",
      "\n"
     ]
    }
   ],
   "source": [
    "print(\"Done by Bohdan Levytskyi \", datetime.now())\n",
    "help(torch.ones)"
   ]
  },
  {
   "cell_type": "code",
   "execution_count": 182,
   "metadata": {},
   "outputs": [
    {
     "name": "stdout",
     "output_type": "stream",
     "text": [
      "Done by Bohdan Levytskyi  2021-09-12 20:30:21.583410\n",
      "Help on built-in function ones:\n",
      "\n",
      "ones(...)\n",
      "    ones(*size, *, out=None, dtype=None, layout=torch.strided, device=None, requires_grad=False) -> Tensor\n",
      "    \n",
      "    Returns a tensor filled with the scalar value `1`, with the shape defined\n",
      "    by the variable argument :attr:`size`.\n",
      "    \n",
      "    Args:\n",
      "        size (int...): a sequence of integers defining the shape of the output tensor.\n",
      "            Can be a variable number of arguments or a collection like a list or tuple.\n",
      "        out (Tensor, optional): the output tensor.\n",
      "        dtype (:class:`torch.dtype`, optional): the desired data type of returned tensor.\n",
      "            Default: if ``None``, uses a global default (see :func:`torch.set_default_tensor_type`).\n",
      "        layout (:class:`torch.layout`, optional): the desired layout of returned Tensor.\n",
      "            Default: ``torch.strided``.\n",
      "        device (:class:`torch.device`, optional): the desired device of returned tensor.\n",
      "            Default: if ``None``, uses the current device for the default tensor type\n",
      "            (see :func:`torch.set_default_tensor_type`). :attr:`device` will be the CPU\n",
      "            for CPU tensor types and the current CUDA device for CUDA tensor types.\n",
      "        requires_grad (bool, optional): If autograd should record operations on the\n",
      "            returned tensor. Default: ``False``.\n",
      "    \n",
      "    Example::\n",
      "    \n",
      "        >>> torch.ones(2, 3)\n",
      "        tensor([[ 1.,  1.,  1.],\n",
      "                [ 1.,  1.,  1.]])\n",
      "    \n",
      "        >>> torch.ones(5)\n",
      "        tensor([ 1.,  1.,  1.,  1.,  1.])\n",
      "\n"
     ]
    }
   ],
   "source": [
    "print(\"Done by Bohdan Levytskyi \", datetime.now())\n",
    "help(torch.ones)"
   ]
  },
  {
   "cell_type": "code",
   "execution_count": null,
   "metadata": {},
   "outputs": [],
   "source": []
  }
 ],
 "metadata": {
  "kernelspec": {
   "display_name": "Python 3",
   "language": "python",
   "name": "python3"
  },
  "language_info": {
   "codemirror_mode": {
    "name": "ipython",
    "version": 3
   },
   "file_extension": ".py",
   "mimetype": "text/x-python",
   "name": "python",
   "nbconvert_exporter": "python",
   "pygments_lexer": "ipython3",
   "version": "3.8.3"
  }
 },
 "nbformat": 4,
 "nbformat_minor": 4
}
